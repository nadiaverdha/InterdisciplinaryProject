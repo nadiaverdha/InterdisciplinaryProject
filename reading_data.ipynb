{
 "cells": [
  {
   "cell_type": "markdown",
   "metadata": {},
   "source": [
    "### Monitoring of the water extent of Lake Neusiedl and the Lacken:"
   ]
  },
  {
   "cell_type": "markdown",
   "metadata": {},
   "source": "#### Libraries"
  },
  {
   "cell_type": "code",
   "metadata": {
    "ExecuteTime": {
     "end_time": "2024-08-06T18:00:20.428416Z",
     "start_time": "2024-08-06T18:00:19.901470Z"
    }
   },
   "source": [
    "import os\n",
    "import glob\n",
    "from osgeo import gdal\n",
    "import pprint\n",
    "import numpy as np\n",
    "from yeoda.datacube import DataCubeReader,DataCubeWriter\n",
    "from geopathfinder.naming_conventions.yeoda_naming import YeodaFilename\n",
    "import pandas as pd\n",
    "import time\n",
    "import rasterio\n",
    "import glob\n",
    "from rasterio.plot import show\n",
    "import rasterio\n",
    "import numpy as np\n",
    "from rasterio.merge import merge\n",
    "from rasterio.plot import show\n",
    "from osgeo import gdal\n",
    "from data_func import  merge_files,merge_files_and_split\n",
    "import warnings"
   ],
   "outputs": [],
   "execution_count": 1
  },
  {
   "metadata": {
    "ExecuteTime": {
     "end_time": "2024-08-06T18:00:21.086787Z",
     "start_time": "2024-08-06T18:00:21.083971Z"
    }
   },
   "cell_type": "code",
   "source": "# pip install tifftools",
   "outputs": [],
   "execution_count": 2
  },
  {
   "metadata": {
    "ExecuteTime": {
     "end_time": "2024-08-06T18:00:21.543071Z",
     "start_time": "2024-08-06T18:00:21.541198Z"
    }
   },
   "cell_type": "code",
   "source": "warnings.simplefilter(action='ignore', category=FutureWarning)\n",
   "outputs": [],
   "execution_count": 3
  },
  {
   "cell_type": "markdown",
   "metadata": {},
   "source": [
    "\n",
    "\n",
    "#### Reading Data"
   ]
  },
  {
   "cell_type": "code",
   "metadata": {
    "ExecuteTime": {
     "end_time": "2024-08-06T18:00:22.731725Z",
     "start_time": "2024-08-06T18:00:22.728633Z"
    }
   },
   "source": [
    "tile_1 = r\"./e11739391/Sentinel-1_CSAR/EQUI7_EU010M/E053N015T1\"\n",
    "tile_1 = glob.glob(os.path.join(tile_1, \"*\"))"
   ],
   "outputs": [],
   "execution_count": 4
  },
  {
   "cell_type": "code",
   "metadata": {
    "ExecuteTime": {
     "end_time": "2024-08-06T18:00:23.138483Z",
     "start_time": "2024-08-06T18:00:23.132354Z"
    }
   },
   "source": [
    "tile_2 = r\"./e11739391/Sentinel-1_CSAR/EQUI7_EU010M/E052N015T1\"\n",
    "tile_2 = glob.glob(os.path.join(tile_2, \"*\"))"
   ],
   "outputs": [],
   "execution_count": 5
  },
  {
   "cell_type": "code",
   "metadata": {
    "ExecuteTime": {
     "end_time": "2024-08-06T18:00:23.536088Z",
     "start_time": "2024-08-06T18:00:23.533676Z"
    }
   },
   "source": [
    "mask = r\"./e11739391/reference/EQUI7_EU010M/E052N015T1\"\n",
    "mask = glob.glob(os.path.join(mask, \"*\"))"
   ],
   "outputs": [],
   "execution_count": 6
  },
  {
   "cell_type": "code",
   "metadata": {
    "ExecuteTime": {
     "end_time": "2024-08-06T18:00:24.931995Z",
     "start_time": "2024-08-06T18:00:24.343287Z"
    }
   },
   "source": [
    "dimensions = [\"time\", \"tile_name\", \"var_name\", \"sensor_field\", \"data_version\"]\n",
    "tile1_reader = DataCubeReader.from_filepaths(tile_1, fn_class=YeodaFilename, dimensions=dimensions,\n",
    "                                             stack_dimension=\"time\", tile_dimension=\"tile_name\")\n",
    "tile1_reader.file_register.head(5)"
   ],
   "outputs": [
    {
     "data": {
      "text/plain": [
       "                                            filepath data_version   tile_name  \\\n",
       "0  ./e11739391/Sentinel-1_CSAR/EQUI7_EU010M/E053N...      V1M0R01  E053N015T1   \n",
       "1  ./e11739391/Sentinel-1_CSAR/EQUI7_EU010M/E053N...      V1M0R01  E053N015T1   \n",
       "2  ./e11739391/Sentinel-1_CSAR/EQUI7_EU010M/E053N...      V1M0R01  E053N015T1   \n",
       "3  ./e11739391/Sentinel-1_CSAR/EQUI7_EU010M/E053N...      V1M0R01  E053N015T1   \n",
       "4  ./e11739391/Sentinel-1_CSAR/EQUI7_EU010M/E053N...      V1M0R01  E053N015T1   \n",
       "\n",
       "  sensor_field var_name                time  \n",
       "0    S1AIWGRDH    GMR40 2022-09-22 16:42:50  \n",
       "1    S1AIWGRDH    GMR40 2022-01-17 05:02:29  \n",
       "2    S1AIWGRDH    GMR40 2022-06-10 05:02:33  \n",
       "3    S1AIWGRDH    GMR40 2022-04-11 05:02:29  \n",
       "4    S1AIWGRDH    GMR40 2022-12-07 05:02:12  "
      ],
      "text/html": [
       "<div>\n",
       "<style scoped>\n",
       "    .dataframe tbody tr th:only-of-type {\n",
       "        vertical-align: middle;\n",
       "    }\n",
       "\n",
       "    .dataframe tbody tr th {\n",
       "        vertical-align: top;\n",
       "    }\n",
       "\n",
       "    .dataframe thead th {\n",
       "        text-align: right;\n",
       "    }\n",
       "</style>\n",
       "<table border=\"1\" class=\"dataframe\">\n",
       "  <thead>\n",
       "    <tr style=\"text-align: right;\">\n",
       "      <th></th>\n",
       "      <th>filepath</th>\n",
       "      <th>data_version</th>\n",
       "      <th>tile_name</th>\n",
       "      <th>sensor_field</th>\n",
       "      <th>var_name</th>\n",
       "      <th>time</th>\n",
       "    </tr>\n",
       "  </thead>\n",
       "  <tbody>\n",
       "    <tr>\n",
       "      <th>0</th>\n",
       "      <td>./e11739391/Sentinel-1_CSAR/EQUI7_EU010M/E053N...</td>\n",
       "      <td>V1M0R01</td>\n",
       "      <td>E053N015T1</td>\n",
       "      <td>S1AIWGRDH</td>\n",
       "      <td>GMR40</td>\n",
       "      <td>2022-09-22 16:42:50</td>\n",
       "    </tr>\n",
       "    <tr>\n",
       "      <th>1</th>\n",
       "      <td>./e11739391/Sentinel-1_CSAR/EQUI7_EU010M/E053N...</td>\n",
       "      <td>V1M0R01</td>\n",
       "      <td>E053N015T1</td>\n",
       "      <td>S1AIWGRDH</td>\n",
       "      <td>GMR40</td>\n",
       "      <td>2022-01-17 05:02:29</td>\n",
       "    </tr>\n",
       "    <tr>\n",
       "      <th>2</th>\n",
       "      <td>./e11739391/Sentinel-1_CSAR/EQUI7_EU010M/E053N...</td>\n",
       "      <td>V1M0R01</td>\n",
       "      <td>E053N015T1</td>\n",
       "      <td>S1AIWGRDH</td>\n",
       "      <td>GMR40</td>\n",
       "      <td>2022-06-10 05:02:33</td>\n",
       "    </tr>\n",
       "    <tr>\n",
       "      <th>3</th>\n",
       "      <td>./e11739391/Sentinel-1_CSAR/EQUI7_EU010M/E053N...</td>\n",
       "      <td>V1M0R01</td>\n",
       "      <td>E053N015T1</td>\n",
       "      <td>S1AIWGRDH</td>\n",
       "      <td>GMR40</td>\n",
       "      <td>2022-04-11 05:02:29</td>\n",
       "    </tr>\n",
       "    <tr>\n",
       "      <th>4</th>\n",
       "      <td>./e11739391/Sentinel-1_CSAR/EQUI7_EU010M/E053N...</td>\n",
       "      <td>V1M0R01</td>\n",
       "      <td>E053N015T1</td>\n",
       "      <td>S1AIWGRDH</td>\n",
       "      <td>GMR40</td>\n",
       "      <td>2022-12-07 05:02:12</td>\n",
       "    </tr>\n",
       "  </tbody>\n",
       "</table>\n",
       "</div>"
      ]
     },
     "execution_count": 7,
     "metadata": {},
     "output_type": "execute_result"
    }
   ],
   "execution_count": 7
  },
  {
   "metadata": {
    "ExecuteTime": {
     "end_time": "2024-08-06T18:00:25.608097Z",
     "start_time": "2024-08-06T18:00:25.054831Z"
    }
   },
   "cell_type": "code",
   "source": [
    "\n",
    "tile2_reader = DataCubeReader.from_filepaths(tile_2, fn_class=YeodaFilename, dimensions=dimensions,\n",
    "                                             stack_dimension=\"time\", tile_dimension=\"tile_name\")\n",
    "tile2_reader.file_register.head(5)"
   ],
   "outputs": [
    {
     "data": {
      "text/plain": [
       "                                            filepath data_version   tile_name  \\\n",
       "0  ./e11739391/Sentinel-1_CSAR/EQUI7_EU010M/E052N...      V1M0R01  E052N015T1   \n",
       "1  ./e11739391/Sentinel-1_CSAR/EQUI7_EU010M/E052N...      V1M0R01  E052N015T1   \n",
       "2  ./e11739391/Sentinel-1_CSAR/EQUI7_EU010M/E052N...      V1M0R01  E052N015T1   \n",
       "3  ./e11739391/Sentinel-1_CSAR/EQUI7_EU010M/E052N...      V1M0R01  E052N015T1   \n",
       "4  ./e11739391/Sentinel-1_CSAR/EQUI7_EU010M/E052N...      V1M0R01  E052N015T1   \n",
       "\n",
       "  sensor_field var_name                time  \n",
       "0    S1AIWGRDH    GMR40 2022-06-10 05:02:08  \n",
       "1    S1AIWGRDH    GMR40 2022-12-07 05:02:37  \n",
       "2    S1AIWGRDH    GMR40 2022-10-20 05:02:13  \n",
       "3    S1AIWGRDH    GMR40 2022-02-10 05:02:04  \n",
       "4    S1AIWGRDH    GMR40 2022-03-06 05:02:03  "
      ],
      "text/html": [
       "<div>\n",
       "<style scoped>\n",
       "    .dataframe tbody tr th:only-of-type {\n",
       "        vertical-align: middle;\n",
       "    }\n",
       "\n",
       "    .dataframe tbody tr th {\n",
       "        vertical-align: top;\n",
       "    }\n",
       "\n",
       "    .dataframe thead th {\n",
       "        text-align: right;\n",
       "    }\n",
       "</style>\n",
       "<table border=\"1\" class=\"dataframe\">\n",
       "  <thead>\n",
       "    <tr style=\"text-align: right;\">\n",
       "      <th></th>\n",
       "      <th>filepath</th>\n",
       "      <th>data_version</th>\n",
       "      <th>tile_name</th>\n",
       "      <th>sensor_field</th>\n",
       "      <th>var_name</th>\n",
       "      <th>time</th>\n",
       "    </tr>\n",
       "  </thead>\n",
       "  <tbody>\n",
       "    <tr>\n",
       "      <th>0</th>\n",
       "      <td>./e11739391/Sentinel-1_CSAR/EQUI7_EU010M/E052N...</td>\n",
       "      <td>V1M0R01</td>\n",
       "      <td>E052N015T1</td>\n",
       "      <td>S1AIWGRDH</td>\n",
       "      <td>GMR40</td>\n",
       "      <td>2022-06-10 05:02:08</td>\n",
       "    </tr>\n",
       "    <tr>\n",
       "      <th>1</th>\n",
       "      <td>./e11739391/Sentinel-1_CSAR/EQUI7_EU010M/E052N...</td>\n",
       "      <td>V1M0R01</td>\n",
       "      <td>E052N015T1</td>\n",
       "      <td>S1AIWGRDH</td>\n",
       "      <td>GMR40</td>\n",
       "      <td>2022-12-07 05:02:37</td>\n",
       "    </tr>\n",
       "    <tr>\n",
       "      <th>2</th>\n",
       "      <td>./e11739391/Sentinel-1_CSAR/EQUI7_EU010M/E052N...</td>\n",
       "      <td>V1M0R01</td>\n",
       "      <td>E052N015T1</td>\n",
       "      <td>S1AIWGRDH</td>\n",
       "      <td>GMR40</td>\n",
       "      <td>2022-10-20 05:02:13</td>\n",
       "    </tr>\n",
       "    <tr>\n",
       "      <th>3</th>\n",
       "      <td>./e11739391/Sentinel-1_CSAR/EQUI7_EU010M/E052N...</td>\n",
       "      <td>V1M0R01</td>\n",
       "      <td>E052N015T1</td>\n",
       "      <td>S1AIWGRDH</td>\n",
       "      <td>GMR40</td>\n",
       "      <td>2022-02-10 05:02:04</td>\n",
       "    </tr>\n",
       "    <tr>\n",
       "      <th>4</th>\n",
       "      <td>./e11739391/Sentinel-1_CSAR/EQUI7_EU010M/E052N...</td>\n",
       "      <td>V1M0R01</td>\n",
       "      <td>E052N015T1</td>\n",
       "      <td>S1AIWGRDH</td>\n",
       "      <td>GMR40</td>\n",
       "      <td>2022-03-06 05:02:03</td>\n",
       "    </tr>\n",
       "  </tbody>\n",
       "</table>\n",
       "</div>"
      ]
     },
     "execution_count": 8,
     "metadata": {},
     "output_type": "execute_result"
    }
   ],
   "execution_count": 8
  },
  {
   "metadata": {
    "ExecuteTime": {
     "end_time": "2024-08-06T18:00:25.858414Z",
     "start_time": "2024-08-06T18:00:25.854588Z"
    }
   },
   "cell_type": "code",
   "source": [
    "\n",
    "tile1_reader.file_register.sort_values(by = 'time')['time'].unique()"
   ],
   "outputs": [
    {
     "data": {
      "text/plain": [
       "<DatetimeArray>\n",
       "['2022-01-17 05:02:04', '2022-01-17 05:02:29', '2022-02-10 05:02:04',\n",
       " '2022-02-10 05:02:29', '2022-03-06 05:02:03', '2022-03-06 05:02:28',\n",
       " '2022-04-11 05:02:04', '2022-04-11 05:02:29', '2022-05-17 05:02:05',\n",
       " '2022-05-17 05:02:30', '2022-06-10 05:02:08', '2022-06-10 05:02:33',\n",
       " '2022-07-24 16:42:48', '2022-07-24 16:43:13', '2022-08-05 16:42:49',\n",
       " '2022-08-05 16:43:14', '2022-09-22 16:42:50', '2022-09-22 16:43:15',\n",
       " '2022-10-20 05:02:13', '2022-10-20 05:02:38', '2022-11-01 05:02:13',\n",
       " '2022-11-01 05:02:38', '2022-12-07 05:02:12', '2022-12-07 05:02:37']\n",
       "Length: 24, dtype: datetime64[ns]"
      ]
     },
     "execution_count": 9,
     "metadata": {},
     "output_type": "execute_result"
    }
   ],
   "execution_count": 9
  },
  {
   "metadata": {},
   "cell_type": "markdown",
   "source": "#### Merging files"
  },
  {
   "metadata": {
    "ExecuteTime": {
     "end_time": "2024-08-06T18:00:27.762261Z",
     "start_time": "2024-08-06T18:00:27.757982Z"
    }
   },
   "cell_type": "code",
   "source": "df_concat = pd.concat([tile1_reader.file_register, tile2_reader.file_register], axis=0)",
   "outputs": [],
   "execution_count": 10
  },
  {
   "metadata": {
    "ExecuteTime": {
     "end_time": "2024-08-06T18:00:28.310231Z",
     "start_time": "2024-08-06T18:00:28.304241Z"
    }
   },
   "cell_type": "code",
   "source": "df_concat.head(5)",
   "outputs": [
    {
     "data": {
      "text/plain": [
       "                                            filepath data_version   tile_name  \\\n",
       "0  ./e11739391/Sentinel-1_CSAR/EQUI7_EU010M/E053N...      V1M0R01  E053N015T1   \n",
       "1  ./e11739391/Sentinel-1_CSAR/EQUI7_EU010M/E053N...      V1M0R01  E053N015T1   \n",
       "2  ./e11739391/Sentinel-1_CSAR/EQUI7_EU010M/E053N...      V1M0R01  E053N015T1   \n",
       "3  ./e11739391/Sentinel-1_CSAR/EQUI7_EU010M/E053N...      V1M0R01  E053N015T1   \n",
       "4  ./e11739391/Sentinel-1_CSAR/EQUI7_EU010M/E053N...      V1M0R01  E053N015T1   \n",
       "\n",
       "  sensor_field var_name                time  \n",
       "0    S1AIWGRDH    GMR40 2022-09-22 16:42:50  \n",
       "1    S1AIWGRDH    GMR40 2022-01-17 05:02:29  \n",
       "2    S1AIWGRDH    GMR40 2022-06-10 05:02:33  \n",
       "3    S1AIWGRDH    GMR40 2022-04-11 05:02:29  \n",
       "4    S1AIWGRDH    GMR40 2022-12-07 05:02:12  "
      ],
      "text/html": [
       "<div>\n",
       "<style scoped>\n",
       "    .dataframe tbody tr th:only-of-type {\n",
       "        vertical-align: middle;\n",
       "    }\n",
       "\n",
       "    .dataframe tbody tr th {\n",
       "        vertical-align: top;\n",
       "    }\n",
       "\n",
       "    .dataframe thead th {\n",
       "        text-align: right;\n",
       "    }\n",
       "</style>\n",
       "<table border=\"1\" class=\"dataframe\">\n",
       "  <thead>\n",
       "    <tr style=\"text-align: right;\">\n",
       "      <th></th>\n",
       "      <th>filepath</th>\n",
       "      <th>data_version</th>\n",
       "      <th>tile_name</th>\n",
       "      <th>sensor_field</th>\n",
       "      <th>var_name</th>\n",
       "      <th>time</th>\n",
       "    </tr>\n",
       "  </thead>\n",
       "  <tbody>\n",
       "    <tr>\n",
       "      <th>0</th>\n",
       "      <td>./e11739391/Sentinel-1_CSAR/EQUI7_EU010M/E053N...</td>\n",
       "      <td>V1M0R01</td>\n",
       "      <td>E053N015T1</td>\n",
       "      <td>S1AIWGRDH</td>\n",
       "      <td>GMR40</td>\n",
       "      <td>2022-09-22 16:42:50</td>\n",
       "    </tr>\n",
       "    <tr>\n",
       "      <th>1</th>\n",
       "      <td>./e11739391/Sentinel-1_CSAR/EQUI7_EU010M/E053N...</td>\n",
       "      <td>V1M0R01</td>\n",
       "      <td>E053N015T1</td>\n",
       "      <td>S1AIWGRDH</td>\n",
       "      <td>GMR40</td>\n",
       "      <td>2022-01-17 05:02:29</td>\n",
       "    </tr>\n",
       "    <tr>\n",
       "      <th>2</th>\n",
       "      <td>./e11739391/Sentinel-1_CSAR/EQUI7_EU010M/E053N...</td>\n",
       "      <td>V1M0R01</td>\n",
       "      <td>E053N015T1</td>\n",
       "      <td>S1AIWGRDH</td>\n",
       "      <td>GMR40</td>\n",
       "      <td>2022-06-10 05:02:33</td>\n",
       "    </tr>\n",
       "    <tr>\n",
       "      <th>3</th>\n",
       "      <td>./e11739391/Sentinel-1_CSAR/EQUI7_EU010M/E053N...</td>\n",
       "      <td>V1M0R01</td>\n",
       "      <td>E053N015T1</td>\n",
       "      <td>S1AIWGRDH</td>\n",
       "      <td>GMR40</td>\n",
       "      <td>2022-04-11 05:02:29</td>\n",
       "    </tr>\n",
       "    <tr>\n",
       "      <th>4</th>\n",
       "      <td>./e11739391/Sentinel-1_CSAR/EQUI7_EU010M/E053N...</td>\n",
       "      <td>V1M0R01</td>\n",
       "      <td>E053N015T1</td>\n",
       "      <td>S1AIWGRDH</td>\n",
       "      <td>GMR40</td>\n",
       "      <td>2022-12-07 05:02:12</td>\n",
       "    </tr>\n",
       "  </tbody>\n",
       "</table>\n",
       "</div>"
      ]
     },
     "execution_count": 11,
     "metadata": {},
     "output_type": "execute_result"
    }
   ],
   "execution_count": 11
  },
  {
   "metadata": {
    "ExecuteTime": {
     "end_time": "2024-08-06T18:00:29.433633Z",
     "start_time": "2024-08-06T18:00:29.431196Z"
    }
   },
   "cell_type": "code",
   "source": "# merge_files(df_concat,'VV')",
   "outputs": [],
   "execution_count": 12
  },
  {
   "metadata": {
    "ExecuteTime": {
     "end_time": "2024-08-06T18:00:29.918979Z",
     "start_time": "2024-08-06T18:00:29.916692Z"
    }
   },
   "cell_type": "code",
   "source": "# merge_files_new(df_concat,'VH')",
   "outputs": [],
   "execution_count": 13
  },
  {
   "metadata": {
    "ExecuteTime": {
     "end_time": "2024-08-06T18:01:18.740302Z",
     "start_time": "2024-08-06T18:00:30.793497Z"
    }
   },
   "cell_type": "code",
   "source": "merge_files_and_split(df_concat,'VV')",
   "outputs": [
    {
     "name": "stderr",
     "output_type": "stream",
     "text": [
      "/Users/nadia/PycharmProjects/InterdisciplinaryProject/data_func.py:41: SettingWithCopyWarning: \n",
      "A value is trying to be set on a copy of a slice from a DataFrame.\n",
      "Try using .loc[row_indexer,col_indexer] = value instead\n",
      "\n",
      "See the caveats in the documentation: https://pandas.pydata.org/pandas-docs/stable/user_guide/indexing.html#returning-a-view-versus-a-copy\n",
      "  grouped.loc[:, 'date'] = grouped['time'].dt.date\n"
     ]
    },
    {
     "name": "stdout",
     "output_type": "stream",
     "text": [
      "0...10...20...30...40...50...60...70...80...90...100 - done.\n",
      "0...10...20...30...40...50...60...70...80...90...100 - done.\n",
      "0...10...20...30...40...50...60...70...80...90...100 - done.\n",
      "0...10...20...30...40...50...60...70...80...90...100 - done.\n",
      "0...10...20...30...40...50...60...70...80...90...100 - done.\n",
      "0...10...20...30...40...50...60...70...80...90...100 - done.\n",
      "0...10...20...30...40...50...60...70...80...90...100 - done.\n",
      "0...10...20...30...40...50...60...70...80...90...100 - done.\n",
      "0...10...20...30...40...50...60...70...80...90...100 - done.\n",
      "0...10...20...30...40...50...60...70...80...90...100 - done.\n",
      "0...10...20...30...40...50...60...70...80...90...100 - done.\n",
      "0...10...20...30...40...50...60...70...80...90...100 - done.\n"
     ]
    }
   ],
   "execution_count": 14
  },
  {
   "metadata": {
    "ExecuteTime": {
     "end_time": "2024-08-06T18:03:47.444756Z",
     "start_time": "2024-08-06T18:02:59.456561Z"
    }
   },
   "cell_type": "code",
   "source": "merge_files_and_split(df_concat,'VH')",
   "outputs": [
    {
     "name": "stderr",
     "output_type": "stream",
     "text": [
      "/Users/nadia/PycharmProjects/InterdisciplinaryProject/data_func.py:41: SettingWithCopyWarning: \n",
      "A value is trying to be set on a copy of a slice from a DataFrame.\n",
      "Try using .loc[row_indexer,col_indexer] = value instead\n",
      "\n",
      "See the caveats in the documentation: https://pandas.pydata.org/pandas-docs/stable/user_guide/indexing.html#returning-a-view-versus-a-copy\n",
      "  grouped.loc[:, 'date'] = grouped['time'].dt.date\n"
     ]
    },
    {
     "name": "stdout",
     "output_type": "stream",
     "text": [
      "0...10...20...30...40...50...60...70...80...90...100 - done.\n",
      "0...10...20...30...40...50...60...70...80...90...100 - done.\n",
      "0...10...20...30...40...50...60...70...80...90...100 - done.\n",
      "0...10...20...30...40...50...60...70...80...90...100 - done.\n",
      "0...10...20...30...40...50...60...70...80...90...100 - done.\n",
      "0...10...20...30...40...50...60...70...80...90...100 - done.\n",
      "0...10...20...30...40...50...60...70...80...90...100 - done.\n",
      "0...10...20...30...40...50...60...70...80...90...100 - done.\n",
      "0...10...20...30...40...50...60...70...80...90...100 - done.\n",
      "0...10...20...30...40...50...60...70...80...90...100 - done.\n",
      "0...10...20...30...40...50...60...70...80...90...100 - done.\n",
      "0...10...20...30...40...50...60...70...80...90...100 - done.\n"
     ]
    }
   ],
   "execution_count": 15
  },
  {
   "metadata": {},
   "cell_type": "markdown",
   "source": "### Reading merged data"
  },
  {
   "metadata": {},
   "cell_type": "code",
   "outputs": [],
   "execution_count": null,
   "source": ""
  }
 ],
 "metadata": {
  "interpreter": {
   "hash": "a22dc5ae7fc477c7dc0ddcf7ca05df53916433d77549bc0f1c55442bcc548058"
  },
  "kernelspec": {
   "display_name": "Python 3.10.14 ('intproject')",
   "language": "python",
   "name": "python3"
  },
  "language_info": {
   "codemirror_mode": {
    "name": "ipython",
    "version": 3
   },
   "file_extension": ".py",
   "mimetype": "text/x-python",
   "name": "python",
   "nbconvert_exporter": "python",
   "pygments_lexer": "ipython3",
   "version": "3.10.14"
  },
  "orig_nbformat": 4
 },
 "nbformat": 4,
 "nbformat_minor": 2
}
