{
 "cells": [
  {
   "cell_type": "markdown",
   "metadata": {},
   "source": [
    "### Monitoring of the water extent of Lake Neusiedl and the Lacken:"
   ]
  },
  {
   "cell_type": "markdown",
   "metadata": {},
   "source": "#### Libraries"
  },
  {
   "cell_type": "code",
   "metadata": {
    "ExecuteTime": {
     "end_time": "2024-09-29T15:20:27.307700Z",
     "start_time": "2024-09-29T15:20:23.302543Z"
    }
   },
   "source": [
    "import os\n",
    "import glob\n",
    "from osgeo import gdal\n",
    "import pprint\n",
    "import numpy as np\n",
    "import matplotlib.pyplot as plt\n",
    "from yeoda.datacube import DataCubeReader,DataCubeWriter\n",
    "from geopathfinder.naming_conventions.yeoda_naming import YeodaFilename\n",
    "import pandas as pd\n",
    "import time\n",
    "import rasterio\n",
    "import glob\n",
    "from rasterio.plot import show\n",
    "import rasterio\n",
    "import numpy as np\n",
    "from rasterio.merge import merge\n",
    "from rasterio.plot import show\n",
    "from osgeo import gdal\n",
    "from data_func import  merge_files_and_split\n",
    "import warnings\n",
    "import numpy as np\n",
    "import glob\n",
    "from six.moves import xrange\n",
    "import scipy.ndimage as ndi\n",
    "import os\n",
    "import tensorflow as tf\n",
    "import torch \n",
    "from keras.preprocessing.image import ImageDataGenerator \n",
    "from keras.utils import img_to_array \n",
    "from torch.utils.data import TensorDataset, DataLoader, Dataset\n",
    "import cv2\n",
    "import shutil\n",
    "import albumentations as A\n",
    "\n",
    "from PIL import Image, ImageOps, ImageFile\n",
    "device = torch.device(\"cuda\" if torch.cuda.is_available() else \"cpu\")"
   ],
   "outputs": [],
   "execution_count": 1
  },
  {
   "metadata": {
    "ExecuteTime": {
     "end_time": "2024-09-29T15:20:27.312114Z",
     "start_time": "2024-09-29T15:20:27.308677Z"
    }
   },
   "cell_type": "code",
   "source": [
    "# pip install scipy\n",
    "seed = 42\n",
    "def set_seed(seed):\n",
    "    torch.manual_seed(seed)\n",
    "    torch.backends.cudnn.deterministic = True\n",
    "    torch.backends.cudnn.benchmark = False\n",
    "    np.random.seed(seed)\n",
    "\n",
    "set_seed(seed)"
   ],
   "outputs": [],
   "execution_count": 2
  },
  {
   "metadata": {
    "ExecuteTime": {
     "end_time": "2024-09-29T15:20:27.313838Z",
     "start_time": "2024-09-29T15:20:27.312569Z"
    }
   },
   "cell_type": "code",
   "source": [
    "\n",
    "warnings.simplefilter(action='ignore', category=FutureWarning)\n"
   ],
   "outputs": [],
   "execution_count": 3
  },
  {
   "metadata": {
    "ExecuteTime": {
     "end_time": "2024-09-29T15:17:48.201928Z",
     "start_time": "2024-09-29T15:17:48.200784Z"
    }
   },
   "cell_type": "code",
   "source": "",
   "outputs": [],
   "execution_count": 5
  },
  {
   "cell_type": "markdown",
   "metadata": {},
   "source": [
    "\n",
    "\n",
    "#### Reading Data"
   ]
  },
  {
   "cell_type": "code",
   "metadata": {
    "ExecuteTime": {
     "end_time": "2024-09-29T15:17:48.204418Z",
     "start_time": "2024-09-29T15:17:48.202412Z"
    }
   },
   "source": [
    "tile_1 = r\"./e11739391/Sentinel-1_CSAR/EQUI7_EU010M/E053N015T1\"\n",
    "tile_1 = glob.glob(os.path.join(tile_1, \"*\"))"
   ],
   "outputs": [],
   "execution_count": 6
  },
  {
   "cell_type": "code",
   "metadata": {
    "ExecuteTime": {
     "end_time": "2024-09-29T15:17:48.206667Z",
     "start_time": "2024-09-29T15:17:48.204885Z"
    }
   },
   "source": [
    "tile_2 = r\"./e11739391/Sentinel-1_CSAR/EQUI7_EU010M/E052N015T1\"\n",
    "tile_2 = glob.glob(os.path.join(tile_2, \"*\"))"
   ],
   "outputs": [],
   "execution_count": 7
  },
  {
   "cell_type": "code",
   "metadata": {
    "ExecuteTime": {
     "end_time": "2024-09-29T15:17:48.209355Z",
     "start_time": "2024-09-29T15:17:48.207100Z"
    }
   },
   "source": [
    "\n",
    "mask1 = r\"./e11739391/reference/EQUI7_EU010M/E052N015T1\"\n",
    "mask1 = glob.glob(os.path.join(mask1, \"*\"))\n",
    "\n",
    "mask2 = r\"./e11739391/reference/EQUI7_EU010M/E053N015T1\"\n",
    "mask2 = glob.glob(os.path.join(mask2, \"*\"))"
   ],
   "outputs": [],
   "execution_count": 8
  },
  {
   "cell_type": "code",
   "metadata": {
    "ExecuteTime": {
     "end_time": "2024-09-29T15:17:48.921379Z",
     "start_time": "2024-09-29T15:17:48.209777Z"
    }
   },
   "source": [
    "\n",
    "dimensions = [\"time\", \"tile_name\", \"var_name\", \"sensor_field\", \"data_version\"]\n",
    "tile1_reader = DataCubeReader.from_filepaths(tile_1, fn_class=YeodaFilename, dimensions=dimensions,\n",
    "                                             stack_dimension=\"time\", tile_dimension=\"tile_name\")\n",
    "tile1_reader.file_register.head(5)"
   ],
   "outputs": [
    {
     "data": {
      "text/plain": [
       "                                            filepath data_version var_name  \\\n",
       "0  ./e11739391/Sentinel-1_CSAR/EQUI7_EU010M/E053N...      V1M0R01    GMR40   \n",
       "1  ./e11739391/Sentinel-1_CSAR/EQUI7_EU010M/E053N...      V1M0R01    GMR40   \n",
       "2  ./e11739391/Sentinel-1_CSAR/EQUI7_EU010M/E053N...      V1M0R01    GMR40   \n",
       "3  ./e11739391/Sentinel-1_CSAR/EQUI7_EU010M/E053N...      V1M0R01    GMR40   \n",
       "4  ./e11739391/Sentinel-1_CSAR/EQUI7_EU010M/E053N...      V1M0R01    GMR40   \n",
       "\n",
       "    tile_name sensor_field                time  \n",
       "0  E053N015T1    S1AIWGRDH 2022-09-22 16:42:50  \n",
       "1  E053N015T1    S1AIWGRDH 2022-01-17 05:02:29  \n",
       "2  E053N015T1    S1AIWGRDH 2022-06-10 05:02:33  \n",
       "3  E053N015T1    S1AIWGRDH 2022-04-11 05:02:29  \n",
       "4  E053N015T1    S1AIWGRDH 2022-12-07 05:02:12  "
      ],
      "text/html": [
       "<div>\n",
       "<style scoped>\n",
       "    .dataframe tbody tr th:only-of-type {\n",
       "        vertical-align: middle;\n",
       "    }\n",
       "\n",
       "    .dataframe tbody tr th {\n",
       "        vertical-align: top;\n",
       "    }\n",
       "\n",
       "    .dataframe thead th {\n",
       "        text-align: right;\n",
       "    }\n",
       "</style>\n",
       "<table border=\"1\" class=\"dataframe\">\n",
       "  <thead>\n",
       "    <tr style=\"text-align: right;\">\n",
       "      <th></th>\n",
       "      <th>filepath</th>\n",
       "      <th>data_version</th>\n",
       "      <th>var_name</th>\n",
       "      <th>tile_name</th>\n",
       "      <th>sensor_field</th>\n",
       "      <th>time</th>\n",
       "    </tr>\n",
       "  </thead>\n",
       "  <tbody>\n",
       "    <tr>\n",
       "      <th>0</th>\n",
       "      <td>./e11739391/Sentinel-1_CSAR/EQUI7_EU010M/E053N...</td>\n",
       "      <td>V1M0R01</td>\n",
       "      <td>GMR40</td>\n",
       "      <td>E053N015T1</td>\n",
       "      <td>S1AIWGRDH</td>\n",
       "      <td>2022-09-22 16:42:50</td>\n",
       "    </tr>\n",
       "    <tr>\n",
       "      <th>1</th>\n",
       "      <td>./e11739391/Sentinel-1_CSAR/EQUI7_EU010M/E053N...</td>\n",
       "      <td>V1M0R01</td>\n",
       "      <td>GMR40</td>\n",
       "      <td>E053N015T1</td>\n",
       "      <td>S1AIWGRDH</td>\n",
       "      <td>2022-01-17 05:02:29</td>\n",
       "    </tr>\n",
       "    <tr>\n",
       "      <th>2</th>\n",
       "      <td>./e11739391/Sentinel-1_CSAR/EQUI7_EU010M/E053N...</td>\n",
       "      <td>V1M0R01</td>\n",
       "      <td>GMR40</td>\n",
       "      <td>E053N015T1</td>\n",
       "      <td>S1AIWGRDH</td>\n",
       "      <td>2022-06-10 05:02:33</td>\n",
       "    </tr>\n",
       "    <tr>\n",
       "      <th>3</th>\n",
       "      <td>./e11739391/Sentinel-1_CSAR/EQUI7_EU010M/E053N...</td>\n",
       "      <td>V1M0R01</td>\n",
       "      <td>GMR40</td>\n",
       "      <td>E053N015T1</td>\n",
       "      <td>S1AIWGRDH</td>\n",
       "      <td>2022-04-11 05:02:29</td>\n",
       "    </tr>\n",
       "    <tr>\n",
       "      <th>4</th>\n",
       "      <td>./e11739391/Sentinel-1_CSAR/EQUI7_EU010M/E053N...</td>\n",
       "      <td>V1M0R01</td>\n",
       "      <td>GMR40</td>\n",
       "      <td>E053N015T1</td>\n",
       "      <td>S1AIWGRDH</td>\n",
       "      <td>2022-12-07 05:02:12</td>\n",
       "    </tr>\n",
       "  </tbody>\n",
       "</table>\n",
       "</div>"
      ]
     },
     "execution_count": 9,
     "metadata": {},
     "output_type": "execute_result"
    }
   ],
   "execution_count": 9
  },
  {
   "metadata": {
    "ExecuteTime": {
     "end_time": "2024-09-29T15:17:49.714217Z",
     "start_time": "2024-09-29T15:17:48.922004Z"
    }
   },
   "cell_type": "code",
   "source": [
    "\n",
    "tile2_reader = DataCubeReader.from_filepaths(tile_2, fn_class=YeodaFilename, dimensions=dimensions,\n",
    "                                             stack_dimension=\"time\", tile_dimension=\"tile_name\")\n",
    "tile2_reader.file_register.head(5)"
   ],
   "outputs": [
    {
     "data": {
      "text/plain": [
       "                                            filepath data_version var_name  \\\n",
       "0  ./e11739391/Sentinel-1_CSAR/EQUI7_EU010M/E052N...      V1M0R01    GMR40   \n",
       "1  ./e11739391/Sentinel-1_CSAR/EQUI7_EU010M/E052N...      V1M0R01    GMR40   \n",
       "2  ./e11739391/Sentinel-1_CSAR/EQUI7_EU010M/E052N...      V1M0R01    GMR40   \n",
       "3  ./e11739391/Sentinel-1_CSAR/EQUI7_EU010M/E052N...      V1M0R01    GMR40   \n",
       "4  ./e11739391/Sentinel-1_CSAR/EQUI7_EU010M/E052N...      V1M0R01    GMR40   \n",
       "\n",
       "    tile_name sensor_field                time  \n",
       "0  E052N015T1    S1AIWGRDH 2022-06-10 05:02:08  \n",
       "1  E052N015T1    S1AIWGRDH 2022-12-07 05:02:37  \n",
       "2  E052N015T1    S1AIWGRDH 2022-10-20 05:02:13  \n",
       "3  E052N015T1    S1AIWGRDH 2022-02-10 05:02:04  \n",
       "4  E052N015T1    S1AIWGRDH 2022-03-06 05:02:03  "
      ],
      "text/html": [
       "<div>\n",
       "<style scoped>\n",
       "    .dataframe tbody tr th:only-of-type {\n",
       "        vertical-align: middle;\n",
       "    }\n",
       "\n",
       "    .dataframe tbody tr th {\n",
       "        vertical-align: top;\n",
       "    }\n",
       "\n",
       "    .dataframe thead th {\n",
       "        text-align: right;\n",
       "    }\n",
       "</style>\n",
       "<table border=\"1\" class=\"dataframe\">\n",
       "  <thead>\n",
       "    <tr style=\"text-align: right;\">\n",
       "      <th></th>\n",
       "      <th>filepath</th>\n",
       "      <th>data_version</th>\n",
       "      <th>var_name</th>\n",
       "      <th>tile_name</th>\n",
       "      <th>sensor_field</th>\n",
       "      <th>time</th>\n",
       "    </tr>\n",
       "  </thead>\n",
       "  <tbody>\n",
       "    <tr>\n",
       "      <th>0</th>\n",
       "      <td>./e11739391/Sentinel-1_CSAR/EQUI7_EU010M/E052N...</td>\n",
       "      <td>V1M0R01</td>\n",
       "      <td>GMR40</td>\n",
       "      <td>E052N015T1</td>\n",
       "      <td>S1AIWGRDH</td>\n",
       "      <td>2022-06-10 05:02:08</td>\n",
       "    </tr>\n",
       "    <tr>\n",
       "      <th>1</th>\n",
       "      <td>./e11739391/Sentinel-1_CSAR/EQUI7_EU010M/E052N...</td>\n",
       "      <td>V1M0R01</td>\n",
       "      <td>GMR40</td>\n",
       "      <td>E052N015T1</td>\n",
       "      <td>S1AIWGRDH</td>\n",
       "      <td>2022-12-07 05:02:37</td>\n",
       "    </tr>\n",
       "    <tr>\n",
       "      <th>2</th>\n",
       "      <td>./e11739391/Sentinel-1_CSAR/EQUI7_EU010M/E052N...</td>\n",
       "      <td>V1M0R01</td>\n",
       "      <td>GMR40</td>\n",
       "      <td>E052N015T1</td>\n",
       "      <td>S1AIWGRDH</td>\n",
       "      <td>2022-10-20 05:02:13</td>\n",
       "    </tr>\n",
       "    <tr>\n",
       "      <th>3</th>\n",
       "      <td>./e11739391/Sentinel-1_CSAR/EQUI7_EU010M/E052N...</td>\n",
       "      <td>V1M0R01</td>\n",
       "      <td>GMR40</td>\n",
       "      <td>E052N015T1</td>\n",
       "      <td>S1AIWGRDH</td>\n",
       "      <td>2022-02-10 05:02:04</td>\n",
       "    </tr>\n",
       "    <tr>\n",
       "      <th>4</th>\n",
       "      <td>./e11739391/Sentinel-1_CSAR/EQUI7_EU010M/E052N...</td>\n",
       "      <td>V1M0R01</td>\n",
       "      <td>GMR40</td>\n",
       "      <td>E052N015T1</td>\n",
       "      <td>S1AIWGRDH</td>\n",
       "      <td>2022-03-06 05:02:03</td>\n",
       "    </tr>\n",
       "  </tbody>\n",
       "</table>\n",
       "</div>"
      ]
     },
     "execution_count": 10,
     "metadata": {},
     "output_type": "execute_result"
    }
   ],
   "execution_count": 10
  },
  {
   "metadata": {
    "ExecuteTime": {
     "end_time": "2024-09-29T15:17:49.720961Z",
     "start_time": "2024-09-29T15:17:49.716296Z"
    }
   },
   "cell_type": "code",
   "source": "tile1_reader.file_register.sort_values(by = 'time')['time'].unique()",
   "outputs": [
    {
     "data": {
      "text/plain": [
       "<DatetimeArray>\n",
       "['2022-01-17 05:02:04', '2022-01-17 05:02:29', '2022-02-10 05:02:04',\n",
       " '2022-02-10 05:02:29', '2022-03-06 05:02:03', '2022-03-06 05:02:28',\n",
       " '2022-04-11 05:02:04', '2022-04-11 05:02:29', '2022-05-17 05:02:05',\n",
       " '2022-05-17 05:02:30', '2022-06-10 05:02:08', '2022-06-10 05:02:33',\n",
       " '2022-07-24 16:42:48', '2022-07-24 16:43:13', '2022-08-05 16:42:49',\n",
       " '2022-08-05 16:43:14', '2022-09-22 16:42:50', '2022-09-22 16:43:15',\n",
       " '2022-10-20 05:02:13', '2022-10-20 05:02:38', '2022-11-01 05:02:13',\n",
       " '2022-11-01 05:02:38', '2022-12-07 05:02:12', '2022-12-07 05:02:37']\n",
       "Length: 24, dtype: datetime64[ns]"
      ]
     },
     "execution_count": 11,
     "metadata": {},
     "output_type": "execute_result"
    }
   ],
   "execution_count": 11
  },
  {
   "metadata": {
    "ExecuteTime": {
     "end_time": "2024-09-29T15:17:51.132886Z",
     "start_time": "2024-09-29T15:17:49.721584Z"
    }
   },
   "cell_type": "code",
   "source": [
    "mask1_reader = DataCubeReader.from_filepaths(mask1, fn_class=YeodaFilename, dimensions=dimensions,\n",
    "                                             stack_dimension=\"time\", tile_dimension=\"tile_name\")\n",
    "mask2_reader = DataCubeReader.from_filepaths(mask2, fn_class=YeodaFilename, dimensions=dimensions,\n",
    "                                             stack_dimension=\"time\", tile_dimension=\"tile_name\")"
   ],
   "outputs": [],
   "execution_count": 12
  },
  {
   "metadata": {
    "ExecuteTime": {
     "end_time": "2024-09-29T15:17:51.137664Z",
     "start_time": "2024-09-29T15:17:51.133711Z"
    }
   },
   "cell_type": "code",
   "source": "mask2_reader.file_register.head(5)",
   "outputs": [
    {
     "data": {
      "text/plain": [
       "                                            filepath data_version var_name  \\\n",
       "0  ./e11739391/reference/EQUI7_EU010M/E053N015T1/...         None     MASK   \n",
       "1  ./e11739391/reference/EQUI7_EU010M/E053N015T1/...         None     MASK   \n",
       "2  ./e11739391/reference/EQUI7_EU010M/E053N015T1/...         None     MASK   \n",
       "3  ./e11739391/reference/EQUI7_EU010M/E053N015T1/...         None     MASK   \n",
       "4  ./e11739391/reference/EQUI7_EU010M/E053N015T1/...         None     MASK   \n",
       "\n",
       "    tile_name sensor_field       time  \n",
       "0  E053N015T1         None 2022-08-05  \n",
       "1  E053N015T1         None 2022-01-17  \n",
       "2  E053N015T1         None 2022-04-11  \n",
       "3  E053N015T1         None 2022-09-22  \n",
       "4  E053N015T1         None 2022-07-24  "
      ],
      "text/html": [
       "<div>\n",
       "<style scoped>\n",
       "    .dataframe tbody tr th:only-of-type {\n",
       "        vertical-align: middle;\n",
       "    }\n",
       "\n",
       "    .dataframe tbody tr th {\n",
       "        vertical-align: top;\n",
       "    }\n",
       "\n",
       "    .dataframe thead th {\n",
       "        text-align: right;\n",
       "    }\n",
       "</style>\n",
       "<table border=\"1\" class=\"dataframe\">\n",
       "  <thead>\n",
       "    <tr style=\"text-align: right;\">\n",
       "      <th></th>\n",
       "      <th>filepath</th>\n",
       "      <th>data_version</th>\n",
       "      <th>var_name</th>\n",
       "      <th>tile_name</th>\n",
       "      <th>sensor_field</th>\n",
       "      <th>time</th>\n",
       "    </tr>\n",
       "  </thead>\n",
       "  <tbody>\n",
       "    <tr>\n",
       "      <th>0</th>\n",
       "      <td>./e11739391/reference/EQUI7_EU010M/E053N015T1/...</td>\n",
       "      <td>None</td>\n",
       "      <td>MASK</td>\n",
       "      <td>E053N015T1</td>\n",
       "      <td>None</td>\n",
       "      <td>2022-08-05</td>\n",
       "    </tr>\n",
       "    <tr>\n",
       "      <th>1</th>\n",
       "      <td>./e11739391/reference/EQUI7_EU010M/E053N015T1/...</td>\n",
       "      <td>None</td>\n",
       "      <td>MASK</td>\n",
       "      <td>E053N015T1</td>\n",
       "      <td>None</td>\n",
       "      <td>2022-01-17</td>\n",
       "    </tr>\n",
       "    <tr>\n",
       "      <th>2</th>\n",
       "      <td>./e11739391/reference/EQUI7_EU010M/E053N015T1/...</td>\n",
       "      <td>None</td>\n",
       "      <td>MASK</td>\n",
       "      <td>E053N015T1</td>\n",
       "      <td>None</td>\n",
       "      <td>2022-04-11</td>\n",
       "    </tr>\n",
       "    <tr>\n",
       "      <th>3</th>\n",
       "      <td>./e11739391/reference/EQUI7_EU010M/E053N015T1/...</td>\n",
       "      <td>None</td>\n",
       "      <td>MASK</td>\n",
       "      <td>E053N015T1</td>\n",
       "      <td>None</td>\n",
       "      <td>2022-09-22</td>\n",
       "    </tr>\n",
       "    <tr>\n",
       "      <th>4</th>\n",
       "      <td>./e11739391/reference/EQUI7_EU010M/E053N015T1/...</td>\n",
       "      <td>None</td>\n",
       "      <td>MASK</td>\n",
       "      <td>E053N015T1</td>\n",
       "      <td>None</td>\n",
       "      <td>2022-07-24</td>\n",
       "    </tr>\n",
       "  </tbody>\n",
       "</table>\n",
       "</div>"
      ]
     },
     "execution_count": 13,
     "metadata": {},
     "output_type": "execute_result"
    }
   ],
   "execution_count": 13
  },
  {
   "metadata": {
    "ExecuteTime": {
     "end_time": "2024-09-29T15:17:51.142214Z",
     "start_time": "2024-09-29T15:17:51.138299Z"
    }
   },
   "cell_type": "code",
   "source": "mask1_reader.file_register.head(5)",
   "outputs": [
    {
     "data": {
      "text/plain": [
       "                                            filepath data_version var_name  \\\n",
       "0  ./e11739391/reference/EQUI7_EU010M/E052N015T1/...         None     MASK   \n",
       "1  ./e11739391/reference/EQUI7_EU010M/E052N015T1/...         None     MASK   \n",
       "2  ./e11739391/reference/EQUI7_EU010M/E052N015T1/...         None     MASK   \n",
       "3  ./e11739391/reference/EQUI7_EU010M/E052N015T1/...         None     MASK   \n",
       "4  ./e11739391/reference/EQUI7_EU010M/E052N015T1/...         None     MASK   \n",
       "\n",
       "    tile_name sensor_field       time  \n",
       "0  E052N015T1         None 2022-05-17  \n",
       "1  E052N015T1         None 2022-01-17  \n",
       "2  E052N015T1         None 2022-10-20  \n",
       "3  E052N015T1         None 2022-12-07  \n",
       "4  E052N015T1         None 2022-05-17  "
      ],
      "text/html": [
       "<div>\n",
       "<style scoped>\n",
       "    .dataframe tbody tr th:only-of-type {\n",
       "        vertical-align: middle;\n",
       "    }\n",
       "\n",
       "    .dataframe tbody tr th {\n",
       "        vertical-align: top;\n",
       "    }\n",
       "\n",
       "    .dataframe thead th {\n",
       "        text-align: right;\n",
       "    }\n",
       "</style>\n",
       "<table border=\"1\" class=\"dataframe\">\n",
       "  <thead>\n",
       "    <tr style=\"text-align: right;\">\n",
       "      <th></th>\n",
       "      <th>filepath</th>\n",
       "      <th>data_version</th>\n",
       "      <th>var_name</th>\n",
       "      <th>tile_name</th>\n",
       "      <th>sensor_field</th>\n",
       "      <th>time</th>\n",
       "    </tr>\n",
       "  </thead>\n",
       "  <tbody>\n",
       "    <tr>\n",
       "      <th>0</th>\n",
       "      <td>./e11739391/reference/EQUI7_EU010M/E052N015T1/...</td>\n",
       "      <td>None</td>\n",
       "      <td>MASK</td>\n",
       "      <td>E052N015T1</td>\n",
       "      <td>None</td>\n",
       "      <td>2022-05-17</td>\n",
       "    </tr>\n",
       "    <tr>\n",
       "      <th>1</th>\n",
       "      <td>./e11739391/reference/EQUI7_EU010M/E052N015T1/...</td>\n",
       "      <td>None</td>\n",
       "      <td>MASK</td>\n",
       "      <td>E052N015T1</td>\n",
       "      <td>None</td>\n",
       "      <td>2022-01-17</td>\n",
       "    </tr>\n",
       "    <tr>\n",
       "      <th>2</th>\n",
       "      <td>./e11739391/reference/EQUI7_EU010M/E052N015T1/...</td>\n",
       "      <td>None</td>\n",
       "      <td>MASK</td>\n",
       "      <td>E052N015T1</td>\n",
       "      <td>None</td>\n",
       "      <td>2022-10-20</td>\n",
       "    </tr>\n",
       "    <tr>\n",
       "      <th>3</th>\n",
       "      <td>./e11739391/reference/EQUI7_EU010M/E052N015T1/...</td>\n",
       "      <td>None</td>\n",
       "      <td>MASK</td>\n",
       "      <td>E052N015T1</td>\n",
       "      <td>None</td>\n",
       "      <td>2022-12-07</td>\n",
       "    </tr>\n",
       "    <tr>\n",
       "      <th>4</th>\n",
       "      <td>./e11739391/reference/EQUI7_EU010M/E052N015T1/...</td>\n",
       "      <td>None</td>\n",
       "      <td>MASK</td>\n",
       "      <td>E052N015T1</td>\n",
       "      <td>None</td>\n",
       "      <td>2022-05-17</td>\n",
       "    </tr>\n",
       "  </tbody>\n",
       "</table>\n",
       "</div>"
      ]
     },
     "execution_count": 14,
     "metadata": {},
     "output_type": "execute_result"
    }
   ],
   "execution_count": 14
  },
  {
   "metadata": {},
   "cell_type": "markdown",
   "source": "#### Merging files"
  },
  {
   "metadata": {
    "ExecuteTime": {
     "end_time": "2024-08-18T15:24:10.592488Z",
     "start_time": "2024-08-18T15:24:10.586687Z"
    }
   },
   "cell_type": "code",
   "source": "df_concat = pd.concat([tile1_reader.file_register, tile2_reader.file_register], axis=0)",
   "outputs": [],
   "execution_count": 15
  },
  {
   "metadata": {
    "ExecuteTime": {
     "end_time": "2024-08-18T15:24:11.240725Z",
     "start_time": "2024-08-18T15:24:11.234109Z"
    }
   },
   "cell_type": "code",
   "source": "df_concat.head(5)",
   "outputs": [
    {
     "data": {
      "text/plain": [
       "                                            filepath sensor_field  \\\n",
       "0  ./e11739391/Sentinel-1_CSAR/EQUI7_EU010M/E053N...    S1AIWGRDH   \n",
       "1  ./e11739391/Sentinel-1_CSAR/EQUI7_EU010M/E053N...    S1AIWGRDH   \n",
       "2  ./e11739391/Sentinel-1_CSAR/EQUI7_EU010M/E053N...    S1AIWGRDH   \n",
       "3  ./e11739391/Sentinel-1_CSAR/EQUI7_EU010M/E053N...    S1AIWGRDH   \n",
       "4  ./e11739391/Sentinel-1_CSAR/EQUI7_EU010M/E053N...    S1AIWGRDH   \n",
       "\n",
       "  data_version var_name   tile_name                time  \n",
       "0      V1M0R01    GMR40  E053N015T1 2022-09-22 16:42:50  \n",
       "1      V1M0R01    GMR40  E053N015T1 2022-01-17 05:02:29  \n",
       "2      V1M0R01    GMR40  E053N015T1 2022-06-10 05:02:33  \n",
       "3      V1M0R01    GMR40  E053N015T1 2022-04-11 05:02:29  \n",
       "4      V1M0R01    GMR40  E053N015T1 2022-12-07 05:02:12  "
      ],
      "text/html": [
       "<div>\n",
       "<style scoped>\n",
       "    .dataframe tbody tr th:only-of-type {\n",
       "        vertical-align: middle;\n",
       "    }\n",
       "\n",
       "    .dataframe tbody tr th {\n",
       "        vertical-align: top;\n",
       "    }\n",
       "\n",
       "    .dataframe thead th {\n",
       "        text-align: right;\n",
       "    }\n",
       "</style>\n",
       "<table border=\"1\" class=\"dataframe\">\n",
       "  <thead>\n",
       "    <tr style=\"text-align: right;\">\n",
       "      <th></th>\n",
       "      <th>filepath</th>\n",
       "      <th>sensor_field</th>\n",
       "      <th>data_version</th>\n",
       "      <th>var_name</th>\n",
       "      <th>tile_name</th>\n",
       "      <th>time</th>\n",
       "    </tr>\n",
       "  </thead>\n",
       "  <tbody>\n",
       "    <tr>\n",
       "      <th>0</th>\n",
       "      <td>./e11739391/Sentinel-1_CSAR/EQUI7_EU010M/E053N...</td>\n",
       "      <td>S1AIWGRDH</td>\n",
       "      <td>V1M0R01</td>\n",
       "      <td>GMR40</td>\n",
       "      <td>E053N015T1</td>\n",
       "      <td>2022-09-22 16:42:50</td>\n",
       "    </tr>\n",
       "    <tr>\n",
       "      <th>1</th>\n",
       "      <td>./e11739391/Sentinel-1_CSAR/EQUI7_EU010M/E053N...</td>\n",
       "      <td>S1AIWGRDH</td>\n",
       "      <td>V1M0R01</td>\n",
       "      <td>GMR40</td>\n",
       "      <td>E053N015T1</td>\n",
       "      <td>2022-01-17 05:02:29</td>\n",
       "    </tr>\n",
       "    <tr>\n",
       "      <th>2</th>\n",
       "      <td>./e11739391/Sentinel-1_CSAR/EQUI7_EU010M/E053N...</td>\n",
       "      <td>S1AIWGRDH</td>\n",
       "      <td>V1M0R01</td>\n",
       "      <td>GMR40</td>\n",
       "      <td>E053N015T1</td>\n",
       "      <td>2022-06-10 05:02:33</td>\n",
       "    </tr>\n",
       "    <tr>\n",
       "      <th>3</th>\n",
       "      <td>./e11739391/Sentinel-1_CSAR/EQUI7_EU010M/E053N...</td>\n",
       "      <td>S1AIWGRDH</td>\n",
       "      <td>V1M0R01</td>\n",
       "      <td>GMR40</td>\n",
       "      <td>E053N015T1</td>\n",
       "      <td>2022-04-11 05:02:29</td>\n",
       "    </tr>\n",
       "    <tr>\n",
       "      <th>4</th>\n",
       "      <td>./e11739391/Sentinel-1_CSAR/EQUI7_EU010M/E053N...</td>\n",
       "      <td>S1AIWGRDH</td>\n",
       "      <td>V1M0R01</td>\n",
       "      <td>GMR40</td>\n",
       "      <td>E053N015T1</td>\n",
       "      <td>2022-12-07 05:02:12</td>\n",
       "    </tr>\n",
       "  </tbody>\n",
       "</table>\n",
       "</div>"
      ]
     },
     "execution_count": 16,
     "metadata": {},
     "output_type": "execute_result"
    }
   ],
   "execution_count": 16
  },
  {
   "metadata": {
    "ExecuteTime": {
     "end_time": "2024-08-11T07:59:03.380598Z",
     "start_time": "2024-08-11T07:58:13.573618Z"
    }
   },
   "cell_type": "code",
   "source": "merge_files_and_split(df_concat,'VV')",
   "outputs": [
    {
     "name": "stderr",
     "output_type": "stream",
     "text": [
      "/Users/nadia/PycharmProjects/InterdisciplinaryProject/data_func.py:39: SettingWithCopyWarning: \n",
      "A value is trying to be set on a copy of a slice from a DataFrame.\n",
      "Try using .loc[row_indexer,col_indexer] = value instead\n",
      "\n",
      "See the caveats in the documentation: https://pandas.pydata.org/pandas-docs/stable/user_guide/indexing.html#returning-a-view-versus-a-copy\n",
      "  grouped.loc[:, 'date'] = grouped['time'].dt.date\n"
     ]
    },
    {
     "name": "stdout",
     "output_type": "stream",
     "text": [
      "0...10...20...30...40...50...60...70...80...90...100 - done.\n",
      "0...10...20...30...40...50...60...70...80...90...100 - done.\n",
      "0...10...20...30...40...50...60...70...80...90...100 - done.\n",
      "0...10...20...30...40...50...60...70...80...90...100 - done.\n",
      "0...10...20...30...40...50...60...70...80...90...100 - done.\n",
      "0...10...20...30...40...50...60...70...80...90...100 - done.\n",
      "0...10...20...30...40...50...60...70...80...90...100 - done.\n",
      "0...10...20...30...40...50...60...70...80...90...100 - done.\n",
      "0...10...20...30...40...50...60...70...80...90...100 - done.\n",
      "0...10...20...30...40...50...60...70...80...90...100 - done.\n",
      "0...10...20...30...40...50...60...70...80...90...100 - done.\n",
      "0...10...20...30...40...50...60...70...80...90...100 - done.\n"
     ]
    }
   ],
   "execution_count": 15
  },
  {
   "metadata": {
    "ExecuteTime": {
     "end_time": "2024-08-11T07:59:52.858936Z",
     "start_time": "2024-08-11T07:59:03.381860Z"
    }
   },
   "cell_type": "code",
   "source": "merge_files_and_split(df_concat,'VH')",
   "outputs": [
    {
     "name": "stdout",
     "output_type": "stream",
     "text": [
      "0"
     ]
    },
    {
     "name": "stderr",
     "output_type": "stream",
     "text": [
      "/Users/nadia/PycharmProjects/InterdisciplinaryProject/data_func.py:39: SettingWithCopyWarning: \n",
      "A value is trying to be set on a copy of a slice from a DataFrame.\n",
      "Try using .loc[row_indexer,col_indexer] = value instead\n",
      "\n",
      "See the caveats in the documentation: https://pandas.pydata.org/pandas-docs/stable/user_guide/indexing.html#returning-a-view-versus-a-copy\n",
      "  grouped.loc[:, 'date'] = grouped['time'].dt.date\n"
     ]
    },
    {
     "name": "stdout",
     "output_type": "stream",
     "text": [
      "...10...20...30...40...50...60...70...80...90...100 - done.\n",
      "0...10...20...30...40...50...60...70...80...90...100 - done.\n",
      "0...10...20...30...40...50...60...70...80...90...100 - done.\n",
      "0...10...20...30...40...50...60...70...80...90...100 - done.\n",
      "0...10...20...30...40...50...60...70...80...90...100 - done.\n",
      "0...10...20...30...40...50...60...70...80...90...100 - done.\n",
      "0...10...20...30...40...50...60...70...80...90...100 - done.\n",
      "0...10...20...30...40...50...60...70...80...90...100 - done.\n",
      "0...10...20...30...40...50...60...70...80...90...100 - done.\n",
      "0...10...20...30...40...50...60...70...80...90...100 - done.\n",
      "0...10...20...30...40...50...60...70...80...90...100 - done.\n",
      "0...10...20...30...40...50...60...70...80...90...100 - done.\n"
     ]
    }
   ],
   "execution_count": 16
  },
  {
   "metadata": {
    "ExecuteTime": {
     "end_time": "2024-08-18T16:29:17.337637Z",
     "start_time": "2024-08-18T16:29:17.330354Z"
    }
   },
   "cell_type": "code",
   "source": "df_concat_mask= pd.concat([mask1_reader.file_register, mask2_reader.file_register], axis=0)",
   "outputs": [],
   "execution_count": 13
  },
  {
   "metadata": {
    "ExecuteTime": {
     "end_time": "2024-08-18T16:29:56.459830Z",
     "start_time": "2024-08-18T16:29:17.552977Z"
    }
   },
   "cell_type": "code",
   "source": "merge_files_and_split(df_concat_mask,notmask=False)",
   "outputs": [
    {
     "name": "stderr",
     "output_type": "stream",
     "text": [
      "/Users/nadia/PycharmProjects/InterdisciplinaryProject/data_func.py:39: SettingWithCopyWarning: \n",
      "A value is trying to be set on a copy of a slice from a DataFrame.\n",
      "Try using .loc[row_indexer,col_indexer] = value instead\n",
      "\n",
      "See the caveats in the documentation: https://pandas.pydata.org/pandas-docs/stable/user_guide/indexing.html#returning-a-view-versus-a-copy\n",
      "  grouped.loc[:, 'date'] = grouped['time'].dt.date\n"
     ]
    },
    {
     "name": "stdout",
     "output_type": "stream",
     "text": [
      "0...10...20...30...40...50...60...70...80...90...100 - done.\n",
      "0...10...20...30...40...50...60...70...80...90...100 - done.\n",
      "0...10...20...30...40...50...60...70...80...90...100 - done.\n",
      "0...10...20...30...40...50...60...70...80...90...100 - done.\n",
      "0...10...20...30...40...50...60...70...80...90...100 - done.\n",
      "0...10...20...30...40...50...60...70...80...90...100 - done.\n",
      "0...10...20...30...40...50...60...70...80...90...100 - done.\n",
      "0...10...20...30...40...50...60...70...80...90...100 - done.\n",
      "0...10...20...30...40...50...60...70...80...90...100 - done.\n",
      "0...10...20...30...40...50...60...70...80...90...100 - done.\n",
      "0...10...20...30...40...50...60...70...80...90...100 - done.\n",
      "0...10...20...30...40...50...60...70...80...90...100 - done.\n",
      "0...10...20...30...40...50...60...70...80...90...100 - done.\n",
      "0...10...20...30...40...50...60...70...80...90...100 - done.\n",
      "0...10...20...30...40...50...60...70...80...90...100 - done.\n",
      "0...10...20...30...40...50...60...70...80...90...100 - done.\n",
      "0...10...20...30...40...50...60...70...80...90...100 - done.\n",
      "0...10...20...30...40...50...60...70...80...90...100 - done.\n",
      "0...10...20...30...40...50...60...70...80...90...100 - done.\n",
      "0...10...20...30...40...50...60...70...80...90...100 - done.\n",
      "0...10...20...30...40...50...60...70...80...90...100 - done.\n",
      "0...10...20...30...40...50...60...70...80...90...100 - done.\n",
      "0...10...20...30...40...50...60...70...80...90...100 - done.\n",
      "0...10...20...30...40...50...60...70...80...90...100 - done.\n"
     ]
    }
   ],
   "execution_count": 14
  },
  {
   "metadata": {},
   "cell_type": "code",
   "source": "",
   "outputs": [],
   "execution_count": null
  },
  {
   "metadata": {},
   "cell_type": "code",
   "source": "\n",
   "outputs": [],
   "execution_count": null
  },
  {
   "metadata": {},
   "cell_type": "markdown",
   "source": "### Reading merged data"
  },
  {
   "metadata": {
    "ExecuteTime": {
     "end_time": "2024-09-29T15:06:33.045409Z",
     "start_time": "2024-09-29T15:06:33.043803Z"
    }
   },
   "cell_type": "code",
   "source": "path2 = \"./train_mask/VV_mask_2022-01-17_merged.tiff\"",
   "outputs": [],
   "execution_count": 55
  },
  {
   "metadata": {
    "ExecuteTime": {
     "end_time": "2024-09-29T15:06:33.504882Z",
     "start_time": "2024-09-29T15:06:33.503327Z"
    }
   },
   "cell_type": "code",
   "source": [
    "path = \"./e11739391/Sentinel-1_CSAR/EQUI7_EU010M/E053N015T1/GMR40_20220411T050204__VV_D124_E053N015T1_EU010M_V1M0R01_S1AIWGRDH.tif\"\n",
    "\n"
   ],
   "outputs": [],
   "execution_count": 56
  },
  {
   "metadata": {
    "ExecuteTime": {
     "end_time": "2024-09-29T15:06:35.396216Z",
     "start_time": "2024-09-29T15:06:34.142605Z"
    }
   },
   "cell_type": "code",
   "source": [
    "x =rasterio.open(path2)\n",
    "image_data= x.read(1)\n",
    "plt.imshow(image_data)\n",
    "plt.title(\"Image Data\")\n",
    "plt.show()"
   ],
   "outputs": [
    {
     "data": {
      "text/plain": [
       "<Figure size 640x480 with 1 Axes>"
      ],
      "image/png": "[encoded data removed]"
     },
     "metadata": {},
     "output_type": "display_data"
    }
   ],
   "execution_count": 57
  },
  {
   "metadata": {
    "ExecuteTime": {
     "end_time": "2024-09-29T15:05:23.503914Z",
     "start_time": "2024-09-29T15:05:23.360102Z"
    }
   },
   "cell_type": "code",
   "source": [
    "x =rasterio.open(path2)\n",
    "image_data= x.read(1)"
   ],
   "outputs": [],
   "execution_count": 43
  },
  {
   "metadata": {
    "ExecuteTime": {
     "end_time": "2024-09-29T15:05:25.147072Z",
     "start_time": "2024-09-29T15:05:25.143751Z"
    }
   },
   "cell_type": "code",
   "source": "image_data.shape",
   "outputs": [
    {
     "data": {
      "text/plain": [
       "(10000, 20000)"
      ]
     },
     "execution_count": 44,
     "metadata": {},
     "output_type": "execute_result"
    }
   ],
   "execution_count": 44
  },
  {
   "metadata": {},
   "cell_type": "code",
   "outputs": [],
   "execution_count": null,
   "source": ""
  },
  {
   "metadata": {},
   "cell_type": "code",
   "outputs": [],
   "execution_count": null,
   "source": ""
  },
  {
   "metadata": {
    "ExecuteTime": {
     "end_time": "2024-08-18T17:29:15.399277Z",
     "start_time": "2024-08-18T17:29:15.396913Z"
    }
   },
   "cell_type": "code",
   "source": [
    "# Image.MAX_IMAGE_PIXELS = None\n",
    "# ImageFile.LOAD_TRUNCATED_IMAGES = True"
   ],
   "outputs": [],
   "execution_count": 107
  },
  {
   "metadata": {
    "ExecuteTime": {
     "end_time": "2024-09-29T13:03:17.398262Z",
     "start_time": "2024-09-29T13:03:17.395053Z"
    }
   },
   "cell_type": "code",
   "source": [
    "train = \"./train/*.tiff\"\n",
    "mask_train = \"./train_mask/*.tiff\"\n",
    "img_list = sorted(glob.glob(train))\n",
    "mask_list = sorted(glob.glob(mask_train))"
   ],
   "outputs": [],
   "execution_count": 16
  },
  {
   "metadata": {
    "ExecuteTime": {
     "end_time": "2024-09-29T13:03:17.629981Z",
     "start_time": "2024-09-29T13:03:17.626796Z"
    }
   },
   "cell_type": "code",
   "source": [
    "file_num = len(img_list)\n",
    "output_filename = './try.txt'\n",
    "with open(output_filename, 'w') as f:\n",
    "    for s in range(file_num):\n",
    "        print(img_list[s][2:])\n",
    "        f.write(img_list[s]+ '\\t' + mask_list[s] + '\\n' )"
   ],
   "outputs": [
    {
     "name": "stdout",
     "output_type": "stream",
     "text": [
      "train/VH_2022-01-17_merged.tiff\n",
      "train/VH_2022-02-10_merged.tiff\n",
      "train/VH_2022-03-06_merged.tiff\n",
      "train/VH_2022-06-10_merged.tiff\n",
      "train/VH_2022-09-22_merged.tiff\n",
      "train/VH_2022-10-20_merged.tiff\n",
      "train/VH_2022-11-01_merged.tiff\n",
      "train/VH_2022-12-07_merged.tiff\n",
      "train/VV_2022-01-17_merged.tiff\n",
      "train/VV_2022-02-10_merged.tiff\n",
      "train/VV_2022-03-06_merged.tiff\n",
      "train/VV_2022-06-10_merged.tiff\n",
      "train/VV_2022-09-22_merged.tiff\n",
      "train/VV_2022-10-20_merged.tiff\n",
      "train/VV_2022-11-01_merged.tiff\n",
      "train/VV_2022-12-07_merged.tiff\n"
     ]
    }
   ],
   "execution_count": 17
  },
  {
   "metadata": {},
   "cell_type": "code",
   "outputs": [],
   "execution_count": null,
   "source": ""
  },
  {
   "metadata": {},
   "cell_type": "markdown",
   "source": "### Data Preparation"
  },
  {
   "metadata": {
    "ExecuteTime": {
     "end_time": "2024-09-29T15:21:37.104816Z",
     "start_time": "2024-09-29T15:21:37.099415Z"
    }
   },
   "cell_type": "code",
   "source": [
    "class ImageDataset(Dataset):\n",
    "    def __init__(self, images_folder, mask_folder, transform=None):\n",
    "        self.images = os.listdir(images_folder)\n",
    "        self.images_folder = images_folder\n",
    "        self.masks = os.listdir(mask_folder)\n",
    "        self.transform = transform\n",
    "        self.mask_folder = mask_folder\n",
    "\n",
    "    def __len__(self):\n",
    "        return len(self.images)\n",
    "\n",
    "    def __getitem__(self, idx):\n",
    "        image_path = os.path.join(self.images_folder, self.images[idx])\n",
    "        mask_path = os.path.join(self.mask_folder, self.masks[idx])\n",
    "        image = rasterio.open(image_path).read(1)\n",
    "        mask = rasterio.open(mask_path).read(1)\n",
    "\n",
    "        image = np.array(image, dtype=np.float32) / 255.0\n",
    "        mask = np.array(mask, dtype=np.float32) / 255.0\n",
    "\n",
    "        if self.transform:\n",
    "            augmented = self.transform(image=image, mask=mask)\n",
    "            image = augmented['image']\n",
    "            mask = augmented['mask']\n",
    "\n",
    "        return torch.from_numpy(image).unsqueeze(0), torch.from_numpy(mask).unsqueeze(0)\n"
   ],
   "outputs": [],
   "execution_count": 12
  },
  {
   "metadata": {
    "ExecuteTime": {
     "end_time": "2024-09-29T15:23:38.084278Z",
     "start_time": "2024-09-29T15:23:38.082695Z"
    }
   },
   "cell_type": "code",
   "source": [
    "train_batch_size =4\n",
    "val_batch_size = 8\n",
    "test_batch_size = 8\n",
    "\n"
   ],
   "outputs": [],
   "execution_count": 13
  },
  {
   "metadata": {
    "ExecuteTime": {
     "end_time": "2024-09-29T15:20:34.411696Z",
     "start_time": "2024-09-29T15:20:34.408337Z"
    }
   },
   "cell_type": "code",
   "source": "train_transform = A.Compose([A.Resize(256, 256), A.HorizontalFlip(p= 0.5), A.VerticalFlip(p= 0.5), A.RandomRotate90(p= 0.5)])",
   "outputs": [],
   "execution_count": 6
  },
  {
   "metadata": {
    "ExecuteTime": {
     "end_time": "2024-09-29T15:40:22.861633Z",
     "start_time": "2024-09-29T15:40:22.858461Z"
    }
   },
   "cell_type": "code",
   "source": [
    "train_set = ImageDataset('./train/', './train_mask',train_transform )\n",
    "val_set = ImageDataset(test_images, test_mask, )\n"
   ],
   "outputs": [],
   "execution_count": 20
  },
  {
   "metadata": {
    "ExecuteTime": {
     "end_time": "2024-09-29T15:40:24.431021Z",
     "start_time": "2024-09-29T15:40:24.427519Z"
    }
   },
   "cell_type": "code",
   "source": "trainloader = torch.utils.data.DataLoader(train_set, batch_size= train_batch_size,shuffle= True)",
   "outputs": [],
   "execution_count": 21
  },
  {
   "metadata": {
    "ExecuteTime": {
     "end_time": "2024-09-29T15:40:50.440659Z",
     "start_time": "2024-09-29T15:40:42.288548Z"
    }
   },
   "cell_type": "code",
   "source": [
    "for i, (images, masks) in enumerate(trainloader):\n",
    "    print(images)\n",
    "   \n"
   ],
   "outputs": [
    {
     "name": "stdout",
     "output_type": "stream",
     "text": [
      "tensor([[[[-0.0492, -0.0197, -0.0336,  ..., -0.0451, -0.0524, -0.0313],\n",
      "          [-0.0054, -0.0417, -0.0237,  ..., -0.0278, -0.0478, -0.0433],\n",
      "          [-0.0480, -0.0514, -0.0364,  ..., -0.0314, -0.0196, -0.0188],\n",
      "          ...,\n",
      "          [-0.0593, -0.0314, -0.0248,  ..., -0.0249, -0.0293, -0.0380],\n",
      "          [-0.0602, -0.0239,  0.0000,  ..., -0.0356, -0.0332, -0.0293],\n",
      "          [-0.0565, -0.0759, -0.0089,  ..., -0.0281, -0.0271, -0.0317]]],\n",
      "\n",
      "\n",
      "        [[[-0.0469, -0.0600, -0.0035,  ..., -0.0249, -0.0328, -0.0175],\n",
      "          [-0.0578, -0.0360,  0.0059,  ..., -0.0259, -0.0149, -0.0237],\n",
      "          [-0.0504, -0.0269, -0.0330,  ..., -0.0236, -0.0287, -0.0344],\n",
      "          ...,\n",
      "          [-0.0318, -0.0421, -0.0456,  ..., -0.0276, -0.0415, -0.0206],\n",
      "          [-0.0153, -0.0361, -0.0299,  ..., -0.0317, -0.0553, -0.0384],\n",
      "          [-0.0350, -0.0131, -0.0190,  ..., -0.0212, -0.0523, -0.0289]]],\n",
      "\n",
      "\n",
      "        [[[-0.0762, -0.1018, -0.0162,  ..., -0.0508, -0.0566, -0.0622],\n",
      "          [-0.0798, -0.0526, -0.0092,  ..., -0.0710, -0.0733, -0.0749],\n",
      "          [-0.0837, -0.0514, -0.0323,  ..., -0.0692, -0.0754, -0.0550],\n",
      "          ...,\n",
      "          [-0.0617, -0.0609, -0.0673,  ..., -0.0710, -0.0685, -0.0588],\n",
      "          [-0.0306, -0.0505, -0.0488,  ..., -0.0690, -0.0939, -0.0856],\n",
      "          [-0.0600, -0.0445, -0.0463,  ..., -0.0746, -0.0814, -0.0669]]],\n",
      "\n",
      "\n",
      "        [[[-0.0172,  0.0079, -0.0799,  ..., -0.0424, -0.0536, -0.0275],\n",
      "          [-0.0182, -0.0577, -0.0706,  ..., -0.0353, -0.0306, -0.0299],\n",
      "          [-0.0047, -0.0421, -0.0366,  ..., -0.0320, -0.0406, -0.0439],\n",
      "          ...,\n",
      "          [ 0.0000,  0.0000,  0.0000,  ..., -0.0458, -0.0376, -0.0337],\n",
      "          [ 0.0000,  0.0000,  0.0000,  ..., -0.0696, -0.0397, -0.0625],\n",
      "          [ 0.0000,  0.0000,  0.0000,  ..., -0.0234, -0.0494, -0.0458]]]])\n",
      "tensor([[[[-0.0362, -0.0252, -0.0198,  ..., -0.0564, -0.0540, -0.0408],\n",
      "          [-0.0002, -0.0283, -0.0246,  ..., -0.0434, -0.0373, -0.0651],\n",
      "          [-0.0508, -0.0477, -0.0431,  ..., -0.0680, -0.0632, -0.0253],\n",
      "          ...,\n",
      "          [-0.0615, -0.0292, -0.0178,  ..., -0.0517, -0.0587, -0.0589],\n",
      "          [-0.0517, -0.0351,  0.0000,  ..., -0.0694, -0.0541, -0.0527],\n",
      "          [-0.0527, -0.0484, -0.0062,  ..., -0.0428, -0.0490, -0.0571]]],\n",
      "\n",
      "\n",
      "        [[[-0.0463, -0.0617, -0.0673,  ..., -0.0592, -0.0761, -0.0641],\n",
      "          [-0.0416, -0.0440, -0.0534,  ..., -0.0856, -0.0976, -0.0816],\n",
      "          [-0.0533, -0.0689, -0.0561,  ..., -0.0662, -0.0782, -0.0537],\n",
      "          ...,\n",
      "          [-0.0870, -0.0559, -0.0382,  ..., -0.0583, -0.0522, -0.0557],\n",
      "          [-0.0833, -0.0542, -0.0173,  ..., -0.0560, -0.0580, -0.0544],\n",
      "          [-0.0745, -0.1054, -0.0409,  ..., -0.0525, -0.0577, -0.0606]]],\n",
      "\n",
      "\n",
      "        [[[-0.0451, -0.0510, -0.0431,  ..., -0.0340, -0.0588, -0.0322],\n",
      "          [-0.0367, -0.0517, -0.0365,  ..., -0.0574, -0.0398, -0.0537],\n",
      "          [-0.0369, -0.0464, -0.0449,  ..., -0.0550, -0.0466, -0.0517],\n",
      "          ...,\n",
      "          [-0.0029,  0.0007, -0.0220,  ..., -0.0411, -0.0189, -0.0132],\n",
      "          [-0.0550, -0.0251, -0.0262,  ..., -0.0384, -0.0342, -0.0170],\n",
      "          [-0.0586, -0.0478, -0.0516,  ..., -0.0276, -0.0187, -0.0414]]],\n",
      "\n",
      "\n",
      "        [[[ 0.0000,  0.0000,  0.0000,  ..., -0.0463, -0.0902, -0.0744],\n",
      "          [ 0.0000,  0.0000,  0.0000,  ..., -0.0974, -0.0755, -0.0983],\n",
      "          [ 0.0000,  0.0000,  0.0000,  ..., -0.0879, -0.0939, -0.0605],\n",
      "          ...,\n",
      "          [-0.0393, -0.0662, -0.0702,  ..., -0.0550, -0.0654, -0.0928],\n",
      "          [-0.0515, -0.0746, -0.1055,  ..., -0.0562, -0.0550, -0.0545],\n",
      "          [-0.0403, -0.0247, -0.1105,  ..., -0.0808, -0.0809, -0.0473]]]])\n",
      "tensor([[[[-0.0667, -0.0792, -0.0038,  ..., -0.0542, -0.0444, -0.0688],\n",
      "          [-0.0501, -0.0314,  0.0016,  ..., -0.0592, -0.0624, -0.0630],\n",
      "          [-0.0614, -0.0382, -0.0247,  ..., -0.0729, -0.0561, -0.0583],\n",
      "          ...,\n",
      "          [-0.0334, -0.0446, -0.0505,  ..., -0.0553, -0.0659, -0.0202],\n",
      "          [-0.0110, -0.0443, -0.0253,  ..., -0.0614, -0.0624, -0.0840],\n",
      "          [-0.0322, -0.0352, -0.0261,  ..., -0.0498, -0.0654, -0.0526]]],\n",
      "\n",
      "\n",
      "        [[[-0.0955, -0.1108, -0.0407,  ..., -0.0548, -0.0834, -0.1083],\n",
      "          [-0.0868, -0.0664, -0.0191,  ..., -0.0944, -0.0936, -0.1088],\n",
      "          [-0.0804, -0.0538, -0.0343,  ..., -0.1034, -0.0966, -0.0924],\n",
      "          ...,\n",
      "          [-0.0548, -0.0844, -0.0781,  ..., -0.0852, -0.1003, -0.0697],\n",
      "          [-0.0509, -0.0509, -0.0468,  ..., -0.1078, -0.1090, -0.0901],\n",
      "          [-0.0626, -0.0508, -0.0376,  ..., -0.0999, -0.0942, -0.0958]]],\n",
      "\n",
      "\n",
      "        [[[-0.0567, -0.0757,  0.0065,  ..., -0.0244, -0.0339, -0.0215],\n",
      "          [-0.0657, -0.0364,  0.0187,  ..., -0.0280, -0.0245, -0.0429],\n",
      "          [-0.0656, -0.0188, -0.0107,  ..., -0.0370, -0.0481, -0.0492],\n",
      "          ...,\n",
      "          [-0.0332, -0.0401, -0.0566,  ..., -0.0373, -0.0522, -0.0191],\n",
      "          [-0.0047, -0.0315, -0.0125,  ..., -0.0366, -0.0503, -0.0488],\n",
      "          [-0.0365, -0.0289, -0.0182,  ..., -0.0390, -0.0446, -0.0390]]],\n",
      "\n",
      "\n",
      "        [[[-0.1014, -0.0603, -0.0766,  ..., -0.0278, -0.0993, -0.0762],\n",
      "          [-0.1058, -0.0962, -0.0856,  ..., -0.0150, -0.0614, -0.0679],\n",
      "          [-0.0764, -0.0884, -0.0925,  ..., -0.0538, -0.0584, -0.0838],\n",
      "          ...,\n",
      "          [-0.0694, -0.1063, -0.0897,  ..., -0.0672, -0.0756, -0.0511],\n",
      "          [-0.0971, -0.1120, -0.1114,  ..., -0.0464, -0.0661, -0.0394],\n",
      "          [-0.0854, -0.0969, -0.1018,  ..., -0.0403, -0.0549, -0.0703]]]])\n",
      "tensor([[[[-0.0761, -0.1029, -0.0334,  ..., -0.0698, -0.0820, -0.0871],\n",
      "          [-0.0926, -0.0547, -0.0330,  ..., -0.0681, -0.0707, -0.0974],\n",
      "          [-0.0792, -0.0504, -0.0386,  ..., -0.1183, -0.0696, -0.0701],\n",
      "          ...,\n",
      "          [-0.0543, -0.0776, -0.0609,  ..., -0.1017, -0.0840, -0.0755],\n",
      "          [-0.0252, -0.0619, -0.0545,  ..., -0.1006, -0.0972, -0.0944],\n",
      "          [-0.0618, -0.0587, -0.0495,  ..., -0.0852, -0.0916, -0.0834]]],\n",
      "\n",
      "\n",
      "        [[[-0.0704, -0.0393, -0.0426,  ..., -0.0557, -0.0865, -0.0650],\n",
      "          [-0.0223, -0.0452, -0.0471,  ..., -0.0591, -0.0561, -0.0628],\n",
      "          [-0.0489, -0.0683, -0.0614,  ..., -0.0519, -0.0646, -0.0620],\n",
      "          ...,\n",
      "          [-0.0663, -0.0443, -0.0490,  ..., -0.0652, -0.0508, -0.0563],\n",
      "          [-0.0752, -0.0496, -0.0313,  ..., -0.0693, -0.0546, -0.0605],\n",
      "          [-0.0784, -0.0990, -0.0255,  ..., -0.0439, -0.0614, -0.0480]]],\n",
      "\n",
      "\n",
      "        [[[-0.0935, -0.0903, -0.0793,  ..., -0.0332, -0.1082, -0.0827],\n",
      "          [-0.0820, -0.0960, -0.0935,  ..., -0.0287, -0.0588, -0.0776],\n",
      "          [-0.0864, -0.1030, -0.0985,  ..., -0.0491, -0.0423, -0.0751],\n",
      "          ...,\n",
      "          [-0.0666, -0.1036, -0.0793,  ..., -0.0771, -0.0733, -0.0694],\n",
      "          [-0.0976, -0.0821, -0.0926,  ..., -0.0576, -0.0613, -0.0542],\n",
      "          [-0.0915, -0.0931, -0.0961,  ..., -0.0378, -0.0536, -0.0669]]],\n",
      "\n",
      "\n",
      "        [[[-0.0709, -0.0593, -0.0677,  ..., -0.0340, -0.0170, -0.0506],\n",
      "          [-0.0690, -0.0320, -0.0192,  ..., -0.0394, -0.0331, -0.0325],\n",
      "          [-0.0031, -0.0111, -0.0183,  ..., -0.0417, -0.0213, -0.0205],\n",
      "          ...,\n",
      "          [-0.0205, -0.0539, -0.0459,  ..., -0.0669, -0.0568, -0.0450],\n",
      "          [-0.0477, -0.0385, -0.0543,  ..., -0.0615, -0.0651, -0.0602],\n",
      "          [-0.0483, -0.0438, -0.0484,  ..., -0.0183, -0.0616, -0.0313]]]])\n"
     ]
    }
   ],
   "execution_count": 23
  },
  {
   "metadata": {
    "ExecuteTime": {
     "end_time": "2024-09-29T15:19:25.505166Z",
     "start_time": "2024-09-29T15:19:25.502340Z"
    }
   },
   "cell_type": "code",
   "source": "print(trainloader)",
   "outputs": [
    {
     "name": "stdout",
     "output_type": "stream",
     "text": [
      "<torch.utils.data.dataloader.DataLoader object at 0x2ac432ac0>\n"
     ]
    }
   ],
   "execution_count": 29
  },
  {
   "metadata": {},
   "cell_type": "code",
   "outputs": [],
   "execution_count": null,
   "source": ""
  }
 ],
 "metadata": {
  "interpreter": {
   "hash": "a22dc5ae7fc477c7dc0ddcf7ca05df53916433d77549bc0f1c55442bcc548058"
  },
  "kernelspec": {
   "display_name": "Python 3.10.14 ('intproject')",
   "language": "python",
   "name": "python3"
  },
  "language_info": {
   "codemirror_mode": {
    "name": "ipython",
    "version": 3
   },
   "file_extension": ".py",
   "mimetype": "text/x-python",
   "name": "python",
   "nbconvert_exporter": "python",
   "pygments_lexer": "ipython3",
   "version": "3.10.14"
  },
  "orig_nbformat": 4
 },
 "nbformat": 4,
 "nbformat_minor": 2
}
