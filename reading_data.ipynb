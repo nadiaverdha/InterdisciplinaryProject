{
 "cells": [
  {
   "cell_type": "markdown",
   "metadata": {},
   "source": [
    "### Monitoring of the water extent of Lake Neusiedl and the Lacken:"
   ]
  },
  {
   "cell_type": "markdown",
   "metadata": {},
   "source": "#### Libraries"
  },
  {
   "cell_type": "code",
   "metadata": {
    "ExecuteTime": {
     "end_time": "2024-08-18T16:29:08.717219Z",
     "start_time": "2024-08-18T16:29:04.853481Z"
    }
   },
   "source": [
    "import os\n",
    "import glob\n",
    "from osgeo import gdal\n",
    "import pprint\n",
    "import numpy as np\n",
    "import matplotlib.pyplot as plt\n",
    "from yeoda.datacube import DataCubeReader,DataCubeWriter\n",
    "from geopathfinder.naming_conventions.yeoda_naming import YeodaFilename\n",
    "import pandas as pd\n",
    "import time\n",
    "import rasterio\n",
    "import glob\n",
    "from rasterio.plot import show\n",
    "import rasterio\n",
    "import numpy as np\n",
    "from rasterio.merge import merge\n",
    "from rasterio.plot import show\n",
    "from osgeo import gdal\n",
    "from data_func import  merge_files_and_split\n",
    "import warnings\n",
    "import numpy as np\n",
    "import glob\n",
    "from six.moves import xrange\n",
    "import scipy.ndimage as ndi\n",
    "import os\n",
    "import tensorflow as tf\n",
    "from keras.preprocessing.image import ImageDataGenerator \n",
    "from keras.utils import img_to_array \n",
    "from torch.utils.data import TensorDataset, DataLoader, Dataset\n",
    "\n",
    "import shutil\n",
    "\n",
    "from PIL import Image, ImageOps, ImageFile\n"
   ],
   "outputs": [],
   "execution_count": 1
  },
  {
   "metadata": {
    "ExecuteTime": {
     "end_time": "2024-08-18T16:29:08.883415Z",
     "start_time": "2024-08-18T16:29:08.881532Z"
    }
   },
   "cell_type": "code",
   "source": "# pip install scipy",
   "outputs": [],
   "execution_count": 2
  },
  {
   "metadata": {
    "ExecuteTime": {
     "end_time": "2024-08-18T16:29:09.127567Z",
     "start_time": "2024-08-18T16:29:09.125214Z"
    }
   },
   "cell_type": "code",
   "source": "warnings.simplefilter(action='ignore', category=FutureWarning)\n",
   "outputs": [],
   "execution_count": 3
  },
  {
   "cell_type": "markdown",
   "metadata": {},
   "source": [
    "\n",
    "\n",
    "#### Reading Data"
   ]
  },
  {
   "cell_type": "code",
   "metadata": {
    "ExecuteTime": {
     "end_time": "2024-08-18T16:29:10.750612Z",
     "start_time": "2024-08-18T16:29:10.747783Z"
    }
   },
   "source": [
    "tile_1 = r\"./e11739391/Sentinel-1_CSAR/EQUI7_EU010M/E053N015T1\"\n",
    "tile_1 = glob.glob(os.path.join(tile_1, \"*\"))"
   ],
   "outputs": [],
   "execution_count": 4
  },
  {
   "cell_type": "code",
   "metadata": {
    "ExecuteTime": {
     "end_time": "2024-08-18T16:29:10.925951Z",
     "start_time": "2024-08-18T16:29:10.923323Z"
    }
   },
   "source": [
    "tile_2 = r\"./e11739391/Sentinel-1_CSAR/EQUI7_EU010M/E052N015T1\"\n",
    "tile_2 = glob.glob(os.path.join(tile_2, \"*\"))"
   ],
   "outputs": [],
   "execution_count": 5
  },
  {
   "cell_type": "code",
   "metadata": {
    "ExecuteTime": {
     "end_time": "2024-08-18T16:29:11.115629Z",
     "start_time": "2024-08-18T16:29:11.112434Z"
    }
   },
   "source": [
    "\n",
    "mask1 = r\"./e11739391/reference/EQUI7_EU010M/E052N015T1\"\n",
    "mask1 = glob.glob(os.path.join(mask1, \"*\"))\n",
    "\n",
    "mask2 = r\"./e11739391/reference/EQUI7_EU010M/E053N015T1\"\n",
    "mask2 = glob.glob(os.path.join(mask2, \"*\"))"
   ],
   "outputs": [],
   "execution_count": 6
  },
  {
   "cell_type": "code",
   "metadata": {
    "ExecuteTime": {
     "end_time": "2024-08-18T16:29:12.104395Z",
     "start_time": "2024-08-18T16:29:11.334546Z"
    }
   },
   "source": [
    "\n",
    "dimensions = [\"time\", \"tile_name\", \"var_name\", \"sensor_field\", \"data_version\"]\n",
    "tile1_reader = DataCubeReader.from_filepaths(tile_1, fn_class=YeodaFilename, dimensions=dimensions,\n",
    "                                             stack_dimension=\"time\", tile_dimension=\"tile_name\")\n",
    "tile1_reader.file_register.head(5)"
   ],
   "outputs": [
    {
     "data": {
      "text/plain": [
       "                                            filepath sensor_field var_name  \\\n",
       "0  ./e11739391/Sentinel-1_CSAR/EQUI7_EU010M/E053N...    S1AIWGRDH    GMR40   \n",
       "1  ./e11739391/Sentinel-1_CSAR/EQUI7_EU010M/E053N...    S1AIWGRDH    GMR40   \n",
       "2  ./e11739391/Sentinel-1_CSAR/EQUI7_EU010M/E053N...    S1AIWGRDH    GMR40   \n",
       "3  ./e11739391/Sentinel-1_CSAR/EQUI7_EU010M/E053N...    S1AIWGRDH    GMR40   \n",
       "4  ./e11739391/Sentinel-1_CSAR/EQUI7_EU010M/E053N...    S1AIWGRDH    GMR40   \n",
       "\n",
       "    tile_name data_version                time  \n",
       "0  E053N015T1      V1M0R01 2022-09-22 16:42:50  \n",
       "1  E053N015T1      V1M0R01 2022-01-17 05:02:29  \n",
       "2  E053N015T1      V1M0R01 2022-06-10 05:02:33  \n",
       "3  E053N015T1      V1M0R01 2022-04-11 05:02:29  \n",
       "4  E053N015T1      V1M0R01 2022-12-07 05:02:12  "
      ],
      "text/html": [
       "<div>\n",
       "<style scoped>\n",
       "    .dataframe tbody tr th:only-of-type {\n",
       "        vertical-align: middle;\n",
       "    }\n",
       "\n",
       "    .dataframe tbody tr th {\n",
       "        vertical-align: top;\n",
       "    }\n",
       "\n",
       "    .dataframe thead th {\n",
       "        text-align: right;\n",
       "    }\n",
       "</style>\n",
       "<table border=\"1\" class=\"dataframe\">\n",
       "  <thead>\n",
       "    <tr style=\"text-align: right;\">\n",
       "      <th></th>\n",
       "      <th>filepath</th>\n",
       "      <th>sensor_field</th>\n",
       "      <th>var_name</th>\n",
       "      <th>tile_name</th>\n",
       "      <th>data_version</th>\n",
       "      <th>time</th>\n",
       "    </tr>\n",
       "  </thead>\n",
       "  <tbody>\n",
       "    <tr>\n",
       "      <th>0</th>\n",
       "      <td>./e11739391/Sentinel-1_CSAR/EQUI7_EU010M/E053N...</td>\n",
       "      <td>S1AIWGRDH</td>\n",
       "      <td>GMR40</td>\n",
       "      <td>E053N015T1</td>\n",
       "      <td>V1M0R01</td>\n",
       "      <td>2022-09-22 16:42:50</td>\n",
       "    </tr>\n",
       "    <tr>\n",
       "      <th>1</th>\n",
       "      <td>./e11739391/Sentinel-1_CSAR/EQUI7_EU010M/E053N...</td>\n",
       "      <td>S1AIWGRDH</td>\n",
       "      <td>GMR40</td>\n",
       "      <td>E053N015T1</td>\n",
       "      <td>V1M0R01</td>\n",
       "      <td>2022-01-17 05:02:29</td>\n",
       "    </tr>\n",
       "    <tr>\n",
       "      <th>2</th>\n",
       "      <td>./e11739391/Sentinel-1_CSAR/EQUI7_EU010M/E053N...</td>\n",
       "      <td>S1AIWGRDH</td>\n",
       "      <td>GMR40</td>\n",
       "      <td>E053N015T1</td>\n",
       "      <td>V1M0R01</td>\n",
       "      <td>2022-06-10 05:02:33</td>\n",
       "    </tr>\n",
       "    <tr>\n",
       "      <th>3</th>\n",
       "      <td>./e11739391/Sentinel-1_CSAR/EQUI7_EU010M/E053N...</td>\n",
       "      <td>S1AIWGRDH</td>\n",
       "      <td>GMR40</td>\n",
       "      <td>E053N015T1</td>\n",
       "      <td>V1M0R01</td>\n",
       "      <td>2022-04-11 05:02:29</td>\n",
       "    </tr>\n",
       "    <tr>\n",
       "      <th>4</th>\n",
       "      <td>./e11739391/Sentinel-1_CSAR/EQUI7_EU010M/E053N...</td>\n",
       "      <td>S1AIWGRDH</td>\n",
       "      <td>GMR40</td>\n",
       "      <td>E053N015T1</td>\n",
       "      <td>V1M0R01</td>\n",
       "      <td>2022-12-07 05:02:12</td>\n",
       "    </tr>\n",
       "  </tbody>\n",
       "</table>\n",
       "</div>"
      ]
     },
     "execution_count": 7,
     "metadata": {},
     "output_type": "execute_result"
    }
   ],
   "execution_count": 7
  },
  {
   "metadata": {
    "ExecuteTime": {
     "end_time": "2024-08-18T16:29:12.820250Z",
     "start_time": "2024-08-18T16:29:12.105296Z"
    }
   },
   "cell_type": "code",
   "source": [
    "\n",
    "tile2_reader = DataCubeReader.from_filepaths(tile_2, fn_class=YeodaFilename, dimensions=dimensions,\n",
    "                                             stack_dimension=\"time\", tile_dimension=\"tile_name\")\n",
    "tile2_reader.file_register.head(5)"
   ],
   "outputs": [
    {
     "data": {
      "text/plain": [
       "                                            filepath sensor_field var_name  \\\n",
       "0  ./e11739391/Sentinel-1_CSAR/EQUI7_EU010M/E052N...    S1AIWGRDH    GMR40   \n",
       "1  ./e11739391/Sentinel-1_CSAR/EQUI7_EU010M/E052N...    S1AIWGRDH    GMR40   \n",
       "2  ./e11739391/Sentinel-1_CSAR/EQUI7_EU010M/E052N...    S1AIWGRDH    GMR40   \n",
       "3  ./e11739391/Sentinel-1_CSAR/EQUI7_EU010M/E052N...    S1AIWGRDH    GMR40   \n",
       "4  ./e11739391/Sentinel-1_CSAR/EQUI7_EU010M/E052N...    S1AIWGRDH    GMR40   \n",
       "\n",
       "    tile_name data_version                time  \n",
       "0  E052N015T1      V1M0R01 2022-06-10 05:02:08  \n",
       "1  E052N015T1      V1M0R01 2022-12-07 05:02:37  \n",
       "2  E052N015T1      V1M0R01 2022-10-20 05:02:13  \n",
       "3  E052N015T1      V1M0R01 2022-02-10 05:02:04  \n",
       "4  E052N015T1      V1M0R01 2022-03-06 05:02:03  "
      ],
      "text/html": [
       "<div>\n",
       "<style scoped>\n",
       "    .dataframe tbody tr th:only-of-type {\n",
       "        vertical-align: middle;\n",
       "    }\n",
       "\n",
       "    .dataframe tbody tr th {\n",
       "        vertical-align: top;\n",
       "    }\n",
       "\n",
       "    .dataframe thead th {\n",
       "        text-align: right;\n",
       "    }\n",
       "</style>\n",
       "<table border=\"1\" class=\"dataframe\">\n",
       "  <thead>\n",
       "    <tr style=\"text-align: right;\">\n",
       "      <th></th>\n",
       "      <th>filepath</th>\n",
       "      <th>sensor_field</th>\n",
       "      <th>var_name</th>\n",
       "      <th>tile_name</th>\n",
       "      <th>data_version</th>\n",
       "      <th>time</th>\n",
       "    </tr>\n",
       "  </thead>\n",
       "  <tbody>\n",
       "    <tr>\n",
       "      <th>0</th>\n",
       "      <td>./e11739391/Sentinel-1_CSAR/EQUI7_EU010M/E052N...</td>\n",
       "      <td>S1AIWGRDH</td>\n",
       "      <td>GMR40</td>\n",
       "      <td>E052N015T1</td>\n",
       "      <td>V1M0R01</td>\n",
       "      <td>2022-06-10 05:02:08</td>\n",
       "    </tr>\n",
       "    <tr>\n",
       "      <th>1</th>\n",
       "      <td>./e11739391/Sentinel-1_CSAR/EQUI7_EU010M/E052N...</td>\n",
       "      <td>S1AIWGRDH</td>\n",
       "      <td>GMR40</td>\n",
       "      <td>E052N015T1</td>\n",
       "      <td>V1M0R01</td>\n",
       "      <td>2022-12-07 05:02:37</td>\n",
       "    </tr>\n",
       "    <tr>\n",
       "      <th>2</th>\n",
       "      <td>./e11739391/Sentinel-1_CSAR/EQUI7_EU010M/E052N...</td>\n",
       "      <td>S1AIWGRDH</td>\n",
       "      <td>GMR40</td>\n",
       "      <td>E052N015T1</td>\n",
       "      <td>V1M0R01</td>\n",
       "      <td>2022-10-20 05:02:13</td>\n",
       "    </tr>\n",
       "    <tr>\n",
       "      <th>3</th>\n",
       "      <td>./e11739391/Sentinel-1_CSAR/EQUI7_EU010M/E052N...</td>\n",
       "      <td>S1AIWGRDH</td>\n",
       "      <td>GMR40</td>\n",
       "      <td>E052N015T1</td>\n",
       "      <td>V1M0R01</td>\n",
       "      <td>2022-02-10 05:02:04</td>\n",
       "    </tr>\n",
       "    <tr>\n",
       "      <th>4</th>\n",
       "      <td>./e11739391/Sentinel-1_CSAR/EQUI7_EU010M/E052N...</td>\n",
       "      <td>S1AIWGRDH</td>\n",
       "      <td>GMR40</td>\n",
       "      <td>E052N015T1</td>\n",
       "      <td>V1M0R01</td>\n",
       "      <td>2022-03-06 05:02:03</td>\n",
       "    </tr>\n",
       "  </tbody>\n",
       "</table>\n",
       "</div>"
      ]
     },
     "execution_count": 8,
     "metadata": {},
     "output_type": "execute_result"
    }
   ],
   "execution_count": 8
  },
  {
   "metadata": {
    "ExecuteTime": {
     "end_time": "2024-08-18T16:29:12.823938Z",
     "start_time": "2024-08-18T16:29:12.820961Z"
    }
   },
   "cell_type": "code",
   "source": "tile1_reader.file_register.sort_values(by = 'time')['time'].unique()",
   "outputs": [
    {
     "data": {
      "text/plain": [
       "<DatetimeArray>\n",
       "['2022-01-17 05:02:04', '2022-01-17 05:02:29', '2022-02-10 05:02:04',\n",
       " '2022-02-10 05:02:29', '2022-03-06 05:02:03', '2022-03-06 05:02:28',\n",
       " '2022-04-11 05:02:04', '2022-04-11 05:02:29', '2022-05-17 05:02:05',\n",
       " '2022-05-17 05:02:30', '2022-06-10 05:02:08', '2022-06-10 05:02:33',\n",
       " '2022-07-24 16:42:48', '2022-07-24 16:43:13', '2022-08-05 16:42:49',\n",
       " '2022-08-05 16:43:14', '2022-09-22 16:42:50', '2022-09-22 16:43:15',\n",
       " '2022-10-20 05:02:13', '2022-10-20 05:02:38', '2022-11-01 05:02:13',\n",
       " '2022-11-01 05:02:38', '2022-12-07 05:02:12', '2022-12-07 05:02:37']\n",
       "Length: 24, dtype: datetime64[ns]"
      ]
     },
     "execution_count": 9,
     "metadata": {},
     "output_type": "execute_result"
    }
   ],
   "execution_count": 9
  },
  {
   "metadata": {
    "ExecuteTime": {
     "end_time": "2024-08-18T16:29:14.315908Z",
     "start_time": "2024-08-18T16:29:12.824997Z"
    }
   },
   "cell_type": "code",
   "source": [
    "mask1_reader = DataCubeReader.from_filepaths(mask1, fn_class=YeodaFilename, dimensions=dimensions,\n",
    "                                             stack_dimension=\"time\", tile_dimension=\"tile_name\")\n",
    "mask2_reader = DataCubeReader.from_filepaths(mask2, fn_class=YeodaFilename, dimensions=dimensions,\n",
    "                                             stack_dimension=\"time\", tile_dimension=\"tile_name\")"
   ],
   "outputs": [],
   "execution_count": 10
  },
  {
   "metadata": {
    "ExecuteTime": {
     "end_time": "2024-08-18T16:29:14.320561Z",
     "start_time": "2024-08-18T16:29:14.316701Z"
    }
   },
   "cell_type": "code",
   "source": "mask2_reader.file_register.head(5)",
   "outputs": [
    {
     "data": {
      "text/plain": [
       "                                            filepath sensor_field var_name  \\\n",
       "0  ./e11739391/reference/EQUI7_EU010M/E053N015T1/...         None     MASK   \n",
       "1  ./e11739391/reference/EQUI7_EU010M/E053N015T1/...         None     MASK   \n",
       "2  ./e11739391/reference/EQUI7_EU010M/E053N015T1/...         None     MASK   \n",
       "3  ./e11739391/reference/EQUI7_EU010M/E053N015T1/...         None     MASK   \n",
       "4  ./e11739391/reference/EQUI7_EU010M/E053N015T1/...         None     MASK   \n",
       "\n",
       "    tile_name data_version       time  \n",
       "0  E053N015T1         None 2022-08-05  \n",
       "1  E053N015T1         None 2022-01-17  \n",
       "2  E053N015T1         None 2022-04-11  \n",
       "3  E053N015T1         None 2022-09-22  \n",
       "4  E053N015T1         None 2022-07-24  "
      ],
      "text/html": [
       "<div>\n",
       "<style scoped>\n",
       "    .dataframe tbody tr th:only-of-type {\n",
       "        vertical-align: middle;\n",
       "    }\n",
       "\n",
       "    .dataframe tbody tr th {\n",
       "        vertical-align: top;\n",
       "    }\n",
       "\n",
       "    .dataframe thead th {\n",
       "        text-align: right;\n",
       "    }\n",
       "</style>\n",
       "<table border=\"1\" class=\"dataframe\">\n",
       "  <thead>\n",
       "    <tr style=\"text-align: right;\">\n",
       "      <th></th>\n",
       "      <th>filepath</th>\n",
       "      <th>sensor_field</th>\n",
       "      <th>var_name</th>\n",
       "      <th>tile_name</th>\n",
       "      <th>data_version</th>\n",
       "      <th>time</th>\n",
       "    </tr>\n",
       "  </thead>\n",
       "  <tbody>\n",
       "    <tr>\n",
       "      <th>0</th>\n",
       "      <td>./e11739391/reference/EQUI7_EU010M/E053N015T1/...</td>\n",
       "      <td>None</td>\n",
       "      <td>MASK</td>\n",
       "      <td>E053N015T1</td>\n",
       "      <td>None</td>\n",
       "      <td>2022-08-05</td>\n",
       "    </tr>\n",
       "    <tr>\n",
       "      <th>1</th>\n",
       "      <td>./e11739391/reference/EQUI7_EU010M/E053N015T1/...</td>\n",
       "      <td>None</td>\n",
       "      <td>MASK</td>\n",
       "      <td>E053N015T1</td>\n",
       "      <td>None</td>\n",
       "      <td>2022-01-17</td>\n",
       "    </tr>\n",
       "    <tr>\n",
       "      <th>2</th>\n",
       "      <td>./e11739391/reference/EQUI7_EU010M/E053N015T1/...</td>\n",
       "      <td>None</td>\n",
       "      <td>MASK</td>\n",
       "      <td>E053N015T1</td>\n",
       "      <td>None</td>\n",
       "      <td>2022-04-11</td>\n",
       "    </tr>\n",
       "    <tr>\n",
       "      <th>3</th>\n",
       "      <td>./e11739391/reference/EQUI7_EU010M/E053N015T1/...</td>\n",
       "      <td>None</td>\n",
       "      <td>MASK</td>\n",
       "      <td>E053N015T1</td>\n",
       "      <td>None</td>\n",
       "      <td>2022-09-22</td>\n",
       "    </tr>\n",
       "    <tr>\n",
       "      <th>4</th>\n",
       "      <td>./e11739391/reference/EQUI7_EU010M/E053N015T1/...</td>\n",
       "      <td>None</td>\n",
       "      <td>MASK</td>\n",
       "      <td>E053N015T1</td>\n",
       "      <td>None</td>\n",
       "      <td>2022-07-24</td>\n",
       "    </tr>\n",
       "  </tbody>\n",
       "</table>\n",
       "</div>"
      ]
     },
     "execution_count": 11,
     "metadata": {},
     "output_type": "execute_result"
    }
   ],
   "execution_count": 11
  },
  {
   "metadata": {
    "ExecuteTime": {
     "end_time": "2024-08-18T16:29:14.325010Z",
     "start_time": "2024-08-18T16:29:14.321200Z"
    }
   },
   "cell_type": "code",
   "source": "mask1_reader.file_register.head(5)",
   "outputs": [
    {
     "data": {
      "text/plain": [
       "                                            filepath sensor_field var_name  \\\n",
       "0  ./e11739391/reference/EQUI7_EU010M/E052N015T1/...         None     MASK   \n",
       "1  ./e11739391/reference/EQUI7_EU010M/E052N015T1/...         None     MASK   \n",
       "2  ./e11739391/reference/EQUI7_EU010M/E052N015T1/...         None     MASK   \n",
       "3  ./e11739391/reference/EQUI7_EU010M/E052N015T1/...         None     MASK   \n",
       "4  ./e11739391/reference/EQUI7_EU010M/E052N015T1/...         None     MASK   \n",
       "\n",
       "    tile_name data_version       time  \n",
       "0  E052N015T1         None 2022-05-17  \n",
       "1  E052N015T1         None 2022-01-17  \n",
       "2  E052N015T1         None 2022-10-20  \n",
       "3  E052N015T1         None 2022-12-07  \n",
       "4  E052N015T1         None 2022-05-17  "
      ],
      "text/html": [
       "<div>\n",
       "<style scoped>\n",
       "    .dataframe tbody tr th:only-of-type {\n",
       "        vertical-align: middle;\n",
       "    }\n",
       "\n",
       "    .dataframe tbody tr th {\n",
       "        vertical-align: top;\n",
       "    }\n",
       "\n",
       "    .dataframe thead th {\n",
       "        text-align: right;\n",
       "    }\n",
       "</style>\n",
       "<table border=\"1\" class=\"dataframe\">\n",
       "  <thead>\n",
       "    <tr style=\"text-align: right;\">\n",
       "      <th></th>\n",
       "      <th>filepath</th>\n",
       "      <th>sensor_field</th>\n",
       "      <th>var_name</th>\n",
       "      <th>tile_name</th>\n",
       "      <th>data_version</th>\n",
       "      <th>time</th>\n",
       "    </tr>\n",
       "  </thead>\n",
       "  <tbody>\n",
       "    <tr>\n",
       "      <th>0</th>\n",
       "      <td>./e11739391/reference/EQUI7_EU010M/E052N015T1/...</td>\n",
       "      <td>None</td>\n",
       "      <td>MASK</td>\n",
       "      <td>E052N015T1</td>\n",
       "      <td>None</td>\n",
       "      <td>2022-05-17</td>\n",
       "    </tr>\n",
       "    <tr>\n",
       "      <th>1</th>\n",
       "      <td>./e11739391/reference/EQUI7_EU010M/E052N015T1/...</td>\n",
       "      <td>None</td>\n",
       "      <td>MASK</td>\n",
       "      <td>E052N015T1</td>\n",
       "      <td>None</td>\n",
       "      <td>2022-01-17</td>\n",
       "    </tr>\n",
       "    <tr>\n",
       "      <th>2</th>\n",
       "      <td>./e11739391/reference/EQUI7_EU010M/E052N015T1/...</td>\n",
       "      <td>None</td>\n",
       "      <td>MASK</td>\n",
       "      <td>E052N015T1</td>\n",
       "      <td>None</td>\n",
       "      <td>2022-10-20</td>\n",
       "    </tr>\n",
       "    <tr>\n",
       "      <th>3</th>\n",
       "      <td>./e11739391/reference/EQUI7_EU010M/E052N015T1/...</td>\n",
       "      <td>None</td>\n",
       "      <td>MASK</td>\n",
       "      <td>E052N015T1</td>\n",
       "      <td>None</td>\n",
       "      <td>2022-12-07</td>\n",
       "    </tr>\n",
       "    <tr>\n",
       "      <th>4</th>\n",
       "      <td>./e11739391/reference/EQUI7_EU010M/E052N015T1/...</td>\n",
       "      <td>None</td>\n",
       "      <td>MASK</td>\n",
       "      <td>E052N015T1</td>\n",
       "      <td>None</td>\n",
       "      <td>2022-05-17</td>\n",
       "    </tr>\n",
       "  </tbody>\n",
       "</table>\n",
       "</div>"
      ]
     },
     "execution_count": 12,
     "metadata": {},
     "output_type": "execute_result"
    }
   ],
   "execution_count": 12
  },
  {
   "metadata": {},
   "cell_type": "markdown",
   "source": "#### Merging files"
  },
  {
   "metadata": {
    "ExecuteTime": {
     "end_time": "2024-08-18T15:24:10.592488Z",
     "start_time": "2024-08-18T15:24:10.586687Z"
    }
   },
   "cell_type": "code",
   "source": "df_concat = pd.concat([tile1_reader.file_register, tile2_reader.file_register], axis=0)",
   "outputs": [],
   "execution_count": 15
  },
  {
   "metadata": {
    "ExecuteTime": {
     "end_time": "2024-08-18T15:24:11.240725Z",
     "start_time": "2024-08-18T15:24:11.234109Z"
    }
   },
   "cell_type": "code",
   "source": "df_concat.head(5)",
   "outputs": [
    {
     "data": {
      "text/plain": [
       "                                            filepath sensor_field  \\\n",
       "0  ./e11739391/Sentinel-1_CSAR/EQUI7_EU010M/E053N...    S1AIWGRDH   \n",
       "1  ./e11739391/Sentinel-1_CSAR/EQUI7_EU010M/E053N...    S1AIWGRDH   \n",
       "2  ./e11739391/Sentinel-1_CSAR/EQUI7_EU010M/E053N...    S1AIWGRDH   \n",
       "3  ./e11739391/Sentinel-1_CSAR/EQUI7_EU010M/E053N...    S1AIWGRDH   \n",
       "4  ./e11739391/Sentinel-1_CSAR/EQUI7_EU010M/E053N...    S1AIWGRDH   \n",
       "\n",
       "  data_version var_name   tile_name                time  \n",
       "0      V1M0R01    GMR40  E053N015T1 2022-09-22 16:42:50  \n",
       "1      V1M0R01    GMR40  E053N015T1 2022-01-17 05:02:29  \n",
       "2      V1M0R01    GMR40  E053N015T1 2022-06-10 05:02:33  \n",
       "3      V1M0R01    GMR40  E053N015T1 2022-04-11 05:02:29  \n",
       "4      V1M0R01    GMR40  E053N015T1 2022-12-07 05:02:12  "
      ],
      "text/html": [
       "<div>\n",
       "<style scoped>\n",
       "    .dataframe tbody tr th:only-of-type {\n",
       "        vertical-align: middle;\n",
       "    }\n",
       "\n",
       "    .dataframe tbody tr th {\n",
       "        vertical-align: top;\n",
       "    }\n",
       "\n",
       "    .dataframe thead th {\n",
       "        text-align: right;\n",
       "    }\n",
       "</style>\n",
       "<table border=\"1\" class=\"dataframe\">\n",
       "  <thead>\n",
       "    <tr style=\"text-align: right;\">\n",
       "      <th></th>\n",
       "      <th>filepath</th>\n",
       "      <th>sensor_field</th>\n",
       "      <th>data_version</th>\n",
       "      <th>var_name</th>\n",
       "      <th>tile_name</th>\n",
       "      <th>time</th>\n",
       "    </tr>\n",
       "  </thead>\n",
       "  <tbody>\n",
       "    <tr>\n",
       "      <th>0</th>\n",
       "      <td>./e11739391/Sentinel-1_CSAR/EQUI7_EU010M/E053N...</td>\n",
       "      <td>S1AIWGRDH</td>\n",
       "      <td>V1M0R01</td>\n",
       "      <td>GMR40</td>\n",
       "      <td>E053N015T1</td>\n",
       "      <td>2022-09-22 16:42:50</td>\n",
       "    </tr>\n",
       "    <tr>\n",
       "      <th>1</th>\n",
       "      <td>./e11739391/Sentinel-1_CSAR/EQUI7_EU010M/E053N...</td>\n",
       "      <td>S1AIWGRDH</td>\n",
       "      <td>V1M0R01</td>\n",
       "      <td>GMR40</td>\n",
       "      <td>E053N015T1</td>\n",
       "      <td>2022-01-17 05:02:29</td>\n",
       "    </tr>\n",
       "    <tr>\n",
       "      <th>2</th>\n",
       "      <td>./e11739391/Sentinel-1_CSAR/EQUI7_EU010M/E053N...</td>\n",
       "      <td>S1AIWGRDH</td>\n",
       "      <td>V1M0R01</td>\n",
       "      <td>GMR40</td>\n",
       "      <td>E053N015T1</td>\n",
       "      <td>2022-06-10 05:02:33</td>\n",
       "    </tr>\n",
       "    <tr>\n",
       "      <th>3</th>\n",
       "      <td>./e11739391/Sentinel-1_CSAR/EQUI7_EU010M/E053N...</td>\n",
       "      <td>S1AIWGRDH</td>\n",
       "      <td>V1M0R01</td>\n",
       "      <td>GMR40</td>\n",
       "      <td>E053N015T1</td>\n",
       "      <td>2022-04-11 05:02:29</td>\n",
       "    </tr>\n",
       "    <tr>\n",
       "      <th>4</th>\n",
       "      <td>./e11739391/Sentinel-1_CSAR/EQUI7_EU010M/E053N...</td>\n",
       "      <td>S1AIWGRDH</td>\n",
       "      <td>V1M0R01</td>\n",
       "      <td>GMR40</td>\n",
       "      <td>E053N015T1</td>\n",
       "      <td>2022-12-07 05:02:12</td>\n",
       "    </tr>\n",
       "  </tbody>\n",
       "</table>\n",
       "</div>"
      ]
     },
     "execution_count": 16,
     "metadata": {},
     "output_type": "execute_result"
    }
   ],
   "execution_count": 16
  },
  {
   "metadata": {
    "ExecuteTime": {
     "end_time": "2024-08-11T07:59:03.380598Z",
     "start_time": "2024-08-11T07:58:13.573618Z"
    }
   },
   "cell_type": "code",
   "source": "merge_files_and_split(df_concat,'VV')",
   "outputs": [
    {
     "name": "stderr",
     "output_type": "stream",
     "text": [
      "/Users/nadia/PycharmProjects/InterdisciplinaryProject/data_func.py:39: SettingWithCopyWarning: \n",
      "A value is trying to be set on a copy of a slice from a DataFrame.\n",
      "Try using .loc[row_indexer,col_indexer] = value instead\n",
      "\n",
      "See the caveats in the documentation: https://pandas.pydata.org/pandas-docs/stable/user_guide/indexing.html#returning-a-view-versus-a-copy\n",
      "  grouped.loc[:, 'date'] = grouped['time'].dt.date\n"
     ]
    },
    {
     "name": "stdout",
     "output_type": "stream",
     "text": [
      "0...10...20...30...40...50...60...70...80...90...100 - done.\n",
      "0...10...20...30...40...50...60...70...80...90...100 - done.\n",
      "0...10...20...30...40...50...60...70...80...90...100 - done.\n",
      "0...10...20...30...40...50...60...70...80...90...100 - done.\n",
      "0...10...20...30...40...50...60...70...80...90...100 - done.\n",
      "0...10...20...30...40...50...60...70...80...90...100 - done.\n",
      "0...10...20...30...40...50...60...70...80...90...100 - done.\n",
      "0...10...20...30...40...50...60...70...80...90...100 - done.\n",
      "0...10...20...30...40...50...60...70...80...90...100 - done.\n",
      "0...10...20...30...40...50...60...70...80...90...100 - done.\n",
      "0...10...20...30...40...50...60...70...80...90...100 - done.\n",
      "0...10...20...30...40...50...60...70...80...90...100 - done.\n"
     ]
    }
   ],
   "execution_count": 15
  },
  {
   "metadata": {
    "ExecuteTime": {
     "end_time": "2024-08-11T07:59:52.858936Z",
     "start_time": "2024-08-11T07:59:03.381860Z"
    }
   },
   "cell_type": "code",
   "source": "merge_files_and_split(df_concat,'VH')",
   "outputs": [
    {
     "name": "stdout",
     "output_type": "stream",
     "text": [
      "0"
     ]
    },
    {
     "name": "stderr",
     "output_type": "stream",
     "text": [
      "/Users/nadia/PycharmProjects/InterdisciplinaryProject/data_func.py:39: SettingWithCopyWarning: \n",
      "A value is trying to be set on a copy of a slice from a DataFrame.\n",
      "Try using .loc[row_indexer,col_indexer] = value instead\n",
      "\n",
      "See the caveats in the documentation: https://pandas.pydata.org/pandas-docs/stable/user_guide/indexing.html#returning-a-view-versus-a-copy\n",
      "  grouped.loc[:, 'date'] = grouped['time'].dt.date\n"
     ]
    },
    {
     "name": "stdout",
     "output_type": "stream",
     "text": [
      "...10...20...30...40...50...60...70...80...90...100 - done.\n",
      "0...10...20...30...40...50...60...70...80...90...100 - done.\n",
      "0...10...20...30...40...50...60...70...80...90...100 - done.\n",
      "0...10...20...30...40...50...60...70...80...90...100 - done.\n",
      "0...10...20...30...40...50...60...70...80...90...100 - done.\n",
      "0...10...20...30...40...50...60...70...80...90...100 - done.\n",
      "0...10...20...30...40...50...60...70...80...90...100 - done.\n",
      "0...10...20...30...40...50...60...70...80...90...100 - done.\n",
      "0...10...20...30...40...50...60...70...80...90...100 - done.\n",
      "0...10...20...30...40...50...60...70...80...90...100 - done.\n",
      "0...10...20...30...40...50...60...70...80...90...100 - done.\n",
      "0...10...20...30...40...50...60...70...80...90...100 - done.\n"
     ]
    }
   ],
   "execution_count": 16
  },
  {
   "metadata": {
    "ExecuteTime": {
     "end_time": "2024-08-18T16:29:17.337637Z",
     "start_time": "2024-08-18T16:29:17.330354Z"
    }
   },
   "cell_type": "code",
   "source": "df_concat_mask= pd.concat([mask1_reader.file_register, mask2_reader.file_register], axis=0)",
   "outputs": [],
   "execution_count": 13
  },
  {
   "metadata": {
    "ExecuteTime": {
     "end_time": "2024-08-18T16:29:56.459830Z",
     "start_time": "2024-08-18T16:29:17.552977Z"
    }
   },
   "cell_type": "code",
   "source": "merge_files_and_split(df_concat_mask,notmask=False)",
   "outputs": [
    {
     "name": "stderr",
     "output_type": "stream",
     "text": [
      "/Users/nadia/PycharmProjects/InterdisciplinaryProject/data_func.py:39: SettingWithCopyWarning: \n",
      "A value is trying to be set on a copy of a slice from a DataFrame.\n",
      "Try using .loc[row_indexer,col_indexer] = value instead\n",
      "\n",
      "See the caveats in the documentation: https://pandas.pydata.org/pandas-docs/stable/user_guide/indexing.html#returning-a-view-versus-a-copy\n",
      "  grouped.loc[:, 'date'] = grouped['time'].dt.date\n"
     ]
    },
    {
     "name": "stdout",
     "output_type": "stream",
     "text": [
      "0...10...20...30...40...50...60...70...80...90...100 - done.\n",
      "0...10...20...30...40...50...60...70...80...90...100 - done.\n",
      "0...10...20...30...40...50...60...70...80...90...100 - done.\n",
      "0...10...20...30...40...50...60...70...80...90...100 - done.\n",
      "0...10...20...30...40...50...60...70...80...90...100 - done.\n",
      "0...10...20...30...40...50...60...70...80...90...100 - done.\n",
      "0...10...20...30...40...50...60...70...80...90...100 - done.\n",
      "0...10...20...30...40...50...60...70...80...90...100 - done.\n",
      "0...10...20...30...40...50...60...70...80...90...100 - done.\n",
      "0...10...20...30...40...50...60...70...80...90...100 - done.\n",
      "0...10...20...30...40...50...60...70...80...90...100 - done.\n",
      "0...10...20...30...40...50...60...70...80...90...100 - done.\n",
      "0...10...20...30...40...50...60...70...80...90...100 - done.\n",
      "0...10...20...30...40...50...60...70...80...90...100 - done.\n",
      "0...10...20...30...40...50...60...70...80...90...100 - done.\n",
      "0...10...20...30...40...50...60...70...80...90...100 - done.\n",
      "0...10...20...30...40...50...60...70...80...90...100 - done.\n",
      "0...10...20...30...40...50...60...70...80...90...100 - done.\n",
      "0...10...20...30...40...50...60...70...80...90...100 - done.\n",
      "0...10...20...30...40...50...60...70...80...90...100 - done.\n",
      "0...10...20...30...40...50...60...70...80...90...100 - done.\n",
      "0...10...20...30...40...50...60...70...80...90...100 - done.\n",
      "0...10...20...30...40...50...60...70...80...90...100 - done.\n",
      "0...10...20...30...40...50...60...70...80...90...100 - done.\n"
     ]
    }
   ],
   "execution_count": 14
  },
  {
   "metadata": {},
   "cell_type": "code",
   "source": "",
   "outputs": [],
   "execution_count": null
  },
  {
   "metadata": {},
   "cell_type": "code",
   "source": "\n",
   "outputs": [],
   "execution_count": null
  },
  {
   "metadata": {},
   "cell_type": "markdown",
   "source": "### Reading merged data"
  },
  {
   "metadata": {
    "ExecuteTime": {
     "end_time": "2024-08-18T17:29:05.059778Z",
     "start_time": "2024-08-18T17:29:05.057161Z"
    }
   },
   "cell_type": "code",
   "source": "path2 = \"./train/VV_2022-01-17_merged.tiff\"",
   "outputs": [],
   "execution_count": 104
  },
  {
   "metadata": {
    "ExecuteTime": {
     "end_time": "2024-08-18T17:29:05.389696Z",
     "start_time": "2024-08-18T17:29:05.384526Z"
    }
   },
   "cell_type": "code",
   "source": [
    "path = \"./e11739391/Sentinel-1_CSAR/EQUI7_EU010M/E053N015T1/GMR40_20220411T050204__VV_D124_E053N015T1_EU010M_V1M0R01_S1AIWGRDH.tif\"\n",
    "\n",
    "x =rasterio.open(path2)"
   ],
   "outputs": [],
   "execution_count": 105
  },
  {
   "metadata": {
    "ExecuteTime": {
     "end_time": "2024-08-18T17:29:07.323760Z",
     "start_time": "2024-08-18T17:29:05.917333Z"
    }
   },
   "cell_type": "code",
   "source": [
    "image_data= x.read(1)\n",
    "plt.imshow(image_data)\n",
    "plt.title(\"Image Data\")\n",
    "plt.show()"
   ],
   "outputs": [
    {
     "data": {
      "text/plain": [
       "<Figure size 640x480 with 1 Axes>"
      ],
      "image/png": "[encoded data removed]"
     },
     "metadata": {},
     "output_type": "display_data"
    }
   ],
   "execution_count": 106
  },
  {
   "metadata": {
    "ExecuteTime": {
     "end_time": "2024-08-18T17:29:15.399277Z",
     "start_time": "2024-08-18T17:29:15.396913Z"
    }
   },
   "cell_type": "code",
   "source": [
    "# Image.MAX_IMAGE_PIXELS = None\n",
    "# ImageFile.LOAD_TRUNCATED_IMAGES = True"
   ],
   "outputs": [],
   "execution_count": 107
  },
  {
   "metadata": {
    "ExecuteTime": {
     "end_time": "2024-08-18T16:30:18.440807Z",
     "start_time": "2024-08-18T16:30:18.437325Z"
    }
   },
   "cell_type": "code",
   "source": [
    "train = \"./train/*.tiff\"\n",
    "mask_train = \"./train_mask/*.tiff\"\n",
    "img_list = sorted(glob.glob(train))\n",
    "mask_list = sorted(glob.glob(mask_train))"
   ],
   "outputs": [],
   "execution_count": 15
  },
  {
   "metadata": {
    "ExecuteTime": {
     "end_time": "2024-08-18T16:30:19.221971Z",
     "start_time": "2024-08-18T16:30:19.217888Z"
    }
   },
   "cell_type": "code",
   "source": [
    "file_num = len(img_list)\n",
    "output_filename = './try.txt'\n",
    "with open(output_filename, 'w') as f:\n",
    "    for s in range(file_num):\n",
    "        print(img_list[s][2:])\n",
    "        f.write(img_list[s]+ '\\t' + mask_list[s] + '\\n' )"
   ],
   "outputs": [
    {
     "name": "stdout",
     "output_type": "stream",
     "text": [
      "train/VH_2022-01-17_merged.tiff\n",
      "train/VH_2022-02-10_merged.tiff\n",
      "train/VH_2022-03-06_merged.tiff\n",
      "train/VH_2022-06-10_merged.tiff\n",
      "train/VH_2022-09-22_merged.tiff\n",
      "train/VH_2022-10-20_merged.tiff\n",
      "train/VH_2022-11-01_merged.tiff\n",
      "train/VH_2022-12-07_merged.tiff\n",
      "train/VV_2022-01-17_merged.tiff\n",
      "train/VV_2022-02-10_merged.tiff\n",
      "train/VV_2022-03-06_merged.tiff\n",
      "train/VV_2022-06-10_merged.tiff\n",
      "train/VV_2022-09-22_merged.tiff\n",
      "train/VV_2022-10-20_merged.tiff\n",
      "train/VV_2022-11-01_merged.tiff\n",
      "train/VV_2022-12-07_merged.tiff\n"
     ]
    }
   ],
   "execution_count": 16
  },
  {
   "metadata": {},
   "cell_type": "code",
   "source": [
    "import os\n",
    "os.makedirs(\"./augmented_images\",exist_ok=True)"
   ],
   "outputs": [],
   "execution_count": null
  },
  {
   "metadata": {},
   "cell_type": "code",
   "source": [
    "datagen = ImageDataGenerator( \n",
    "        rotation_range = 40, \n",
    "        shear_range = 0.2, \n",
    "        zoom_range = 0.2, \n",
    "        horizontal_flip = True, \n",
    "        brightness_range = (0.5, 1.5)) "
   ],
   "outputs": [],
   "execution_count": null
  },
  {
   "metadata": {},
   "cell_type": "code",
   "source": "img = Image.open(\"./train/\" + l[1])",
   "outputs": [],
   "execution_count": null
  },
  {
   "metadata": {},
   "cell_type": "code",
   "source": [
    "l = os.listdir(\"./train/\")\n",
    "l[1]"
   ],
   "outputs": [],
   "execution_count": null
  },
  {
   "metadata": {},
   "cell_type": "code",
   "source": [
    "img_arr = img_to_array(img)\n",
    "img_arr = img_arr.reshape((1,) + img_arr.shape)\n",
    "\n",
    "i = 0\n",
    "for batch in datagen.flow(\n",
    "    img_arr,\n",
    "    batch_size=1,\n",
    "    save_to_dir='./augmented_images',\n",
    "    save_prefix=l[1] +'_augemented' ,\n",
    "    save_format='tif'):\n",
    "    i += 1\n",
    "    if i > 2: # create 20 augmented images\n",
    "        break "
   ],
   "outputs": [],
   "execution_count": null
  },
  {
   "metadata": {
    "ExecuteTime": {
     "end_time": "2024-08-18T14:51:22.980487Z",
     "start_time": "2024-08-18T14:51:22.978694Z"
    }
   },
   "cell_type": "code",
   "source": "# pip install opencv-python==4.6.0.66",
   "outputs": [],
   "execution_count": 12
  },
  {
   "metadata": {
    "ExecuteTime": {
     "end_time": "2024-08-18T15:38:35.516050Z",
     "start_time": "2024-08-18T15:38:35.421795Z"
    }
   },
   "cell_type": "code",
   "source": "import cv2",
   "outputs": [],
   "execution_count": 53
  },
  {
   "metadata": {
    "ExecuteTime": {
     "end_time": "2024-08-18T18:28:12.198629Z",
     "start_time": "2024-08-18T18:28:12.194980Z"
    }
   },
   "cell_type": "code",
   "source": [
    "class Images(Dataset):\n",
    "    def __init__(self, image_path, mask_path ,transforms,train_mode = True):\n",
    "        self.image_path = image_path\n",
    "        self.transforms = transforms\n",
    "        self.mask_path = mask_path\n",
    "        self.train_mode = train_mode  \n",
    "        \n",
    "        print(len(self.image_path))\n",
    "        # print(len(self.mask_path))\n",
    "        \n",
    "    def __len__(self):\n",
    "        return len(self.image_path)\n",
    "    \n",
    "    def __getitem__(self, index):\n",
    "        with rasterio.open(self.image_path[index]) as img_file:\n",
    "            img = img_file.read(1)\n",
    "            # print(img)# Read the first band\n",
    "        \n",
    "        with rasterio.open(self.mask_path[index]) as mask_file:\n",
    "            mask = mask_file.read(1)  \n",
    "            \n",
    "        if self.transforms is not None:\n",
    "                img = self.transforms(img)\n",
    "                mask = self.transforms(mask)\n",
    "                    \n",
    "        return (img,mask)\n",
    "    \n",
    "        # return self.image_path[index],self.mask_path[index]"
   ],
   "outputs": [],
   "execution_count": 192
  },
  {
   "metadata": {
    "ExecuteTime": {
     "end_time": "2024-08-18T18:28:12.529865Z",
     "start_time": "2024-08-18T18:28:12.526274Z"
    }
   },
   "cell_type": "code",
   "source": [
    "train = \"./train/.tiff\"\n",
    "# mask_train = \"./train_mask/*.tiff\"\n",
    "file = \"./try/\"\n",
    "img_list = sorted(glob.glob('./train/*.tiff'))\n",
    "mask_list = sorted(glob.glob('./train_mask/*.tiff'))\n"
   ],
   "outputs": [],
   "execution_count": 193
  },
  {
   "metadata": {
    "ExecuteTime": {
     "end_time": "2024-08-18T18:28:12.853173Z",
     "start_time": "2024-08-18T18:28:12.849382Z"
    }
   },
   "cell_type": "code",
   "source": "trainDS = Images(img_list,mask_list,transforms=None)",
   "outputs": [
    {
     "name": "stdout",
     "output_type": "stream",
     "text": [
      "16\n"
     ]
    }
   ],
   "execution_count": 194
  },
  {
   "metadata": {
    "ExecuteTime": {
     "end_time": "2024-08-18T18:28:13.135415Z",
     "start_time": "2024-08-18T18:28:13.132445Z"
    }
   },
   "cell_type": "code",
   "source": "trainLoader = DataLoader(trainDS, shuffle=True,batch_size=16)",
   "outputs": [],
   "execution_count": 195
  },
  {
   "metadata": {
    "ExecuteTime": {
     "end_time": "2024-08-18T18:28:24.839613Z",
     "start_time": "2024-08-18T18:28:13.509469Z"
    }
   },
   "cell_type": "code",
   "source": [
    "x,y= next(iter(trainLoader))\n",
    "i = 0\n",
    "for a,b in zip(x,y):\n",
    "    print(plt.imshow(b))\n",
    "    i+=1\n",
    "    if (i==2):\n",
    "        break"
   ],
   "outputs": [
    {
     "name": "stdout",
     "output_type": "stream",
     "text": [
      "AxesImage(size=(10000, 20000))\n",
      "AxesImage(size=(10000, 20000))\n"
     ]
    },
    {
     "data": {
      "text/plain": [
       "<Figure size 640x480 with 1 Axes>"
      ],
      "image/png": "[encoded data removed]"
     },
     "metadata": {},
     "output_type": "display_data"
    }
   ],
   "execution_count": 196
  },
  {
   "metadata": {
    "ExecuteTime": {
     "end_time": "2024-08-18T18:27:43.108691Z",
     "start_time": "2024-08-18T18:27:34.369519Z"
    }
   },
   "cell_type": "code",
   "source": [
    "y= next(iter(trainLoader))\n",
    "i = 0\n",
    "for b in zip(y):\n",
    "    print(plt.imshow(b))\n",
    "    i+=1\n",
    "    if (i==2):\n",
    "        break"
   ],
   "outputs": [
    {
     "ename": "ValueError",
     "evalue": "only one element tensors can be converted to Python scalars",
     "output_type": "error",
     "traceback": [
      "\u001B[0;31m---------------------------------------------------------------------------\u001B[0m",
      "\u001B[0;31mValueError\u001B[0m                                Traceback (most recent call last)",
      "Cell \u001B[0;32mIn[191], line 4\u001B[0m\n\u001B[1;32m      2\u001B[0m i \u001B[38;5;241m=\u001B[39m \u001B[38;5;241m0\u001B[39m\n\u001B[1;32m      3\u001B[0m \u001B[38;5;28;01mfor\u001B[39;00m b \u001B[38;5;129;01min\u001B[39;00m \u001B[38;5;28mzip\u001B[39m(y):\n\u001B[0;32m----> 4\u001B[0m     \u001B[38;5;28mprint\u001B[39m(\u001B[43mplt\u001B[49m\u001B[38;5;241;43m.\u001B[39;49m\u001B[43mimshow\u001B[49m\u001B[43m(\u001B[49m\u001B[43mb\u001B[49m\u001B[43m)\u001B[49m)\n\u001B[1;32m      5\u001B[0m     i\u001B[38;5;241m+\u001B[39m\u001B[38;5;241m=\u001B[39m\u001B[38;5;241m1\u001B[39m\n\u001B[1;32m      6\u001B[0m     \u001B[38;5;28;01mif\u001B[39;00m (i\u001B[38;5;241m==\u001B[39m\u001B[38;5;241m2\u001B[39m):\n",
      "File \u001B[0;32m/opt/miniconda3/envs/IntProject/lib/python3.8/site-packages/matplotlib/pyplot.py:2695\u001B[0m, in \u001B[0;36mimshow\u001B[0;34m(X, cmap, norm, aspect, interpolation, alpha, vmin, vmax, origin, extent, interpolation_stage, filternorm, filterrad, resample, url, data, **kwargs)\u001B[0m\n\u001B[1;32m   2689\u001B[0m \u001B[38;5;129m@_copy_docstring_and_deprecators\u001B[39m(Axes\u001B[38;5;241m.\u001B[39mimshow)\n\u001B[1;32m   2690\u001B[0m \u001B[38;5;28;01mdef\u001B[39;00m \u001B[38;5;21mimshow\u001B[39m(\n\u001B[1;32m   2691\u001B[0m         X, cmap\u001B[38;5;241m=\u001B[39m\u001B[38;5;28;01mNone\u001B[39;00m, norm\u001B[38;5;241m=\u001B[39m\u001B[38;5;28;01mNone\u001B[39;00m, \u001B[38;5;241m*\u001B[39m, aspect\u001B[38;5;241m=\u001B[39m\u001B[38;5;28;01mNone\u001B[39;00m, interpolation\u001B[38;5;241m=\u001B[39m\u001B[38;5;28;01mNone\u001B[39;00m,\n\u001B[1;32m   2692\u001B[0m         alpha\u001B[38;5;241m=\u001B[39m\u001B[38;5;28;01mNone\u001B[39;00m, vmin\u001B[38;5;241m=\u001B[39m\u001B[38;5;28;01mNone\u001B[39;00m, vmax\u001B[38;5;241m=\u001B[39m\u001B[38;5;28;01mNone\u001B[39;00m, origin\u001B[38;5;241m=\u001B[39m\u001B[38;5;28;01mNone\u001B[39;00m, extent\u001B[38;5;241m=\u001B[39m\u001B[38;5;28;01mNone\u001B[39;00m,\n\u001B[1;32m   2693\u001B[0m         interpolation_stage\u001B[38;5;241m=\u001B[39m\u001B[38;5;28;01mNone\u001B[39;00m, filternorm\u001B[38;5;241m=\u001B[39m\u001B[38;5;28;01mTrue\u001B[39;00m, filterrad\u001B[38;5;241m=\u001B[39m\u001B[38;5;241m4.0\u001B[39m,\n\u001B[1;32m   2694\u001B[0m         resample\u001B[38;5;241m=\u001B[39m\u001B[38;5;28;01mNone\u001B[39;00m, url\u001B[38;5;241m=\u001B[39m\u001B[38;5;28;01mNone\u001B[39;00m, data\u001B[38;5;241m=\u001B[39m\u001B[38;5;28;01mNone\u001B[39;00m, \u001B[38;5;241m*\u001B[39m\u001B[38;5;241m*\u001B[39mkwargs):\n\u001B[0;32m-> 2695\u001B[0m     __ret \u001B[38;5;241m=\u001B[39m \u001B[43mgca\u001B[49m\u001B[43m(\u001B[49m\u001B[43m)\u001B[49m\u001B[38;5;241;43m.\u001B[39;49m\u001B[43mimshow\u001B[49m\u001B[43m(\u001B[49m\n\u001B[1;32m   2696\u001B[0m \u001B[43m        \u001B[49m\u001B[43mX\u001B[49m\u001B[43m,\u001B[49m\u001B[43m \u001B[49m\u001B[43mcmap\u001B[49m\u001B[38;5;241;43m=\u001B[39;49m\u001B[43mcmap\u001B[49m\u001B[43m,\u001B[49m\u001B[43m \u001B[49m\u001B[43mnorm\u001B[49m\u001B[38;5;241;43m=\u001B[39;49m\u001B[43mnorm\u001B[49m\u001B[43m,\u001B[49m\u001B[43m \u001B[49m\u001B[43maspect\u001B[49m\u001B[38;5;241;43m=\u001B[39;49m\u001B[43maspect\u001B[49m\u001B[43m,\u001B[49m\n\u001B[1;32m   2697\u001B[0m \u001B[43m        \u001B[49m\u001B[43minterpolation\u001B[49m\u001B[38;5;241;43m=\u001B[39;49m\u001B[43minterpolation\u001B[49m\u001B[43m,\u001B[49m\u001B[43m \u001B[49m\u001B[43malpha\u001B[49m\u001B[38;5;241;43m=\u001B[39;49m\u001B[43malpha\u001B[49m\u001B[43m,\u001B[49m\u001B[43m \u001B[49m\u001B[43mvmin\u001B[49m\u001B[38;5;241;43m=\u001B[39;49m\u001B[43mvmin\u001B[49m\u001B[43m,\u001B[49m\n\u001B[1;32m   2698\u001B[0m \u001B[43m        \u001B[49m\u001B[43mvmax\u001B[49m\u001B[38;5;241;43m=\u001B[39;49m\u001B[43mvmax\u001B[49m\u001B[43m,\u001B[49m\u001B[43m \u001B[49m\u001B[43morigin\u001B[49m\u001B[38;5;241;43m=\u001B[39;49m\u001B[43morigin\u001B[49m\u001B[43m,\u001B[49m\u001B[43m \u001B[49m\u001B[43mextent\u001B[49m\u001B[38;5;241;43m=\u001B[39;49m\u001B[43mextent\u001B[49m\u001B[43m,\u001B[49m\n\u001B[1;32m   2699\u001B[0m \u001B[43m        \u001B[49m\u001B[43minterpolation_stage\u001B[49m\u001B[38;5;241;43m=\u001B[39;49m\u001B[43minterpolation_stage\u001B[49m\u001B[43m,\u001B[49m\n\u001B[1;32m   2700\u001B[0m \u001B[43m        \u001B[49m\u001B[43mfilternorm\u001B[49m\u001B[38;5;241;43m=\u001B[39;49m\u001B[43mfilternorm\u001B[49m\u001B[43m,\u001B[49m\u001B[43m \u001B[49m\u001B[43mfilterrad\u001B[49m\u001B[38;5;241;43m=\u001B[39;49m\u001B[43mfilterrad\u001B[49m\u001B[43m,\u001B[49m\u001B[43m \u001B[49m\u001B[43mresample\u001B[49m\u001B[38;5;241;43m=\u001B[39;49m\u001B[43mresample\u001B[49m\u001B[43m,\u001B[49m\n\u001B[1;32m   2701\u001B[0m \u001B[43m        \u001B[49m\u001B[43murl\u001B[49m\u001B[38;5;241;43m=\u001B[39;49m\u001B[43murl\u001B[49m\u001B[43m,\u001B[49m\u001B[43m \u001B[49m\u001B[38;5;241;43m*\u001B[39;49m\u001B[38;5;241;43m*\u001B[39;49m\u001B[43m(\u001B[49m\u001B[43m{\u001B[49m\u001B[38;5;124;43m\"\u001B[39;49m\u001B[38;5;124;43mdata\u001B[39;49m\u001B[38;5;124;43m\"\u001B[39;49m\u001B[43m:\u001B[49m\u001B[43m \u001B[49m\u001B[43mdata\u001B[49m\u001B[43m}\u001B[49m\u001B[43m \u001B[49m\u001B[38;5;28;43;01mif\u001B[39;49;00m\u001B[43m \u001B[49m\u001B[43mdata\u001B[49m\u001B[43m \u001B[49m\u001B[38;5;129;43;01mis\u001B[39;49;00m\u001B[43m \u001B[49m\u001B[38;5;129;43;01mnot\u001B[39;49;00m\u001B[43m \u001B[49m\u001B[38;5;28;43;01mNone\u001B[39;49;00m\u001B[43m \u001B[49m\u001B[38;5;28;43;01melse\u001B[39;49;00m\u001B[43m \u001B[49m\u001B[43m{\u001B[49m\u001B[43m}\u001B[49m\u001B[43m)\u001B[49m\u001B[43m,\u001B[49m\n\u001B[1;32m   2702\u001B[0m \u001B[43m        \u001B[49m\u001B[38;5;241;43m*\u001B[39;49m\u001B[38;5;241;43m*\u001B[39;49m\u001B[43mkwargs\u001B[49m\u001B[43m)\u001B[49m\n\u001B[1;32m   2703\u001B[0m     sci(__ret)\n\u001B[1;32m   2704\u001B[0m     \u001B[38;5;28;01mreturn\u001B[39;00m __ret\n",
      "File \u001B[0;32m/opt/miniconda3/envs/IntProject/lib/python3.8/site-packages/matplotlib/__init__.py:1446\u001B[0m, in \u001B[0;36m_preprocess_data.<locals>.inner\u001B[0;34m(ax, data, *args, **kwargs)\u001B[0m\n\u001B[1;32m   1443\u001B[0m \u001B[38;5;129m@functools\u001B[39m\u001B[38;5;241m.\u001B[39mwraps(func)\n\u001B[1;32m   1444\u001B[0m \u001B[38;5;28;01mdef\u001B[39;00m \u001B[38;5;21minner\u001B[39m(ax, \u001B[38;5;241m*\u001B[39margs, data\u001B[38;5;241m=\u001B[39m\u001B[38;5;28;01mNone\u001B[39;00m, \u001B[38;5;241m*\u001B[39m\u001B[38;5;241m*\u001B[39mkwargs):\n\u001B[1;32m   1445\u001B[0m     \u001B[38;5;28;01mif\u001B[39;00m data \u001B[38;5;129;01mis\u001B[39;00m \u001B[38;5;28;01mNone\u001B[39;00m:\n\u001B[0;32m-> 1446\u001B[0m         \u001B[38;5;28;01mreturn\u001B[39;00m \u001B[43mfunc\u001B[49m\u001B[43m(\u001B[49m\u001B[43max\u001B[49m\u001B[43m,\u001B[49m\u001B[43m \u001B[49m\u001B[38;5;241;43m*\u001B[39;49m\u001B[38;5;28;43mmap\u001B[39;49m\u001B[43m(\u001B[49m\u001B[43msanitize_sequence\u001B[49m\u001B[43m,\u001B[49m\u001B[43m \u001B[49m\u001B[43margs\u001B[49m\u001B[43m)\u001B[49m\u001B[43m,\u001B[49m\u001B[43m \u001B[49m\u001B[38;5;241;43m*\u001B[39;49m\u001B[38;5;241;43m*\u001B[39;49m\u001B[43mkwargs\u001B[49m\u001B[43m)\u001B[49m\n\u001B[1;32m   1448\u001B[0m     bound \u001B[38;5;241m=\u001B[39m new_sig\u001B[38;5;241m.\u001B[39mbind(ax, \u001B[38;5;241m*\u001B[39margs, \u001B[38;5;241m*\u001B[39m\u001B[38;5;241m*\u001B[39mkwargs)\n\u001B[1;32m   1449\u001B[0m     auto_label \u001B[38;5;241m=\u001B[39m (bound\u001B[38;5;241m.\u001B[39marguments\u001B[38;5;241m.\u001B[39mget(label_namer)\n\u001B[1;32m   1450\u001B[0m                   \u001B[38;5;129;01mor\u001B[39;00m bound\u001B[38;5;241m.\u001B[39mkwargs\u001B[38;5;241m.\u001B[39mget(label_namer))\n",
      "File \u001B[0;32m/opt/miniconda3/envs/IntProject/lib/python3.8/site-packages/matplotlib/axes/_axes.py:5663\u001B[0m, in \u001B[0;36mAxes.imshow\u001B[0;34m(self, X, cmap, norm, aspect, interpolation, alpha, vmin, vmax, origin, extent, interpolation_stage, filternorm, filterrad, resample, url, **kwargs)\u001B[0m\n\u001B[1;32m   5655\u001B[0m \u001B[38;5;28mself\u001B[39m\u001B[38;5;241m.\u001B[39mset_aspect(aspect)\n\u001B[1;32m   5656\u001B[0m im \u001B[38;5;241m=\u001B[39m mimage\u001B[38;5;241m.\u001B[39mAxesImage(\u001B[38;5;28mself\u001B[39m, cmap\u001B[38;5;241m=\u001B[39mcmap, norm\u001B[38;5;241m=\u001B[39mnorm,\n\u001B[1;32m   5657\u001B[0m                       interpolation\u001B[38;5;241m=\u001B[39minterpolation, origin\u001B[38;5;241m=\u001B[39morigin,\n\u001B[1;32m   5658\u001B[0m                       extent\u001B[38;5;241m=\u001B[39mextent, filternorm\u001B[38;5;241m=\u001B[39mfilternorm,\n\u001B[1;32m   5659\u001B[0m                       filterrad\u001B[38;5;241m=\u001B[39mfilterrad, resample\u001B[38;5;241m=\u001B[39mresample,\n\u001B[1;32m   5660\u001B[0m                       interpolation_stage\u001B[38;5;241m=\u001B[39minterpolation_stage,\n\u001B[1;32m   5661\u001B[0m                       \u001B[38;5;241m*\u001B[39m\u001B[38;5;241m*\u001B[39mkwargs)\n\u001B[0;32m-> 5663\u001B[0m \u001B[43mim\u001B[49m\u001B[38;5;241;43m.\u001B[39;49m\u001B[43mset_data\u001B[49m\u001B[43m(\u001B[49m\u001B[43mX\u001B[49m\u001B[43m)\u001B[49m\n\u001B[1;32m   5664\u001B[0m im\u001B[38;5;241m.\u001B[39mset_alpha(alpha)\n\u001B[1;32m   5665\u001B[0m \u001B[38;5;28;01mif\u001B[39;00m im\u001B[38;5;241m.\u001B[39mget_clip_path() \u001B[38;5;129;01mis\u001B[39;00m \u001B[38;5;28;01mNone\u001B[39;00m:\n\u001B[1;32m   5666\u001B[0m     \u001B[38;5;66;03m# image does not already have clipping set, clip to axes patch\u001B[39;00m\n",
      "File \u001B[0;32m/opt/miniconda3/envs/IntProject/lib/python3.8/site-packages/matplotlib/image.py:697\u001B[0m, in \u001B[0;36m_ImageBase.set_data\u001B[0;34m(self, A)\u001B[0m\n\u001B[1;32m    695\u001B[0m \u001B[38;5;28;01mif\u001B[39;00m \u001B[38;5;28misinstance\u001B[39m(A, PIL\u001B[38;5;241m.\u001B[39mImage\u001B[38;5;241m.\u001B[39mImage):\n\u001B[1;32m    696\u001B[0m     A \u001B[38;5;241m=\u001B[39m pil_to_array(A)  \u001B[38;5;66;03m# Needed e.g. to apply png palette.\u001B[39;00m\n\u001B[0;32m--> 697\u001B[0m \u001B[38;5;28mself\u001B[39m\u001B[38;5;241m.\u001B[39m_A \u001B[38;5;241m=\u001B[39m \u001B[43mcbook\u001B[49m\u001B[38;5;241;43m.\u001B[39;49m\u001B[43msafe_masked_invalid\u001B[49m\u001B[43m(\u001B[49m\u001B[43mA\u001B[49m\u001B[43m,\u001B[49m\u001B[43m \u001B[49m\u001B[43mcopy\u001B[49m\u001B[38;5;241;43m=\u001B[39;49m\u001B[38;5;28;43;01mTrue\u001B[39;49;00m\u001B[43m)\u001B[49m\n\u001B[1;32m    699\u001B[0m \u001B[38;5;28;01mif\u001B[39;00m (\u001B[38;5;28mself\u001B[39m\u001B[38;5;241m.\u001B[39m_A\u001B[38;5;241m.\u001B[39mdtype \u001B[38;5;241m!=\u001B[39m np\u001B[38;5;241m.\u001B[39muint8 \u001B[38;5;129;01mand\u001B[39;00m\n\u001B[1;32m    700\u001B[0m         \u001B[38;5;129;01mnot\u001B[39;00m np\u001B[38;5;241m.\u001B[39mcan_cast(\u001B[38;5;28mself\u001B[39m\u001B[38;5;241m.\u001B[39m_A\u001B[38;5;241m.\u001B[39mdtype, \u001B[38;5;28mfloat\u001B[39m, \u001B[38;5;124m\"\u001B[39m\u001B[38;5;124msame_kind\u001B[39m\u001B[38;5;124m\"\u001B[39m)):\n\u001B[1;32m    701\u001B[0m     \u001B[38;5;28;01mraise\u001B[39;00m \u001B[38;5;167;01mTypeError\u001B[39;00m(\u001B[38;5;124m\"\u001B[39m\u001B[38;5;124mImage data of dtype \u001B[39m\u001B[38;5;132;01m{}\u001B[39;00m\u001B[38;5;124m cannot be converted to \u001B[39m\u001B[38;5;124m\"\u001B[39m\n\u001B[1;32m    702\u001B[0m                     \u001B[38;5;124m\"\u001B[39m\u001B[38;5;124mfloat\u001B[39m\u001B[38;5;124m\"\u001B[39m\u001B[38;5;241m.\u001B[39mformat(\u001B[38;5;28mself\u001B[39m\u001B[38;5;241m.\u001B[39m_A\u001B[38;5;241m.\u001B[39mdtype))\n",
      "File \u001B[0;32m/opt/miniconda3/envs/IntProject/lib/python3.8/site-packages/matplotlib/cbook/__init__.py:719\u001B[0m, in \u001B[0;36msafe_masked_invalid\u001B[0;34m(x, copy)\u001B[0m\n\u001B[1;32m    718\u001B[0m \u001B[38;5;28;01mdef\u001B[39;00m \u001B[38;5;21msafe_masked_invalid\u001B[39m(x, copy\u001B[38;5;241m=\u001B[39m\u001B[38;5;28;01mFalse\u001B[39;00m):\n\u001B[0;32m--> 719\u001B[0m     x \u001B[38;5;241m=\u001B[39m \u001B[43mnp\u001B[49m\u001B[38;5;241;43m.\u001B[39;49m\u001B[43marray\u001B[49m\u001B[43m(\u001B[49m\u001B[43mx\u001B[49m\u001B[43m,\u001B[49m\u001B[43m \u001B[49m\u001B[43msubok\u001B[49m\u001B[38;5;241;43m=\u001B[39;49m\u001B[38;5;28;43;01mTrue\u001B[39;49;00m\u001B[43m,\u001B[49m\u001B[43m \u001B[49m\u001B[43mcopy\u001B[49m\u001B[38;5;241;43m=\u001B[39;49m\u001B[43mcopy\u001B[49m\u001B[43m)\u001B[49m\n\u001B[1;32m    720\u001B[0m     \u001B[38;5;28;01mif\u001B[39;00m \u001B[38;5;129;01mnot\u001B[39;00m x\u001B[38;5;241m.\u001B[39mdtype\u001B[38;5;241m.\u001B[39misnative:\n\u001B[1;32m    721\u001B[0m         \u001B[38;5;66;03m# If we have already made a copy, do the byteswap in place, else make a\u001B[39;00m\n\u001B[1;32m    722\u001B[0m         \u001B[38;5;66;03m# copy with the byte order swapped.\u001B[39;00m\n\u001B[1;32m    723\u001B[0m         x \u001B[38;5;241m=\u001B[39m x\u001B[38;5;241m.\u001B[39mbyteswap(inplace\u001B[38;5;241m=\u001B[39mcopy)\u001B[38;5;241m.\u001B[39mnewbyteorder(\u001B[38;5;124m'\u001B[39m\u001B[38;5;124mN\u001B[39m\u001B[38;5;124m'\u001B[39m)  \u001B[38;5;66;03m# Swap to native order.\u001B[39;00m\n",
      "\u001B[0;31mValueError\u001B[0m: only one element tensors can be converted to Python scalars"
     ]
    },
    {
     "data": {
      "text/plain": [
       "<Figure size 640x480 with 1 Axes>"
      ],
      "image/png": "[encoded data removed]"
     },
     "metadata": {},
     "output_type": "display_data"
    }
   ],
   "execution_count": 191
  },
  {
   "metadata": {},
   "cell_type": "code",
   "outputs": [],
   "execution_count": null,
   "source": ""
  }
 ],
 "metadata": {
  "interpreter": {
   "hash": "a22dc5ae7fc477c7dc0ddcf7ca05df53916433d77549bc0f1c55442bcc548058"
  },
  "kernelspec": {
   "display_name": "Python 3.10.14 ('intproject')",
   "language": "python",
   "name": "python3"
  },
  "language_info": {
   "codemirror_mode": {
    "name": "ipython",
    "version": 3
   },
   "file_extension": ".py",
   "mimetype": "text/x-python",
   "name": "python",
   "nbconvert_exporter": "python",
   "pygments_lexer": "ipython3",
   "version": "3.10.14"
  },
  "orig_nbformat": 4
 },
 "nbformat": 4,
 "nbformat_minor": 2
}
