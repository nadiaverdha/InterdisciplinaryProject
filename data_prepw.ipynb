{
 "cells": [
  {
   "cell_type": "markdown",
   "metadata": {},
   "source": [
    "### Monitoring of the water extent of Lake Neusiedl and the Lacken:\n",
    "\n",
    "#### Data Preparation"
   ]
  },
  {
   "cell_type": "markdown",
   "metadata": {},
   "source": "#### Libraries"
  },
  {
   "metadata": {
    "ExecuteTime": {
     "end_time": "2024-10-22T18:14:32.916466Z",
     "start_time": "2024-10-22T18:14:32.912625Z"
    }
   },
   "cell_type": "code",
   "source": [
    "import sys\n",
    "# #\n",
    "del sys.modules['data_func']\n",
    "# del sys.modules['utils']\n",
    "# del sys.modules['model']\n"
   ],
   "outputs": [],
   "execution_count": 6
  },
  {
   "metadata": {
    "ExecuteTime": {
     "end_time": "2024-10-22T18:14:33.256574Z",
     "start_time": "2024-10-22T18:14:33.254831Z"
    }
   },
   "cell_type": "code",
   "source": "print('h')",
   "outputs": [],
   "execution_count": 6
  },
  {
   "cell_type": "code",
   "metadata": {
    "ExecuteTime": {
     "end_time": "2024-10-22T18:14:33.605318Z",
     "start_time": "2024-10-22T18:14:33.597584Z"
    }
   },
   "source": [
    "import os\n",
    "import glob\n",
    "from osgeo import gdal\n",
    "from data_func import *\n",
    "import pprint\n",
    "import numpy as np\n",
    "import matplotlib.pyplot as plt\n",
    "from yeoda.datacube import DataCubeReader, DataCubeWriter\n",
    "from geopathfinder.naming_conventions.yeoda_naming import YeodaFilename\n",
    "import pandas as pd\n",
    "import time\n",
    "import rasterio\n",
    "import glob\n",
    "from rasterio.plot import show\n",
    "import rasterio\n",
    "import numpy as np\n",
    "from rasterio.merge import merge\n",
    "from rasterio.plot import show\n",
    "from osgeo import gdal\n",
    "from data_func import merge_files_and_split, ImageDataset, make_list, visualize_augmentations, create_lacken_mask\n",
    "import warnings\n",
    "import numpy as np\n",
    "import glob\n",
    "from six.moves import xrange\n",
    "import scipy.ndimage as ndi\n",
    "import os\n",
    "from albumentations.pytorch import ToTensorV2\n",
    "import tensorflow as tf\n",
    "import torch\n",
    "from torch.utils.data import TensorDataset, DataLoader, Dataset\n",
    "import cv2\n",
    "import shutil\n",
    "os.environ[\"NO_ALBUMENTATIONS_UPDATE\"] = \"1\"\n",
    "import albumentations as A\n",
    "import sys\n",
    "from PIL import Image, ImageOps, ImageFile\n",
    "import copy\n",
    "import fiona\n",
    "from fiona.transform import transform_geom\n",
    "import numpy as np\n",
    "import glob\n",
    "import scipy.ndimage as ndi\n",
    "import os\n",
    "from PIL import Image, ImageOps\n",
    "\n",
    "device = torch.device(\"cuda\" if torch.cuda.is_available() else \"cpu\")"
   ],
   "outputs": [],
   "execution_count": 7
  },
  {
   "metadata": {
    "ExecuteTime": {
     "end_time": "2024-10-22T18:14:34.080559Z",
     "start_time": "2024-10-22T18:14:34.077922Z"
    }
   },
   "cell_type": "code",
   "source": [
    "\n",
    "warnings.simplefilter(action='ignore', category=FutureWarning)\n"
   ],
   "outputs": [],
   "execution_count": 8
  },
  {
   "metadata": {
    "ExecuteTime": {
     "end_time": "2024-10-22T18:14:34.337300Z",
     "start_time": "2024-10-22T18:14:34.335380Z"
    }
   },
   "cell_type": "code",
   "source": "# del sys.modules['data_func']",
   "outputs": [],
   "execution_count": 9
  },
  {
   "cell_type": "markdown",
   "metadata": {},
   "source": [
    "\n",
    "\n",
    "#### Reading Data"
   ]
  },
  {
   "cell_type": "code",
   "metadata": {
    "ExecuteTime": {
     "end_time": "2024-10-22T18:14:35.270922Z",
     "start_time": "2024-10-22T18:14:35.268358Z"
    }
   },
   "source": [
    "tile_1 = r\"./e11739391/Sentinel-1_CSAR/EQUI7_EU010M/E053N015T1\"\n",
    "tile_1 = glob.glob(os.path.join(tile_1, \"*\"))"
   ],
   "outputs": [],
   "execution_count": 10
  },
  {
   "cell_type": "code",
   "metadata": {
    "ExecuteTime": {
     "end_time": "2024-10-22T18:14:35.766830Z",
     "start_time": "2024-10-22T18:14:35.764084Z"
    }
   },
   "source": [
    "tile_2 = r\"./e11739391/Sentinel-1_CSAR/EQUI7_EU010M/E052N015T1\"\n",
    "tile_2 = glob.glob(os.path.join(tile_2, \"*\"))"
   ],
   "outputs": [],
   "execution_count": 11
  },
  {
   "cell_type": "code",
   "metadata": {
    "ExecuteTime": {
     "end_time": "2024-10-22T18:14:42.158988Z",
     "start_time": "2024-10-22T18:14:42.155406Z"
    }
   },
   "source": [
    "\n",
    "mask1 = r\"./e11739391/reference/EQUI7_EU010M/E052N015T1\"\n",
    "mask1 = glob.glob(os.path.join(mask1, \"*\"))\n",
    "\n",
    "mask2 = r\"./e11739391/reference/EQUI7_EU010M/E053N015T1\"\n",
    "mask2 = glob.glob(os.path.join(mask2, \"*\"))"
   ],
   "outputs": [],
   "execution_count": 13
  },
  {
   "cell_type": "code",
   "metadata": {
    "ExecuteTime": {
     "end_time": "2024-10-22T18:14:43.289842Z",
     "start_time": "2024-10-22T18:14:42.418980Z"
    }
   },
   "source": [
    "\n",
    "dimensions = [\"time\", \"tile_name\", \"var_name\", \"sensor_field\", \"data_version\"]\n",
    "tile1_reader = DataCubeReader.from_filepaths(tile_1, fn_class=YeodaFilename, dimensions=dimensions,\n",
    "                                             stack_dimension=\"time\", tile_dimension=\"tile_name\")\n",
    "tile1_reader.file_register.head(5)"
   ],
   "outputs": [
    {
     "data": {
      "text/plain": [
       "                                            filepath   tile_name sensor_field  \\\n",
       "0  ./e11739391/Sentinel-1_CSAR/EQUI7_EU010M/E053N...  E053N015T1    S1AIWGRDH   \n",
       "1  ./e11739391/Sentinel-1_CSAR/EQUI7_EU010M/E053N...  E053N015T1    S1AIWGRDH   \n",
       "2  ./e11739391/Sentinel-1_CSAR/EQUI7_EU010M/E053N...  E053N015T1    S1AIWGRDH   \n",
       "3  ./e11739391/Sentinel-1_CSAR/EQUI7_EU010M/E053N...  E053N015T1    S1AIWGRDH   \n",
       "4  ./e11739391/Sentinel-1_CSAR/EQUI7_EU010M/E053N...  E053N015T1    S1AIWGRDH   \n",
       "\n",
       "  data_version var_name                time  \n",
       "0      V1M0R01    GMR40 2022-09-22 16:42:50  \n",
       "1      V1M0R01    GMR40 2022-01-17 05:02:29  \n",
       "2      V1M0R01    GMR40 2022-06-10 05:02:33  \n",
       "3      V1M0R01    GMR40 2022-04-11 05:02:29  \n",
       "4      V1M0R01    GMR40 2022-12-07 05:02:12  "
      ],
      "text/html": [
       "<div>\n",
       "<style scoped>\n",
       "    .dataframe tbody tr th:only-of-type {\n",
       "        vertical-align: middle;\n",
       "    }\n",
       "\n",
       "    .dataframe tbody tr th {\n",
       "        vertical-align: top;\n",
       "    }\n",
       "\n",
       "    .dataframe thead th {\n",
       "        text-align: right;\n",
       "    }\n",
       "</style>\n",
       "<table border=\"1\" class=\"dataframe\">\n",
       "  <thead>\n",
       "    <tr style=\"text-align: right;\">\n",
       "      <th></th>\n",
       "      <th>filepath</th>\n",
       "      <th>tile_name</th>\n",
       "      <th>sensor_field</th>\n",
       "      <th>data_version</th>\n",
       "      <th>var_name</th>\n",
       "      <th>time</th>\n",
       "    </tr>\n",
       "  </thead>\n",
       "  <tbody>\n",
       "    <tr>\n",
       "      <th>0</th>\n",
       "      <td>./e11739391/Sentinel-1_CSAR/EQUI7_EU010M/E053N...</td>\n",
       "      <td>E053N015T1</td>\n",
       "      <td>S1AIWGRDH</td>\n",
       "      <td>V1M0R01</td>\n",
       "      <td>GMR40</td>\n",
       "      <td>2022-09-22 16:42:50</td>\n",
       "    </tr>\n",
       "    <tr>\n",
       "      <th>1</th>\n",
       "      <td>./e11739391/Sentinel-1_CSAR/EQUI7_EU010M/E053N...</td>\n",
       "      <td>E053N015T1</td>\n",
       "      <td>S1AIWGRDH</td>\n",
       "      <td>V1M0R01</td>\n",
       "      <td>GMR40</td>\n",
       "      <td>2022-01-17 05:02:29</td>\n",
       "    </tr>\n",
       "    <tr>\n",
       "      <th>2</th>\n",
       "      <td>./e11739391/Sentinel-1_CSAR/EQUI7_EU010M/E053N...</td>\n",
       "      <td>E053N015T1</td>\n",
       "      <td>S1AIWGRDH</td>\n",
       "      <td>V1M0R01</td>\n",
       "      <td>GMR40</td>\n",
       "      <td>2022-06-10 05:02:33</td>\n",
       "    </tr>\n",
       "    <tr>\n",
       "      <th>3</th>\n",
       "      <td>./e11739391/Sentinel-1_CSAR/EQUI7_EU010M/E053N...</td>\n",
       "      <td>E053N015T1</td>\n",
       "      <td>S1AIWGRDH</td>\n",
       "      <td>V1M0R01</td>\n",
       "      <td>GMR40</td>\n",
       "      <td>2022-04-11 05:02:29</td>\n",
       "    </tr>\n",
       "    <tr>\n",
       "      <th>4</th>\n",
       "      <td>./e11739391/Sentinel-1_CSAR/EQUI7_EU010M/E053N...</td>\n",
       "      <td>E053N015T1</td>\n",
       "      <td>S1AIWGRDH</td>\n",
       "      <td>V1M0R01</td>\n",
       "      <td>GMR40</td>\n",
       "      <td>2022-12-07 05:02:12</td>\n",
       "    </tr>\n",
       "  </tbody>\n",
       "</table>\n",
       "</div>"
      ]
     },
     "execution_count": 14,
     "metadata": {},
     "output_type": "execute_result"
    }
   ],
   "execution_count": 14
  },
  {
   "metadata": {
    "ExecuteTime": {
     "end_time": "2024-10-22T18:14:44.034864Z",
     "start_time": "2024-10-22T18:14:43.290780Z"
    }
   },
   "cell_type": "code",
   "source": [
    "\n",
    "tile2_reader = DataCubeReader.from_filepaths(tile_2, fn_class=YeodaFilename, dimensions=dimensions,\n",
    "                                             stack_dimension=\"time\", tile_dimension=\"tile_name\")\n",
    "tile2_reader.file_register.head(5)"
   ],
   "outputs": [
    {
     "data": {
      "text/plain": [
       "                                            filepath   tile_name sensor_field  \\\n",
       "0  ./e11739391/Sentinel-1_CSAR/EQUI7_EU010M/E052N...  E052N015T1    S1AIWGRDH   \n",
       "1  ./e11739391/Sentinel-1_CSAR/EQUI7_EU010M/E052N...  E052N015T1    S1AIWGRDH   \n",
       "2  ./e11739391/Sentinel-1_CSAR/EQUI7_EU010M/E052N...  E052N015T1    S1AIWGRDH   \n",
       "3  ./e11739391/Sentinel-1_CSAR/EQUI7_EU010M/E052N...  E052N015T1    S1AIWGRDH   \n",
       "4  ./e11739391/Sentinel-1_CSAR/EQUI7_EU010M/E052N...  E052N015T1    S1AIWGRDH   \n",
       "\n",
       "  data_version var_name                time  \n",
       "0      V1M0R01    GMR40 2022-06-10 05:02:08  \n",
       "1      V1M0R01    GMR40 2022-12-07 05:02:37  \n",
       "2      V1M0R01    GMR40 2022-10-20 05:02:13  \n",
       "3      V1M0R01    GMR40 2022-02-10 05:02:04  \n",
       "4      V1M0R01    GMR40 2022-03-06 05:02:03  "
      ],
      "text/html": [
       "<div>\n",
       "<style scoped>\n",
       "    .dataframe tbody tr th:only-of-type {\n",
       "        vertical-align: middle;\n",
       "    }\n",
       "\n",
       "    .dataframe tbody tr th {\n",
       "        vertical-align: top;\n",
       "    }\n",
       "\n",
       "    .dataframe thead th {\n",
       "        text-align: right;\n",
       "    }\n",
       "</style>\n",
       "<table border=\"1\" class=\"dataframe\">\n",
       "  <thead>\n",
       "    <tr style=\"text-align: right;\">\n",
       "      <th></th>\n",
       "      <th>filepath</th>\n",
       "      <th>tile_name</th>\n",
       "      <th>sensor_field</th>\n",
       "      <th>data_version</th>\n",
       "      <th>var_name</th>\n",
       "      <th>time</th>\n",
       "    </tr>\n",
       "  </thead>\n",
       "  <tbody>\n",
       "    <tr>\n",
       "      <th>0</th>\n",
       "      <td>./e11739391/Sentinel-1_CSAR/EQUI7_EU010M/E052N...</td>\n",
       "      <td>E052N015T1</td>\n",
       "      <td>S1AIWGRDH</td>\n",
       "      <td>V1M0R01</td>\n",
       "      <td>GMR40</td>\n",
       "      <td>2022-06-10 05:02:08</td>\n",
       "    </tr>\n",
       "    <tr>\n",
       "      <th>1</th>\n",
       "      <td>./e11739391/Sentinel-1_CSAR/EQUI7_EU010M/E052N...</td>\n",
       "      <td>E052N015T1</td>\n",
       "      <td>S1AIWGRDH</td>\n",
       "      <td>V1M0R01</td>\n",
       "      <td>GMR40</td>\n",
       "      <td>2022-12-07 05:02:37</td>\n",
       "    </tr>\n",
       "    <tr>\n",
       "      <th>2</th>\n",
       "      <td>./e11739391/Sentinel-1_CSAR/EQUI7_EU010M/E052N...</td>\n",
       "      <td>E052N015T1</td>\n",
       "      <td>S1AIWGRDH</td>\n",
       "      <td>V1M0R01</td>\n",
       "      <td>GMR40</td>\n",
       "      <td>2022-10-20 05:02:13</td>\n",
       "    </tr>\n",
       "    <tr>\n",
       "      <th>3</th>\n",
       "      <td>./e11739391/Sentinel-1_CSAR/EQUI7_EU010M/E052N...</td>\n",
       "      <td>E052N015T1</td>\n",
       "      <td>S1AIWGRDH</td>\n",
       "      <td>V1M0R01</td>\n",
       "      <td>GMR40</td>\n",
       "      <td>2022-02-10 05:02:04</td>\n",
       "    </tr>\n",
       "    <tr>\n",
       "      <th>4</th>\n",
       "      <td>./e11739391/Sentinel-1_CSAR/EQUI7_EU010M/E052N...</td>\n",
       "      <td>E052N015T1</td>\n",
       "      <td>S1AIWGRDH</td>\n",
       "      <td>V1M0R01</td>\n",
       "      <td>GMR40</td>\n",
       "      <td>2022-03-06 05:02:03</td>\n",
       "    </tr>\n",
       "  </tbody>\n",
       "</table>\n",
       "</div>"
      ]
     },
     "execution_count": 15,
     "metadata": {},
     "output_type": "execute_result"
    }
   ],
   "execution_count": 15
  },
  {
   "metadata": {
    "ExecuteTime": {
     "end_time": "2024-10-22T18:14:44.039472Z",
     "start_time": "2024-10-22T18:14:44.035763Z"
    }
   },
   "cell_type": "code",
   "source": "tile1_reader.file_register.sort_values(by='time')['time'].unique()",
   "outputs": [
    {
     "data": {
      "text/plain": [
       "<DatetimeArray>\n",
       "['2022-01-17 05:02:04', '2022-01-17 05:02:29', '2022-02-10 05:02:04',\n",
       " '2022-02-10 05:02:29', '2022-03-06 05:02:03', '2022-03-06 05:02:28',\n",
       " '2022-04-11 05:02:04', '2022-04-11 05:02:29', '2022-05-17 05:02:05',\n",
       " '2022-05-17 05:02:30', '2022-06-10 05:02:08', '2022-06-10 05:02:33',\n",
       " '2022-07-24 16:42:48', '2022-07-24 16:43:13', '2022-08-05 16:42:49',\n",
       " '2022-08-05 16:43:14', '2022-09-22 16:42:50', '2022-09-22 16:43:15',\n",
       " '2022-10-20 05:02:13', '2022-10-20 05:02:38', '2022-11-01 05:02:13',\n",
       " '2022-11-01 05:02:38', '2022-12-07 05:02:12', '2022-12-07 05:02:37']\n",
       "Length: 24, dtype: datetime64[ns]"
      ]
     },
     "execution_count": 16,
     "metadata": {},
     "output_type": "execute_result"
    }
   ],
   "execution_count": 16
  },
  {
   "metadata": {
    "ExecuteTime": {
     "end_time": "2024-10-22T18:14:45.580238Z",
     "start_time": "2024-10-22T18:14:44.040057Z"
    }
   },
   "cell_type": "code",
   "source": [
    "mask1_reader = DataCubeReader.from_filepaths(mask1, fn_class=YeodaFilename, dimensions=dimensions,\n",
    "                                             stack_dimension=\"time\", tile_dimension=\"tile_name\")\n",
    "mask2_reader = DataCubeReader.from_filepaths(mask2, fn_class=YeodaFilename, dimensions=dimensions,\n",
    "                                             stack_dimension=\"time\", tile_dimension=\"tile_name\")"
   ],
   "outputs": [],
   "execution_count": 17
  },
  {
   "metadata": {
    "ExecuteTime": {
     "end_time": "2024-10-22T18:14:45.588365Z",
     "start_time": "2024-10-22T18:14:45.583844Z"
    }
   },
   "cell_type": "code",
   "source": "mask2_reader.file_register.head(5)",
   "outputs": [
    {
     "data": {
      "text/plain": [
       "                                            filepath   tile_name sensor_field  \\\n",
       "0  ./e11739391/reference/EQUI7_EU010M/E053N015T1/...  E053N015T1         None   \n",
       "1  ./e11739391/reference/EQUI7_EU010M/E053N015T1/...  E053N015T1         None   \n",
       "2  ./e11739391/reference/EQUI7_EU010M/E053N015T1/...  E053N015T1         None   \n",
       "3  ./e11739391/reference/EQUI7_EU010M/E053N015T1/...  E053N015T1         None   \n",
       "4  ./e11739391/reference/EQUI7_EU010M/E053N015T1/...  E053N015T1         None   \n",
       "\n",
       "  data_version var_name       time  \n",
       "0         None     MASK 2022-08-05  \n",
       "1         None     MASK 2022-01-17  \n",
       "2         None     MASK 2022-04-11  \n",
       "3         None     MASK 2022-09-22  \n",
       "4         None     MASK 2022-07-24  "
      ],
      "text/html": [
       "<div>\n",
       "<style scoped>\n",
       "    .dataframe tbody tr th:only-of-type {\n",
       "        vertical-align: middle;\n",
       "    }\n",
       "\n",
       "    .dataframe tbody tr th {\n",
       "        vertical-align: top;\n",
       "    }\n",
       "\n",
       "    .dataframe thead th {\n",
       "        text-align: right;\n",
       "    }\n",
       "</style>\n",
       "<table border=\"1\" class=\"dataframe\">\n",
       "  <thead>\n",
       "    <tr style=\"text-align: right;\">\n",
       "      <th></th>\n",
       "      <th>filepath</th>\n",
       "      <th>tile_name</th>\n",
       "      <th>sensor_field</th>\n",
       "      <th>data_version</th>\n",
       "      <th>var_name</th>\n",
       "      <th>time</th>\n",
       "    </tr>\n",
       "  </thead>\n",
       "  <tbody>\n",
       "    <tr>\n",
       "      <th>0</th>\n",
       "      <td>./e11739391/reference/EQUI7_EU010M/E053N015T1/...</td>\n",
       "      <td>E053N015T1</td>\n",
       "      <td>None</td>\n",
       "      <td>None</td>\n",
       "      <td>MASK</td>\n",
       "      <td>2022-08-05</td>\n",
       "    </tr>\n",
       "    <tr>\n",
       "      <th>1</th>\n",
       "      <td>./e11739391/reference/EQUI7_EU010M/E053N015T1/...</td>\n",
       "      <td>E053N015T1</td>\n",
       "      <td>None</td>\n",
       "      <td>None</td>\n",
       "      <td>MASK</td>\n",
       "      <td>2022-01-17</td>\n",
       "    </tr>\n",
       "    <tr>\n",
       "      <th>2</th>\n",
       "      <td>./e11739391/reference/EQUI7_EU010M/E053N015T1/...</td>\n",
       "      <td>E053N015T1</td>\n",
       "      <td>None</td>\n",
       "      <td>None</td>\n",
       "      <td>MASK</td>\n",
       "      <td>2022-04-11</td>\n",
       "    </tr>\n",
       "    <tr>\n",
       "      <th>3</th>\n",
       "      <td>./e11739391/reference/EQUI7_EU010M/E053N015T1/...</td>\n",
       "      <td>E053N015T1</td>\n",
       "      <td>None</td>\n",
       "      <td>None</td>\n",
       "      <td>MASK</td>\n",
       "      <td>2022-09-22</td>\n",
       "    </tr>\n",
       "    <tr>\n",
       "      <th>4</th>\n",
       "      <td>./e11739391/reference/EQUI7_EU010M/E053N015T1/...</td>\n",
       "      <td>E053N015T1</td>\n",
       "      <td>None</td>\n",
       "      <td>None</td>\n",
       "      <td>MASK</td>\n",
       "      <td>2022-07-24</td>\n",
       "    </tr>\n",
       "  </tbody>\n",
       "</table>\n",
       "</div>"
      ]
     },
     "execution_count": 18,
     "metadata": {},
     "output_type": "execute_result"
    }
   ],
   "execution_count": 18
  },
  {
   "metadata": {
    "ExecuteTime": {
     "end_time": "2024-10-22T18:14:45.592574Z",
     "start_time": "2024-10-22T18:14:45.588907Z"
    }
   },
   "cell_type": "code",
   "source": [
    "\n",
    "mask1_reader.file_register.head(5)"
   ],
   "outputs": [
    {
     "data": {
      "text/plain": [
       "                                            filepath   tile_name sensor_field  \\\n",
       "0  ./e11739391/reference/EQUI7_EU010M/E052N015T1/...  E052N015T1         None   \n",
       "1  ./e11739391/reference/EQUI7_EU010M/E052N015T1/...  E052N015T1         None   \n",
       "2  ./e11739391/reference/EQUI7_EU010M/E052N015T1/...  E052N015T1         None   \n",
       "3  ./e11739391/reference/EQUI7_EU010M/E052N015T1/...  E052N015T1         None   \n",
       "4  ./e11739391/reference/EQUI7_EU010M/E052N015T1/...  E052N015T1         None   \n",
       "\n",
       "  data_version var_name       time  \n",
       "0         None     MASK 2022-05-17  \n",
       "1         None     MASK 2022-01-17  \n",
       "2         None     MASK 2022-10-20  \n",
       "3         None     MASK 2022-12-07  \n",
       "4         None     MASK 2022-05-17  "
      ],
      "text/html": [
       "<div>\n",
       "<style scoped>\n",
       "    .dataframe tbody tr th:only-of-type {\n",
       "        vertical-align: middle;\n",
       "    }\n",
       "\n",
       "    .dataframe tbody tr th {\n",
       "        vertical-align: top;\n",
       "    }\n",
       "\n",
       "    .dataframe thead th {\n",
       "        text-align: right;\n",
       "    }\n",
       "</style>\n",
       "<table border=\"1\" class=\"dataframe\">\n",
       "  <thead>\n",
       "    <tr style=\"text-align: right;\">\n",
       "      <th></th>\n",
       "      <th>filepath</th>\n",
       "      <th>tile_name</th>\n",
       "      <th>sensor_field</th>\n",
       "      <th>data_version</th>\n",
       "      <th>var_name</th>\n",
       "      <th>time</th>\n",
       "    </tr>\n",
       "  </thead>\n",
       "  <tbody>\n",
       "    <tr>\n",
       "      <th>0</th>\n",
       "      <td>./e11739391/reference/EQUI7_EU010M/E052N015T1/...</td>\n",
       "      <td>E052N015T1</td>\n",
       "      <td>None</td>\n",
       "      <td>None</td>\n",
       "      <td>MASK</td>\n",
       "      <td>2022-05-17</td>\n",
       "    </tr>\n",
       "    <tr>\n",
       "      <th>1</th>\n",
       "      <td>./e11739391/reference/EQUI7_EU010M/E052N015T1/...</td>\n",
       "      <td>E052N015T1</td>\n",
       "      <td>None</td>\n",
       "      <td>None</td>\n",
       "      <td>MASK</td>\n",
       "      <td>2022-01-17</td>\n",
       "    </tr>\n",
       "    <tr>\n",
       "      <th>2</th>\n",
       "      <td>./e11739391/reference/EQUI7_EU010M/E052N015T1/...</td>\n",
       "      <td>E052N015T1</td>\n",
       "      <td>None</td>\n",
       "      <td>None</td>\n",
       "      <td>MASK</td>\n",
       "      <td>2022-10-20</td>\n",
       "    </tr>\n",
       "    <tr>\n",
       "      <th>3</th>\n",
       "      <td>./e11739391/reference/EQUI7_EU010M/E052N015T1/...</td>\n",
       "      <td>E052N015T1</td>\n",
       "      <td>None</td>\n",
       "      <td>None</td>\n",
       "      <td>MASK</td>\n",
       "      <td>2022-12-07</td>\n",
       "    </tr>\n",
       "    <tr>\n",
       "      <th>4</th>\n",
       "      <td>./e11739391/reference/EQUI7_EU010M/E052N015T1/...</td>\n",
       "      <td>E052N015T1</td>\n",
       "      <td>None</td>\n",
       "      <td>None</td>\n",
       "      <td>MASK</td>\n",
       "      <td>2022-05-17</td>\n",
       "    </tr>\n",
       "  </tbody>\n",
       "</table>\n",
       "</div>"
      ]
     },
     "execution_count": 19,
     "metadata": {},
     "output_type": "execute_result"
    }
   ],
   "execution_count": 19
  },
  {
   "metadata": {},
   "cell_type": "markdown",
   "source": [
    "\n",
    "#### Merging files"
   ]
  },
  {
   "metadata": {
    "ExecuteTime": {
     "end_time": "2024-10-22T18:14:45.716757Z",
     "start_time": "2024-10-22T18:14:45.713832Z"
    }
   },
   "cell_type": "code",
   "source": "df_concat = pd.concat([tile1_reader.file_register, tile2_reader.file_register], axis=0)",
   "outputs": [],
   "execution_count": 20
  },
  {
   "metadata": {
    "ExecuteTime": {
     "end_time": "2024-10-22T18:14:46.013352Z",
     "start_time": "2024-10-22T18:14:46.009415Z"
    }
   },
   "cell_type": "code",
   "source": "df_concat.head(5)",
   "outputs": [
    {
     "data": {
      "text/plain": [
       "                                            filepath   tile_name sensor_field  \\\n",
       "0  ./e11739391/Sentinel-1_CSAR/EQUI7_EU010M/E053N...  E053N015T1    S1AIWGRDH   \n",
       "1  ./e11739391/Sentinel-1_CSAR/EQUI7_EU010M/E053N...  E053N015T1    S1AIWGRDH   \n",
       "2  ./e11739391/Sentinel-1_CSAR/EQUI7_EU010M/E053N...  E053N015T1    S1AIWGRDH   \n",
       "3  ./e11739391/Sentinel-1_CSAR/EQUI7_EU010M/E053N...  E053N015T1    S1AIWGRDH   \n",
       "4  ./e11739391/Sentinel-1_CSAR/EQUI7_EU010M/E053N...  E053N015T1    S1AIWGRDH   \n",
       "\n",
       "  data_version var_name                time  \n",
       "0      V1M0R01    GMR40 2022-09-22 16:42:50  \n",
       "1      V1M0R01    GMR40 2022-01-17 05:02:29  \n",
       "2      V1M0R01    GMR40 2022-06-10 05:02:33  \n",
       "3      V1M0R01    GMR40 2022-04-11 05:02:29  \n",
       "4      V1M0R01    GMR40 2022-12-07 05:02:12  "
      ],
      "text/html": [
       "<div>\n",
       "<style scoped>\n",
       "    .dataframe tbody tr th:only-of-type {\n",
       "        vertical-align: middle;\n",
       "    }\n",
       "\n",
       "    .dataframe tbody tr th {\n",
       "        vertical-align: top;\n",
       "    }\n",
       "\n",
       "    .dataframe thead th {\n",
       "        text-align: right;\n",
       "    }\n",
       "</style>\n",
       "<table border=\"1\" class=\"dataframe\">\n",
       "  <thead>\n",
       "    <tr style=\"text-align: right;\">\n",
       "      <th></th>\n",
       "      <th>filepath</th>\n",
       "      <th>tile_name</th>\n",
       "      <th>sensor_field</th>\n",
       "      <th>data_version</th>\n",
       "      <th>var_name</th>\n",
       "      <th>time</th>\n",
       "    </tr>\n",
       "  </thead>\n",
       "  <tbody>\n",
       "    <tr>\n",
       "      <th>0</th>\n",
       "      <td>./e11739391/Sentinel-1_CSAR/EQUI7_EU010M/E053N...</td>\n",
       "      <td>E053N015T1</td>\n",
       "      <td>S1AIWGRDH</td>\n",
       "      <td>V1M0R01</td>\n",
       "      <td>GMR40</td>\n",
       "      <td>2022-09-22 16:42:50</td>\n",
       "    </tr>\n",
       "    <tr>\n",
       "      <th>1</th>\n",
       "      <td>./e11739391/Sentinel-1_CSAR/EQUI7_EU010M/E053N...</td>\n",
       "      <td>E053N015T1</td>\n",
       "      <td>S1AIWGRDH</td>\n",
       "      <td>V1M0R01</td>\n",
       "      <td>GMR40</td>\n",
       "      <td>2022-01-17 05:02:29</td>\n",
       "    </tr>\n",
       "    <tr>\n",
       "      <th>2</th>\n",
       "      <td>./e11739391/Sentinel-1_CSAR/EQUI7_EU010M/E053N...</td>\n",
       "      <td>E053N015T1</td>\n",
       "      <td>S1AIWGRDH</td>\n",
       "      <td>V1M0R01</td>\n",
       "      <td>GMR40</td>\n",
       "      <td>2022-06-10 05:02:33</td>\n",
       "    </tr>\n",
       "    <tr>\n",
       "      <th>3</th>\n",
       "      <td>./e11739391/Sentinel-1_CSAR/EQUI7_EU010M/E053N...</td>\n",
       "      <td>E053N015T1</td>\n",
       "      <td>S1AIWGRDH</td>\n",
       "      <td>V1M0R01</td>\n",
       "      <td>GMR40</td>\n",
       "      <td>2022-04-11 05:02:29</td>\n",
       "    </tr>\n",
       "    <tr>\n",
       "      <th>4</th>\n",
       "      <td>./e11739391/Sentinel-1_CSAR/EQUI7_EU010M/E053N...</td>\n",
       "      <td>E053N015T1</td>\n",
       "      <td>S1AIWGRDH</td>\n",
       "      <td>V1M0R01</td>\n",
       "      <td>GMR40</td>\n",
       "      <td>2022-12-07 05:02:12</td>\n",
       "    </tr>\n",
       "  </tbody>\n",
       "</table>\n",
       "</div>"
      ]
     },
     "execution_count": 21,
     "metadata": {},
     "output_type": "execute_result"
    }
   ],
   "execution_count": 21
  },
  {
   "metadata": {
    "ExecuteTime": {
     "end_time": "2024-10-22T18:15:36.329426Z",
     "start_time": "2024-10-22T18:14:46.789667Z"
    }
   },
   "cell_type": "code",
   "source": "merge_files_and_split(df_concat, 'VV')",
   "outputs": [
    {
     "name": "stderr",
     "output_type": "stream",
     "text": [
      "/Users/nadia/PycharmProjects/InterdisciplinaryProject/data_func.py:51: SettingWithCopyWarning: \n",
      "A value is trying to be set on a copy of a slice from a DataFrame.\n",
      "Try using .loc[row_indexer,col_indexer] = value instead\n",
      "\n",
      "See the caveats in the documentation: https://pandas.pydata.org/pandas-docs/stable/user_guide/indexing.html#returning-a-view-versus-a-copy\n",
      "  if notmask:\n"
     ]
    },
    {
     "name": "stdout",
     "output_type": "stream",
     "text": [
      "0...10...20...30...40...50...60...70...80...90...100 - done.\n",
      "0"
     ]
    },
    {
     "name": "stderr",
     "output_type": "stream",
     "text": [
      "/opt/miniconda3/envs/IntProject/bin/gdal_merge.py:4: DeprecationWarning: pkg_resources is deprecated as an API. See https://setuptools.pypa.io/en/latest/pkg_resources.html\n",
      "  __import__('pkg_resources').run_script('GDAL==3.4.1', 'gdal_merge.py')\n"
     ]
    },
    {
     "name": "stdout",
     "output_type": "stream",
     "text": [
      "...10...20...30...40...50...60...70.."
     ]
    },
    {
     "name": "stderr",
     "output_type": "stream",
     "text": [
      "/opt/miniconda3/envs/IntProject/bin/gdal_merge.py:4: DeprecationWarning: pkg_resources is deprecated as an API. See https://setuptools.pypa.io/en/latest/pkg_resources.html\n",
      "  __import__('pkg_resources').run_script('GDAL==3.4.1', 'gdal_merge.py')\n"
     ]
    },
    {
     "name": "stdout",
     "output_type": "stream",
     "text": [
      ".80...90...100 - done.\n",
      "0...10...20...30...40...50...60...70.."
     ]
    },
    {
     "name": "stderr",
     "output_type": "stream",
     "text": [
      "/opt/miniconda3/envs/IntProject/bin/gdal_merge.py:4: DeprecationWarning: pkg_resources is deprecated as an API. See https://setuptools.pypa.io/en/latest/pkg_resources.html\n",
      "  __import__('pkg_resources').run_script('GDAL==3.4.1', 'gdal_merge.py')\n"
     ]
    },
    {
     "name": "stdout",
     "output_type": "stream",
     "text": [
      ".80...90...100 - done.\n",
      "0...10...20...30...40...50...60...70.."
     ]
    },
    {
     "name": "stderr",
     "output_type": "stream",
     "text": [
      "/opt/miniconda3/envs/IntProject/bin/gdal_merge.py:4: DeprecationWarning: pkg_resources is deprecated as an API. See https://setuptools.pypa.io/en/latest/pkg_resources.html\n",
      "  __import__('pkg_resources').run_script('GDAL==3.4.1', 'gdal_merge.py')\n"
     ]
    },
    {
     "name": "stdout",
     "output_type": "stream",
     "text": [
      ".80...90...100 - done.\n",
      "0...10...20...30...40...50...60...70.."
     ]
    },
    {
     "name": "stderr",
     "output_type": "stream",
     "text": [
      "/opt/miniconda3/envs/IntProject/bin/gdal_merge.py:4: DeprecationWarning: pkg_resources is deprecated as an API. See https://setuptools.pypa.io/en/latest/pkg_resources.html\n",
      "  __import__('pkg_resources').run_script('GDAL==3.4.1', 'gdal_merge.py')\n"
     ]
    },
    {
     "name": "stdout",
     "output_type": "stream",
     "text": [
      ".80...90...100 - done.\n",
      "0...10...20...30...40...50...60...70.."
     ]
    },
    {
     "name": "stderr",
     "output_type": "stream",
     "text": [
      "/opt/miniconda3/envs/IntProject/bin/gdal_merge.py:4: DeprecationWarning: pkg_resources is deprecated as an API. See https://setuptools.pypa.io/en/latest/pkg_resources.html\n",
      "  __import__('pkg_resources').run_script('GDAL==3.4.1', 'gdal_merge.py')\n"
     ]
    },
    {
     "name": "stdout",
     "output_type": "stream",
     "text": [
      ".80...90...100 - done.\n",
      "0...10...20...30...40...50...60...70.."
     ]
    },
    {
     "name": "stderr",
     "output_type": "stream",
     "text": [
      "/opt/miniconda3/envs/IntProject/bin/gdal_merge.py:4: DeprecationWarning: pkg_resources is deprecated as an API. See https://setuptools.pypa.io/en/latest/pkg_resources.html\n",
      "  __import__('pkg_resources').run_script('GDAL==3.4.1', 'gdal_merge.py')\n"
     ]
    },
    {
     "name": "stdout",
     "output_type": "stream",
     "text": [
      ".80...90...100 - done.\n",
      "0...10...20...30...40...50...60...70.."
     ]
    },
    {
     "name": "stderr",
     "output_type": "stream",
     "text": [
      "/opt/miniconda3/envs/IntProject/bin/gdal_merge.py:4: DeprecationWarning: pkg_resources is deprecated as an API. See https://setuptools.pypa.io/en/latest/pkg_resources.html\n",
      "  __import__('pkg_resources').run_script('GDAL==3.4.1', 'gdal_merge.py')\n"
     ]
    },
    {
     "name": "stdout",
     "output_type": "stream",
     "text": [
      ".80...90...100 - done.\n",
      "0...10...20...30...40...50...60...70.."
     ]
    },
    {
     "name": "stderr",
     "output_type": "stream",
     "text": [
      "/opt/miniconda3/envs/IntProject/bin/gdal_merge.py:4: DeprecationWarning: pkg_resources is deprecated as an API. See https://setuptools.pypa.io/en/latest/pkg_resources.html\n",
      "  __import__('pkg_resources').run_script('GDAL==3.4.1', 'gdal_merge.py')\n"
     ]
    },
    {
     "name": "stdout",
     "output_type": "stream",
     "text": [
      ".80...90...100 - done.\n",
      "0...10...20...30...40...50...60...70.."
     ]
    },
    {
     "name": "stderr",
     "output_type": "stream",
     "text": [
      "/opt/miniconda3/envs/IntProject/bin/gdal_merge.py:4: DeprecationWarning: pkg_resources is deprecated as an API. See https://setuptools.pypa.io/en/latest/pkg_resources.html\n",
      "  __import__('pkg_resources').run_script('GDAL==3.4.1', 'gdal_merge.py')\n"
     ]
    },
    {
     "name": "stdout",
     "output_type": "stream",
     "text": [
      ".80...90...100 - done.\n",
      "0...10...20...30...40...50...60...70.."
     ]
    },
    {
     "name": "stderr",
     "output_type": "stream",
     "text": [
      "/opt/miniconda3/envs/IntProject/bin/gdal_merge.py:4: DeprecationWarning: pkg_resources is deprecated as an API. See https://setuptools.pypa.io/en/latest/pkg_resources.html\n",
      "  __import__('pkg_resources').run_script('GDAL==3.4.1', 'gdal_merge.py')\n"
     ]
    },
    {
     "name": "stdout",
     "output_type": "stream",
     "text": [
      ".80...90...100 - done.\n",
      "0...10...20...30...40...50...60...70...80...90...100 - done.\n"
     ]
    },
    {
     "name": "stderr",
     "output_type": "stream",
     "text": [
      "/opt/miniconda3/envs/IntProject/bin/gdal_merge.py:4: DeprecationWarning: pkg_resources is deprecated as an API. See https://setuptools.pypa.io/en/latest/pkg_resources.html\n",
      "  __import__('pkg_resources').run_script('GDAL==3.4.1', 'gdal_merge.py')\n"
     ]
    }
   ],
   "execution_count": 22
  },
  {
   "metadata": {
    "ExecuteTime": {
     "end_time": "2024-10-22T18:16:27.007728Z",
     "start_time": "2024-10-22T18:15:36.330413Z"
    }
   },
   "cell_type": "code",
   "source": "merge_files_and_split(df_concat, 'VH')",
   "outputs": [
    {
     "name": "stderr",
     "output_type": "stream",
     "text": [
      "/Users/nadia/PycharmProjects/InterdisciplinaryProject/data_func.py:51: SettingWithCopyWarning: \n",
      "A value is trying to be set on a copy of a slice from a DataFrame.\n",
      "Try using .loc[row_indexer,col_indexer] = value instead\n",
      "\n",
      "See the caveats in the documentation: https://pandas.pydata.org/pandas-docs/stable/user_guide/indexing.html#returning-a-view-versus-a-copy\n",
      "  if notmask:\n"
     ]
    },
    {
     "name": "stdout",
     "output_type": "stream",
     "text": [
      "0...10...20...30...40...50...60...70.."
     ]
    },
    {
     "name": "stderr",
     "output_type": "stream",
     "text": [
      "/opt/miniconda3/envs/IntProject/bin/gdal_merge.py:4: DeprecationWarning: pkg_resources is deprecated as an API. See https://setuptools.pypa.io/en/latest/pkg_resources.html\n",
      "  __import__('pkg_resources').run_script('GDAL==3.4.1', 'gdal_merge.py')\n"
     ]
    },
    {
     "name": "stdout",
     "output_type": "stream",
     "text": [
      ".80...90...100 - done.\n",
      "0...10...20...30...40...50...60...70.."
     ]
    },
    {
     "name": "stderr",
     "output_type": "stream",
     "text": [
      "/opt/miniconda3/envs/IntProject/bin/gdal_merge.py:4: DeprecationWarning: pkg_resources is deprecated as an API. See https://setuptools.pypa.io/en/latest/pkg_resources.html\n",
      "  __import__('pkg_resources').run_script('GDAL==3.4.1', 'gdal_merge.py')\n"
     ]
    },
    {
     "name": "stdout",
     "output_type": "stream",
     "text": [
      ".80...90...100 - done.\n",
      "0...10...20...30...40...50...60...70.."
     ]
    },
    {
     "name": "stderr",
     "output_type": "stream",
     "text": [
      "/opt/miniconda3/envs/IntProject/bin/gdal_merge.py:4: DeprecationWarning: pkg_resources is deprecated as an API. See https://setuptools.pypa.io/en/latest/pkg_resources.html\n",
      "  __import__('pkg_resources').run_script('GDAL==3.4.1', 'gdal_merge.py')\n"
     ]
    },
    {
     "name": "stdout",
     "output_type": "stream",
     "text": [
      ".80...90...100 - done.\n",
      "0...10...20...30...40...50...60...70.."
     ]
    },
    {
     "name": "stderr",
     "output_type": "stream",
     "text": [
      "/opt/miniconda3/envs/IntProject/bin/gdal_merge.py:4: DeprecationWarning: pkg_resources is deprecated as an API. See https://setuptools.pypa.io/en/latest/pkg_resources.html\n",
      "  __import__('pkg_resources').run_script('GDAL==3.4.1', 'gdal_merge.py')\n"
     ]
    },
    {
     "name": "stdout",
     "output_type": "stream",
     "text": [
      ".80...90...100 - done.\n",
      "0...10...20...30...40...50...60...70.."
     ]
    },
    {
     "name": "stderr",
     "output_type": "stream",
     "text": [
      "/opt/miniconda3/envs/IntProject/bin/gdal_merge.py:4: DeprecationWarning: pkg_resources is deprecated as an API. See https://setuptools.pypa.io/en/latest/pkg_resources.html\n",
      "  __import__('pkg_resources').run_script('GDAL==3.4.1', 'gdal_merge.py')\n"
     ]
    },
    {
     "name": "stdout",
     "output_type": "stream",
     "text": [
      ".80...90...100 - done.\n",
      "0...10...20...30...40...50...60...70.."
     ]
    },
    {
     "name": "stderr",
     "output_type": "stream",
     "text": [
      "/opt/miniconda3/envs/IntProject/bin/gdal_merge.py:4: DeprecationWarning: pkg_resources is deprecated as an API. See https://setuptools.pypa.io/en/latest/pkg_resources.html\n",
      "  __import__('pkg_resources').run_script('GDAL==3.4.1', 'gdal_merge.py')\n"
     ]
    },
    {
     "name": "stdout",
     "output_type": "stream",
     "text": [
      ".80...90...100 - done.\n",
      "0...10...20...30...40...50...60...70.."
     ]
    },
    {
     "name": "stderr",
     "output_type": "stream",
     "text": [
      "/opt/miniconda3/envs/IntProject/bin/gdal_merge.py:4: DeprecationWarning: pkg_resources is deprecated as an API. See https://setuptools.pypa.io/en/latest/pkg_resources.html\n",
      "  __import__('pkg_resources').run_script('GDAL==3.4.1', 'gdal_merge.py')\n"
     ]
    },
    {
     "name": "stdout",
     "output_type": "stream",
     "text": [
      ".80...90...100 - done.\n",
      "0...10...20...30...40...50...60...70.."
     ]
    },
    {
     "name": "stderr",
     "output_type": "stream",
     "text": [
      "/opt/miniconda3/envs/IntProject/bin/gdal_merge.py:4: DeprecationWarning: pkg_resources is deprecated as an API. See https://setuptools.pypa.io/en/latest/pkg_resources.html\n",
      "  __import__('pkg_resources').run_script('GDAL==3.4.1', 'gdal_merge.py')\n"
     ]
    },
    {
     "name": "stdout",
     "output_type": "stream",
     "text": [
      ".80...90...100 - done.\n",
      "0...10...20...30...40...50...60...70.."
     ]
    },
    {
     "name": "stderr",
     "output_type": "stream",
     "text": [
      "/opt/miniconda3/envs/IntProject/bin/gdal_merge.py:4: DeprecationWarning: pkg_resources is deprecated as an API. See https://setuptools.pypa.io/en/latest/pkg_resources.html\n",
      "  __import__('pkg_resources').run_script('GDAL==3.4.1', 'gdal_merge.py')\n"
     ]
    },
    {
     "name": "stdout",
     "output_type": "stream",
     "text": [
      ".80...90...100 - done.\n",
      "0...10...20...30...40...50...60...70.."
     ]
    },
    {
     "name": "stderr",
     "output_type": "stream",
     "text": [
      "/opt/miniconda3/envs/IntProject/bin/gdal_merge.py:4: DeprecationWarning: pkg_resources is deprecated as an API. See https://setuptools.pypa.io/en/latest/pkg_resources.html\n",
      "  __import__('pkg_resources').run_script('GDAL==3.4.1', 'gdal_merge.py')\n"
     ]
    },
    {
     "name": "stdout",
     "output_type": "stream",
     "text": [
      ".80...90...100 - done.\n",
      "0...10...20...30...40...50...60...70.."
     ]
    },
    {
     "name": "stderr",
     "output_type": "stream",
     "text": [
      "/opt/miniconda3/envs/IntProject/bin/gdal_merge.py:4: DeprecationWarning: pkg_resources is deprecated as an API. See https://setuptools.pypa.io/en/latest/pkg_resources.html\n",
      "  __import__('pkg_resources').run_script('GDAL==3.4.1', 'gdal_merge.py')\n"
     ]
    },
    {
     "name": "stdout",
     "output_type": "stream",
     "text": [
      ".80...90...100 - done.\n",
      "0...10...20...30...40...50...60...70...80...90...100 - done.\n"
     ]
    },
    {
     "name": "stderr",
     "output_type": "stream",
     "text": [
      "/opt/miniconda3/envs/IntProject/bin/gdal_merge.py:4: DeprecationWarning: pkg_resources is deprecated as an API. See https://setuptools.pypa.io/en/latest/pkg_resources.html\n",
      "  __import__('pkg_resources').run_script('GDAL==3.4.1', 'gdal_merge.py')\n"
     ]
    }
   ],
   "execution_count": 23
  },
  {
   "metadata": {
    "ExecuteTime": {
     "end_time": "2024-10-22T18:16:27.013562Z",
     "start_time": "2024-10-22T18:16:27.008870Z"
    }
   },
   "cell_type": "code",
   "source": "df_concat_mask = pd.concat([mask1_reader.file_register, mask2_reader.file_register], axis=0)",
   "outputs": [],
   "execution_count": 24
  },
  {
   "metadata": {
    "ExecuteTime": {
     "end_time": "2024-10-22T18:17:06.509446Z",
     "start_time": "2024-10-22T18:16:27.014861Z"
    }
   },
   "cell_type": "code",
   "source": "merge_files_and_split(df_concat_mask, notmask=False)",
   "outputs": [
    {
     "name": "stderr",
     "output_type": "stream",
     "text": [
      "/Users/nadia/PycharmProjects/InterdisciplinaryProject/data_func.py:51: SettingWithCopyWarning: \n",
      "A value is trying to be set on a copy of a slice from a DataFrame.\n",
      "Try using .loc[row_indexer,col_indexer] = value instead\n",
      "\n",
      "See the caveats in the documentation: https://pandas.pydata.org/pandas-docs/stable/user_guide/indexing.html#returning-a-view-versus-a-copy\n",
      "  if notmask:\n"
     ]
    },
    {
     "name": "stdout",
     "output_type": "stream",
     "text": [
      "0...10...20...30...40...50"
     ]
    },
    {
     "name": "stderr",
     "output_type": "stream",
     "text": [
      "/opt/miniconda3/envs/IntProject/bin/gdal_merge.py:4: DeprecationWarning: pkg_resources is deprecated as an API. See https://setuptools.pypa.io/en/latest/pkg_resources.html\n",
      "  __import__('pkg_resources').run_script('GDAL==3.4.1', 'gdal_merge.py')\n"
     ]
    },
    {
     "name": "stdout",
     "output_type": "stream",
     "text": [
      "...60...70...80...90...100 - done.\n",
      "0...10...20...30...40...50"
     ]
    },
    {
     "name": "stderr",
     "output_type": "stream",
     "text": [
      "/opt/miniconda3/envs/IntProject/bin/gdal_merge.py:4: DeprecationWarning: pkg_resources is deprecated as an API. See https://setuptools.pypa.io/en/latest/pkg_resources.html\n",
      "  __import__('pkg_resources').run_script('GDAL==3.4.1', 'gdal_merge.py')\n"
     ]
    },
    {
     "name": "stdout",
     "output_type": "stream",
     "text": [
      "...60...70...80...90...100 - done.\n",
      "0...10...20...30...40...50"
     ]
    },
    {
     "name": "stderr",
     "output_type": "stream",
     "text": [
      "/opt/miniconda3/envs/IntProject/bin/gdal_merge.py:4: DeprecationWarning: pkg_resources is deprecated as an API. See https://setuptools.pypa.io/en/latest/pkg_resources.html\n",
      "  __import__('pkg_resources').run_script('GDAL==3.4.1', 'gdal_merge.py')\n"
     ]
    },
    {
     "name": "stdout",
     "output_type": "stream",
     "text": [
      "...60...70...80...90...100 - done.\n",
      "0...10...20...30...40...50"
     ]
    },
    {
     "name": "stderr",
     "output_type": "stream",
     "text": [
      "/opt/miniconda3/envs/IntProject/bin/gdal_merge.py:4: DeprecationWarning: pkg_resources is deprecated as an API. See https://setuptools.pypa.io/en/latest/pkg_resources.html\n",
      "  __import__('pkg_resources').run_script('GDAL==3.4.1', 'gdal_merge.py')\n"
     ]
    },
    {
     "name": "stdout",
     "output_type": "stream",
     "text": [
      "...60...70...80...90...100 - done.\n",
      "0...10...20...30...40...50"
     ]
    },
    {
     "name": "stderr",
     "output_type": "stream",
     "text": [
      "/opt/miniconda3/envs/IntProject/bin/gdal_merge.py:4: DeprecationWarning: pkg_resources is deprecated as an API. See https://setuptools.pypa.io/en/latest/pkg_resources.html\n",
      "  __import__('pkg_resources').run_script('GDAL==3.4.1', 'gdal_merge.py')\n"
     ]
    },
    {
     "name": "stdout",
     "output_type": "stream",
     "text": [
      "...60...70...80...90...100 - done.\n",
      "0...10...20...30...40...50"
     ]
    },
    {
     "name": "stderr",
     "output_type": "stream",
     "text": [
      "/opt/miniconda3/envs/IntProject/bin/gdal_merge.py:4: DeprecationWarning: pkg_resources is deprecated as an API. See https://setuptools.pypa.io/en/latest/pkg_resources.html\n",
      "  __import__('pkg_resources').run_script('GDAL==3.4.1', 'gdal_merge.py')\n"
     ]
    },
    {
     "name": "stdout",
     "output_type": "stream",
     "text": [
      "...60...70...80...90...100 - done.\n",
      "0...10...20...30...40...50"
     ]
    },
    {
     "name": "stderr",
     "output_type": "stream",
     "text": [
      "/opt/miniconda3/envs/IntProject/bin/gdal_merge.py:4: DeprecationWarning: pkg_resources is deprecated as an API. See https://setuptools.pypa.io/en/latest/pkg_resources.html\n",
      "  __import__('pkg_resources').run_script('GDAL==3.4.1', 'gdal_merge.py')\n"
     ]
    },
    {
     "name": "stdout",
     "output_type": "stream",
     "text": [
      "...60...70...80...90...100 - done.\n",
      "0...10...20...30...40...50"
     ]
    },
    {
     "name": "stderr",
     "output_type": "stream",
     "text": [
      "/opt/miniconda3/envs/IntProject/bin/gdal_merge.py:4: DeprecationWarning: pkg_resources is deprecated as an API. See https://setuptools.pypa.io/en/latest/pkg_resources.html\n",
      "  __import__('pkg_resources').run_script('GDAL==3.4.1', 'gdal_merge.py')\n"
     ]
    },
    {
     "name": "stdout",
     "output_type": "stream",
     "text": [
      "...60...70...80...90...100 - done.\n",
      "0...10...20...30...40...50"
     ]
    },
    {
     "name": "stderr",
     "output_type": "stream",
     "text": [
      "/opt/miniconda3/envs/IntProject/bin/gdal_merge.py:4: DeprecationWarning: pkg_resources is deprecated as an API. See https://setuptools.pypa.io/en/latest/pkg_resources.html\n",
      "  __import__('pkg_resources').run_script('GDAL==3.4.1', 'gdal_merge.py')\n"
     ]
    },
    {
     "name": "stdout",
     "output_type": "stream",
     "text": [
      "...60...70...80...90...100 - done.\n",
      "0...10...20...30...40...50"
     ]
    },
    {
     "name": "stderr",
     "output_type": "stream",
     "text": [
      "/opt/miniconda3/envs/IntProject/bin/gdal_merge.py:4: DeprecationWarning: pkg_resources is deprecated as an API. See https://setuptools.pypa.io/en/latest/pkg_resources.html\n",
      "  __import__('pkg_resources').run_script('GDAL==3.4.1', 'gdal_merge.py')\n"
     ]
    },
    {
     "name": "stdout",
     "output_type": "stream",
     "text": [
      "...60...70...80...90...100 - done.\n",
      "0...10...20...30...40...50"
     ]
    },
    {
     "name": "stderr",
     "output_type": "stream",
     "text": [
      "/opt/miniconda3/envs/IntProject/bin/gdal_merge.py:4: DeprecationWarning: pkg_resources is deprecated as an API. See https://setuptools.pypa.io/en/latest/pkg_resources.html\n",
      "  __import__('pkg_resources').run_script('GDAL==3.4.1', 'gdal_merge.py')\n"
     ]
    },
    {
     "name": "stdout",
     "output_type": "stream",
     "text": [
      "...60...70...80...90...100 - done.\n",
      "0...10...20...30...40...50"
     ]
    },
    {
     "name": "stderr",
     "output_type": "stream",
     "text": [
      "/opt/miniconda3/envs/IntProject/bin/gdal_merge.py:4: DeprecationWarning: pkg_resources is deprecated as an API. See https://setuptools.pypa.io/en/latest/pkg_resources.html\n",
      "  __import__('pkg_resources').run_script('GDAL==3.4.1', 'gdal_merge.py')\n"
     ]
    },
    {
     "name": "stdout",
     "output_type": "stream",
     "text": [
      "...60...70...80...90...100 - done.\n",
      "0...10...20...30...40...50"
     ]
    },
    {
     "name": "stderr",
     "output_type": "stream",
     "text": [
      "/opt/miniconda3/envs/IntProject/bin/gdal_merge.py:4: DeprecationWarning: pkg_resources is deprecated as an API. See https://setuptools.pypa.io/en/latest/pkg_resources.html\n",
      "  __import__('pkg_resources').run_script('GDAL==3.4.1', 'gdal_merge.py')\n"
     ]
    },
    {
     "name": "stdout",
     "output_type": "stream",
     "text": [
      "...60...70...80...90...100 - done.\n",
      "0...10...20...30...40...50"
     ]
    },
    {
     "name": "stderr",
     "output_type": "stream",
     "text": [
      "/opt/miniconda3/envs/IntProject/bin/gdal_merge.py:4: DeprecationWarning: pkg_resources is deprecated as an API. See https://setuptools.pypa.io/en/latest/pkg_resources.html\n",
      "  __import__('pkg_resources').run_script('GDAL==3.4.1', 'gdal_merge.py')\n"
     ]
    },
    {
     "name": "stdout",
     "output_type": "stream",
     "text": [
      "...60...70...80...90...100 - done.\n",
      "0...10...20...30...40...50"
     ]
    },
    {
     "name": "stderr",
     "output_type": "stream",
     "text": [
      "/opt/miniconda3/envs/IntProject/bin/gdal_merge.py:4: DeprecationWarning: pkg_resources is deprecated as an API. See https://setuptools.pypa.io/en/latest/pkg_resources.html\n",
      "  __import__('pkg_resources').run_script('GDAL==3.4.1', 'gdal_merge.py')\n"
     ]
    },
    {
     "name": "stdout",
     "output_type": "stream",
     "text": [
      "...60...70...80...90...100 - done.\n",
      "0...10...20...30...40...50"
     ]
    },
    {
     "name": "stderr",
     "output_type": "stream",
     "text": [
      "/opt/miniconda3/envs/IntProject/bin/gdal_merge.py:4: DeprecationWarning: pkg_resources is deprecated as an API. See https://setuptools.pypa.io/en/latest/pkg_resources.html\n",
      "  __import__('pkg_resources').run_script('GDAL==3.4.1', 'gdal_merge.py')\n"
     ]
    },
    {
     "name": "stdout",
     "output_type": "stream",
     "text": [
      "...60...70...80...90...100 - done.\n",
      "0...10...20...30...40...50"
     ]
    },
    {
     "name": "stderr",
     "output_type": "stream",
     "text": [
      "/opt/miniconda3/envs/IntProject/bin/gdal_merge.py:4: DeprecationWarning: pkg_resources is deprecated as an API. See https://setuptools.pypa.io/en/latest/pkg_resources.html\n",
      "  __import__('pkg_resources').run_script('GDAL==3.4.1', 'gdal_merge.py')\n"
     ]
    },
    {
     "name": "stdout",
     "output_type": "stream",
     "text": [
      "...60...70...80...90...100 - done.\n",
      "0...10...20...30...40...50"
     ]
    },
    {
     "name": "stderr",
     "output_type": "stream",
     "text": [
      "/opt/miniconda3/envs/IntProject/bin/gdal_merge.py:4: DeprecationWarning: pkg_resources is deprecated as an API. See https://setuptools.pypa.io/en/latest/pkg_resources.html\n",
      "  __import__('pkg_resources').run_script('GDAL==3.4.1', 'gdal_merge.py')\n"
     ]
    },
    {
     "name": "stdout",
     "output_type": "stream",
     "text": [
      "...60...70...80...90...100 - done.\n",
      "0...10...20...30...40...50"
     ]
    },
    {
     "name": "stderr",
     "output_type": "stream",
     "text": [
      "/opt/miniconda3/envs/IntProject/bin/gdal_merge.py:4: DeprecationWarning: pkg_resources is deprecated as an API. See https://setuptools.pypa.io/en/latest/pkg_resources.html\n",
      "  __import__('pkg_resources').run_script('GDAL==3.4.1', 'gdal_merge.py')\n"
     ]
    },
    {
     "name": "stdout",
     "output_type": "stream",
     "text": [
      "...60...70...80...90...100 - done.\n",
      "0...10...20...30...40...50"
     ]
    },
    {
     "name": "stderr",
     "output_type": "stream",
     "text": [
      "/opt/miniconda3/envs/IntProject/bin/gdal_merge.py:4: DeprecationWarning: pkg_resources is deprecated as an API. See https://setuptools.pypa.io/en/latest/pkg_resources.html\n",
      "  __import__('pkg_resources').run_script('GDAL==3.4.1', 'gdal_merge.py')\n"
     ]
    },
    {
     "name": "stdout",
     "output_type": "stream",
     "text": [
      "...60...70...80...90...100 - done.\n",
      "0...10...20...30...40...50"
     ]
    },
    {
     "name": "stderr",
     "output_type": "stream",
     "text": [
      "/opt/miniconda3/envs/IntProject/bin/gdal_merge.py:4: DeprecationWarning: pkg_resources is deprecated as an API. See https://setuptools.pypa.io/en/latest/pkg_resources.html\n",
      "  __import__('pkg_resources').run_script('GDAL==3.4.1', 'gdal_merge.py')\n"
     ]
    },
    {
     "name": "stdout",
     "output_type": "stream",
     "text": [
      "...60...70...80...90...100 - done.\n",
      "0...10...20...30...40...50"
     ]
    },
    {
     "name": "stderr",
     "output_type": "stream",
     "text": [
      "/opt/miniconda3/envs/IntProject/bin/gdal_merge.py:4: DeprecationWarning: pkg_resources is deprecated as an API. See https://setuptools.pypa.io/en/latest/pkg_resources.html\n",
      "  __import__('pkg_resources').run_script('GDAL==3.4.1', 'gdal_merge.py')\n"
     ]
    },
    {
     "name": "stdout",
     "output_type": "stream",
     "text": [
      "...60...70...80...90...100 - done.\n",
      "0...10...20...30...40...50"
     ]
    },
    {
     "name": "stderr",
     "output_type": "stream",
     "text": [
      "/opt/miniconda3/envs/IntProject/bin/gdal_merge.py:4: DeprecationWarning: pkg_resources is deprecated as an API. See https://setuptools.pypa.io/en/latest/pkg_resources.html\n",
      "  __import__('pkg_resources').run_script('GDAL==3.4.1', 'gdal_merge.py')\n"
     ]
    },
    {
     "name": "stdout",
     "output_type": "stream",
     "text": [
      "...60...70...80...90...100 - done.\n",
      "0...10...20...30...40...50...60...70...80...90...100 - done.\n"
     ]
    },
    {
     "name": "stderr",
     "output_type": "stream",
     "text": [
      "/opt/miniconda3/envs/IntProject/bin/gdal_merge.py:4: DeprecationWarning: pkg_resources is deprecated as an API. See https://setuptools.pypa.io/en/latest/pkg_resources.html\n",
      "  __import__('pkg_resources').run_script('GDAL==3.4.1', 'gdal_merge.py')\n"
     ]
    }
   ],
   "execution_count": 25
  },
  {
   "metadata": {
    "ExecuteTime": {
     "end_time": "2024-10-22T18:17:06.511656Z",
     "start_time": "2024-10-22T18:17:06.510124Z"
    }
   },
   "cell_type": "code",
   "source": [
    "test_mask = \"./train_mask/VV_mask_2022-02-10_merged.tif\"\n",
    "test_img = \"./train/VH_2022-02-10_merged.tiff\""
   ],
   "outputs": [],
   "execution_count": 26
  },
  {
   "metadata": {
    "ExecuteTime": {
     "end_time": "2024-10-22T18:17:06.516835Z",
     "start_time": "2024-10-22T18:17:06.512206Z"
    }
   },
   "cell_type": "code",
   "source": [
    "import cv2\n",
    "from PIL import Image\n",
    "Image.MAX_IMAGE_PIXELS = 300000000  # Set a custom limit, e.g., 300 million pixels\n"
   ],
   "outputs": [],
   "execution_count": 27
  },
  {
   "metadata": {
    "ExecuteTime": {
     "end_time": "2024-10-22T18:17:06.518536Z",
     "start_time": "2024-10-22T18:17:06.517344Z"
    }
   },
   "cell_type": "code",
   "source": [
    "# Image.MAX_IMAGE_PIXELS = None\n",
    "# ImageFile.LOAD_TRUNCATED_IMAGES = True\n"
   ],
   "outputs": [],
   "execution_count": 28
  },
  {
   "metadata": {
    "ExecuteTime": {
     "end_time": "2024-10-22T18:17:06.520821Z",
     "start_time": "2024-10-22T18:17:06.519002Z"
    }
   },
   "cell_type": "code",
   "source": [
    "train = \"./train/*.tiff\"\n",
    "mask_train = \"./train_mask/*.tiff\"\n",
    "test = \"./test/*.tiff\"\n",
    "mask_test = \"./test_mask/*.tiff\"\n",
    "val = \"./val/*.tiff\"\n",
    "mask_val = \"./val_mask/*.tiff\""
   ],
   "outputs": [],
   "execution_count": 29
  },
  {
   "metadata": {
    "ExecuteTime": {
     "end_time": "2024-10-22T18:17:06.522839Z",
     "start_time": "2024-10-22T18:17:06.521444Z"
    }
   },
   "cell_type": "code",
   "source": [
    "# make_list(train, mask_train, 'train')\n",
    "# make_list(test, mask_test, 'test')\n",
    "# make_list(val, mask_val, 'val')"
   ],
   "outputs": [],
   "execution_count": 30
  },
  {
   "metadata": {
    "ExecuteTime": {
     "end_time": "2024-10-22T18:17:06.525452Z",
     "start_time": "2024-10-22T18:17:06.524385Z"
    }
   },
   "cell_type": "code",
   "source": "",
   "outputs": [],
   "execution_count": 30
  },
  {
   "metadata": {},
   "cell_type": "markdown",
   "source": "#### Masking out the files"
  },
  {
   "metadata": {
    "ExecuteTime": {
     "end_time": "2024-10-22T18:17:07.060016Z",
     "start_time": "2024-10-22T18:17:06.525933Z"
    }
   },
   "cell_type": "code",
   "source": "mask_files(input_dir= './val/', output_dir='./val/',shapefile='shape_file.shp')",
   "outputs": [],
   "execution_count": 31
  },
  {
   "metadata": {
    "ExecuteTime": {
     "end_time": "2024-10-22T18:17:07.525348Z",
     "start_time": "2024-10-22T18:17:07.060663Z"
    }
   },
   "cell_type": "code",
   "source": "mask_files(input_dir= './test/', output_dir='./test/',shapefile='shape_file.shp')",
   "outputs": [],
   "execution_count": 32
  },
  {
   "metadata": {
    "ExecuteTime": {
     "end_time": "2024-10-22T18:17:10.971576Z",
     "start_time": "2024-10-22T18:17:07.526040Z"
    }
   },
   "cell_type": "code",
   "source": [
    "mask_files(input_dir= './train/', output_dir='./train/',shapefile='shape_file.shp')\n",
    "mask_files(input_dir= './train_mask/', output_dir='./train_mask/',shapefile='shape_file.shp')"
   ],
   "outputs": [],
   "execution_count": 33
  },
  {
   "metadata": {
    "ExecuteTime": {
     "end_time": "2024-10-22T18:17:11.306489Z",
     "start_time": "2024-10-22T18:17:10.972262Z"
    }
   },
   "cell_type": "code",
   "source": "mask_files(input_dir= './val_mask/', output_dir='./val_mask/',shapefile='shape_file.shp')",
   "outputs": [],
   "execution_count": 34
  },
  {
   "metadata": {
    "ExecuteTime": {
     "end_time": "2024-10-22T18:17:11.640235Z",
     "start_time": "2024-10-22T18:17:11.307134Z"
    }
   },
   "cell_type": "code",
   "source": "mask_files(input_dir= './test_mask/', output_dir='./test_mask/',shapefile='shape_file.shp')",
   "outputs": [],
   "execution_count": 35
  },
  {
   "metadata": {},
   "cell_type": "markdown",
   "source": ""
  },
  {
   "metadata": {},
   "cell_type": "markdown",
   "source": "#### Creating Lackens Mask"
  },
  {
   "metadata": {
    "ExecuteTime": {
     "end_time": "2024-10-22T18:17:12.039752Z",
     "start_time": "2024-10-22T18:17:11.640921Z"
    }
   },
   "cell_type": "code",
   "source": [
    "create_lacken_mask(input_dir= './val_mask/', output_dir='./val_mask_lacken/')\n",
    "create_lacken_mask(input_dir= './train_mask/', output_dir='./train_mask_lacken/')\n",
    "create_lacken_mask(input_dir= './test_mask/', output_dir='./test_mask_lacken/')"
   ],
   "outputs": [],
   "execution_count": 36
  },
  {
   "metadata": {
    "ExecuteTime": {
     "end_time": "2024-10-22T18:17:12.275645Z",
     "start_time": "2024-10-22T18:17:12.042042Z"
    }
   },
   "cell_type": "code",
   "source": "mask_files(input_dir= './test_mask_lacken/', output_dir='./test_mask_lacken/',shapefile='shape_file.shp')",
   "outputs": [],
   "execution_count": 37
  },
  {
   "metadata": {
    "ExecuteTime": {
     "end_time": "2024-10-22T18:17:13.188558Z",
     "start_time": "2024-10-22T18:17:12.276348Z"
    }
   },
   "cell_type": "code",
   "source": [
    "\n",
    "mask_files(input_dir= './train_mask_lacken/', output_dir='./train_mask_lacken/',shapefile='shape_file.shp')\n"
   ],
   "outputs": [],
   "execution_count": 38
  },
  {
   "metadata": {
    "ExecuteTime": {
     "end_time": "2024-10-22T18:17:13.425068Z",
     "start_time": "2024-10-22T18:17:13.189209Z"
    }
   },
   "cell_type": "code",
   "source": "mask_files(input_dir= './val_mask_lacken/', output_dir='./val_mask_lacken/',shapefile='shape_file.shp')",
   "outputs": [],
   "execution_count": 39
  },
  {
   "metadata": {},
   "cell_type": "code",
   "outputs": [],
   "execution_count": null,
   "source": ""
  },
  {
   "metadata": {},
   "cell_type": "markdown",
   "source": ""
  },
  {
   "metadata": {
    "ExecuteTime": {
     "end_time": "2024-10-20T08:54:28.532648Z",
     "start_time": "2024-10-20T08:54:27.960436Z"
    }
   },
   "cell_type": "code",
   "source": [
    "x = rasterio.open(test_img)\n",
    "image_data = x.read(1)\n",
    "plt.imshow(image_data)\n",
    "plt.title(\"Merged image\")"
   ],
   "outputs": [
    {
     "data": {
      "text/plain": [
       "Text(0.5, 1.0, 'Merged image')"
      ]
     },
     "execution_count": 208,
     "metadata": {},
     "output_type": "execute_result"
    },
    {
     "data": {
      "text/plain": [
       "<Figure size 640x480 with 1 Axes>"
      ],
      "image/png": "[encoded data removed]"
     },
     "metadata": {},
     "output_type": "display_data"
    }
   ],
   "execution_count": 208
  },
  {
   "metadata": {
    "ExecuteTime": {
     "end_time": "2024-10-20T08:54:29.679799Z",
     "start_time": "2024-10-20T08:54:29.316006Z"
    }
   },
   "cell_type": "code",
   "source": [
    "x = rasterio.open(test_mask)\n",
    "image_data = x.read(1)\n",
    "plt.imshow(image_data)\n",
    "plt.title(\"Merged image\")\n",
    "plt.figsize = (4, 6)"
   ],
   "outputs": [
    {
     "data": {
      "text/plain": [
       "<Figure size 640x480 with 1 Axes>"
      ],
      "image/png": "[encoded data removed]"
     },
     "metadata": {},
     "output_type": "display_data"
    }
   ],
   "execution_count": 209
  },
  {
   "metadata": {},
   "cell_type": "markdown",
   "source": "#### Offline Augmentations"
  },
  {
   "metadata": {
    "ExecuteTime": {
     "end_time": "2024-10-21T18:18:22.844243Z",
     "start_time": "2024-10-21T18:18:22.827290Z"
    }
   },
   "cell_type": "code",
   "source": [
    "augment_images_and_masks(\n",
    "    images_folder='train',\n",
    "    mask_folder='train_mask',\n",
    "    lacken_mask_folder='train_mask_lacken',\n",
    "    save_folder='./augmentations/',\n",
    "    rotation_deg=[-15, -10, -5, 0, 5, 10, 15],\n",
    "    X_flip=[0, 1],\n",
    "    Y_flip=[0, 1]\n",
    ")\n"
   ],
   "outputs": [],
   "execution_count": 11
  },
  {
   "metadata": {
    "ExecuteTime": {
     "end_time": "2024-10-22T18:07:32.255186Z",
     "start_time": "2024-10-22T18:07:32.252973Z"
    }
   },
   "cell_type": "code",
   "source": [
    "augment_images_and_masks(\n",
    "    images_folder='val',\n",
    "    mask_folder='val_mask',\n",
    "    lacken_mask_folder='val_mask_lacken',\n",
    "    save_folder='./augmentations/',\n",
    "    rotation_deg=[ -10, -5, 0, 5, 10],\n",
    "    X_flip=[0, 1],\n",
    "    Y_flip=[0, 1]\n",
    ")"
   ],
   "outputs": [],
   "execution_count": null
  },
  {
   "metadata": {
    "ExecuteTime": {
     "end_time": "2024-10-22T18:07:46.535478Z",
     "start_time": "2024-10-22T18:07:46.533778Z"
    }
   },
   "cell_type": "code",
   "source": [
    "augment_images_and_masks(\n",
    "    images_folder='test',\n",
    "    mask_folder='test_mask',\n",
    "    lacken_mask_folder='test_mask_lacken',\n",
    "    save_folder='./augmentations/',\n",
    "    rotation_deg=[0],\n",
    "    X_flip=[0, 1],\n",
    "    Y_flip=[0, 1]\n",
    ")"
   ],
   "outputs": [],
   "execution_count": null
  },
  {
   "metadata": {
    "ExecuteTime": {
     "end_time": "2024-10-22T18:10:05.301676Z",
     "start_time": "2024-10-22T18:10:05.299541Z"
    }
   },
   "cell_type": "code",
   "source": "",
   "outputs": [],
   "execution_count": 5
  },
  {
   "metadata": {
    "ExecuteTime": {
     "end_time": "2024-10-22T18:10:05.563305Z",
     "start_time": "2024-10-22T18:10:05.561920Z"
    }
   },
   "cell_type": "code",
   "source": "",
   "outputs": [],
   "execution_count": 5
  },
  {
   "metadata": {},
   "cell_type": "code",
   "outputs": [],
   "execution_count": null,
   "source": ""
  }
 ],
 "metadata": {
  "interpreter": {
   "hash": "a22dc5ae7fc477c7dc0ddcf7ca05df53916433d77549bc0f1c55442bcc548058"
  },
  "kernelspec": {
   "display_name": "Python 3.10.14 ('intproject')",
   "language": "python",
   "name": "python3"
  },
  "language_info": {
   "codemirror_mode": {
    "name": "ipython",
    "version": 3
   },
   "file_extension": ".py",
   "mimetype": "text/x-python",
   "name": "python",
   "nbconvert_exporter": "python",
   "pygments_lexer": "ipython3",
   "version": "3.10.14"
  },
  "orig_nbformat": 4
 },
 "nbformat": 4,
 "nbformat_minor": 2
}
